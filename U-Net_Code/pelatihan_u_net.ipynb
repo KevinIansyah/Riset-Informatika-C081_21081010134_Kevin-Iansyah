{
  "nbformat": 4,
  "nbformat_minor": 0,
  "metadata": {
    "colab": {
      "provenance": [],
      "gpuType": "A100",
      "machine_shape": "hm"
    },
    "kernelspec": {
      "name": "python3",
      "display_name": "Python 3"
    },
    "language_info": {
      "name": "python"
    },
    "accelerator": "GPU"
  },
  "cells": [
    {
      "cell_type": "code",
      "source": [
        "import torch\n",
        "import torch.nn as nn\n",
        "import torch.optim as optim\n",
        "from torch.utils.data import Dataset, DataLoader\n",
        "from torchvision import transforms\n",
        "from PIL import Image\n",
        "import os\n",
        "from tqdm import tqdm\n",
        "import numpy as np\n",
        "import matplotlib.pyplot as plt\n",
        "import random\n",
        "import glob"
      ],
      "metadata": {
        "id": "psiIcsznNHwp"
      },
      "execution_count": null,
      "outputs": []
    },
    {
      "cell_type": "code",
      "execution_count": null,
      "metadata": {
        "id": "4T7hRx5kFxUD"
      },
      "outputs": [],
      "source": [
        "class DoubleConv(nn.Module):\n",
        "    def __init__(self, in_channels, out_channels):\n",
        "        super().__init__()\n",
        "        self.double_conv = nn.Sequential(\n",
        "            nn.Conv2d(in_channels, out_channels, kernel_size=3, padding=1),\n",
        "            nn.BatchNorm2d(out_channels),\n",
        "            nn.ReLU(inplace=True),\n",
        "            nn.Conv2d(out_channels, out_channels, kernel_size=3, padding=1),\n",
        "            nn.BatchNorm2d(out_channels),\n",
        "            nn.ReLU(inplace=True)\n",
        "        )\n",
        "\n",
        "    def forward(self, x):\n",
        "        return self.double_conv(x)\n",
        "\n",
        "class Encoder(nn.Module):\n",
        "    def __init__(self, in_channels):\n",
        "        super().__init__()\n",
        "        self.enc1 = DoubleConv(in_channels, 64)\n",
        "        self.enc2 = DoubleConv(64, 128)\n",
        "        self.enc3 = DoubleConv(128, 256)\n",
        "        self.enc4 = DoubleConv(256, 512)\n",
        "        self.pool = nn.MaxPool2d(2, 2)\n",
        "\n",
        "    def forward(self, x):\n",
        "        enc1 = self.enc1(x)\n",
        "        enc2 = self.enc2(self.pool(enc1))\n",
        "        enc3 = self.enc3(self.pool(enc2))\n",
        "        enc4 = self.enc4(self.pool(enc3))\n",
        "        return enc1, enc2, enc3, enc4\n",
        "\n",
        "class Bottleneck(nn.Module):\n",
        "    def __init__(self):\n",
        "        super().__init__()\n",
        "        self.bottleneck = nn.Sequential(\n",
        "            nn.MaxPool2d(2, 2),\n",
        "            nn.Conv2d(512, 1024, kernel_size=3, padding=1),\n",
        "            nn.BatchNorm2d(1024),\n",
        "            nn.ReLU(inplace=True),\n",
        "            nn.Conv2d(1024, 1024, kernel_size=3, padding=1),\n",
        "            nn.BatchNorm2d(1024),\n",
        "            nn.ReLU(inplace=True),\n",
        "        )\n",
        "\n",
        "    def forward(self, x):\n",
        "        return self.bottleneck(x)\n",
        "\n",
        "class Decoder(nn.Module):\n",
        "    def __init__(self):\n",
        "        super().__init__()\n",
        "        self.upconv4 = nn.ConvTranspose2d(1024, 512, 2, stride=2)\n",
        "        self.dec4 = DoubleConv(1024, 512)\n",
        "        self.upconv3 = nn.ConvTranspose2d(512, 256, 2, stride=2)\n",
        "        self.dec3 = DoubleConv(512, 256)\n",
        "        self.upconv2 = nn.ConvTranspose2d(256, 128, 2, stride=2)\n",
        "        self.dec2 = DoubleConv(256, 128)\n",
        "        self.upconv1 = nn.ConvTranspose2d(128, 64, 2, stride=2)\n",
        "        self.dec1 = DoubleConv(128, 64)\n",
        "\n",
        "    def forward(self, bottleneck, skip1, skip2, skip3, skip4):\n",
        "        dec4 = self.upconv4(bottleneck)\n",
        "        dec4 = torch.cat([dec4, skip4], dim=1)\n",
        "        dec4 = self.dec4(dec4)\n",
        "\n",
        "        dec3 = self.upconv3(dec4)\n",
        "        dec3 = torch.cat([dec3, skip3], dim=1)\n",
        "        dec3 = self.dec3(dec3)\n",
        "\n",
        "        dec2 = self.upconv2(dec3)\n",
        "        dec2 = torch.cat([dec2, skip2], dim=1)\n",
        "        dec2 = self.dec2(dec2)\n",
        "\n",
        "        dec1 = self.upconv1(dec2)\n",
        "        dec1 = torch.cat([dec1, skip1], dim=1)\n",
        "        dec1 = self.dec1(dec1)\n",
        "        return dec1\n",
        "\n",
        "class UNet(nn.Module):\n",
        "    def __init__(self, in_channels=1, out_channels=1):  # Ubah ke 1 channel\n",
        "        super().__init__()\n",
        "        self.encoder = Encoder(in_channels)\n",
        "        self.bottleneck = Bottleneck()\n",
        "        self.decoder = Decoder()\n",
        "        self.final_conv = nn.Conv2d(64, out_channels, 1)\n",
        "\n",
        "    def forward(self, x):\n",
        "        skip1, skip2, skip3, skip4 = self.encoder(x)\n",
        "        bottleneck = self.bottleneck(skip4)\n",
        "        decoded = self.decoder(bottleneck, skip1, skip2, skip3, skip4)\n",
        "        return self.final_conv(decoded)"
      ]
    },
    {
      "cell_type": "code",
      "source": [
        "# Custom Dataset\n",
        "class SatelliteDataset(Dataset):\n",
        "    def __init__(self, image_dir, transform=None):\n",
        "        self.image_dir = image_dir\n",
        "        self.transform = transform\n",
        "        self.images = glob.glob(os.path.join(image_dir, \"*.jpg\")) + \\\n",
        "                     glob.glob(os.path.join(image_dir, \"*.png\"))\n",
        "\n",
        "    def add_noise(self, image):\n",
        "        # Menambahkan berbagai jenis noise\n",
        "        noise_type = random.choice(['gaussian', 'salt_pepper', 'speckle'])\n",
        "\n",
        "        if noise_type == 'gaussian':\n",
        "            # Gaussian noise\n",
        "            mean = 0\n",
        "            sigma = random.uniform(0.02, 0.1)\n",
        "            noise = torch.normal(mean, sigma, image.shape)\n",
        "            noisy_image = image + noise\n",
        "\n",
        "        elif noise_type == 'salt_pepper':\n",
        "            # Salt and pepper noise\n",
        "            prob = random.uniform(0.02, 0.1)\n",
        "            noise = torch.rand(image.shape)\n",
        "            salt = (noise > 1 - prob/2).float()\n",
        "            pepper = (noise < prob/2).float()\n",
        "            noisy_image = image * (1 - salt - pepper) + salt\n",
        "\n",
        "        else:  # Speckle\n",
        "            # Speckle noise\n",
        "            intensity = random.uniform(0.05, 0.2)\n",
        "            noise = torch.randn(image.shape) * intensity\n",
        "            noisy_image = image + image * noise\n",
        "\n",
        "        # Clip values to valid range [0, 1]\n",
        "        return torch.clamp(noisy_image, 0, 1)\n",
        "\n",
        "    def __len__(self):\n",
        "        return len(self.images)\n",
        "\n",
        "    def __getitem__(self, idx):\n",
        "        img_path = self.images[idx]\n",
        "        # Baca gambar sebagai grayscale langsung\n",
        "        image = Image.open(img_path).convert('L')\n",
        "\n",
        "        if self.transform:\n",
        "            image = self.transform(image)\n",
        "\n",
        "        # Original image sebagai target (clean)\n",
        "        target = image.clone()\n",
        "        # Menambahkan noise pada input image\n",
        "        noisy_image = self.add_noise(image)\n",
        "\n",
        "        # Menambah dimensi channel (1 channel untuk grayscale)\n",
        "        noisy_image = noisy_image.unsqueeze(0) if noisy_image.dim() == 2 else noisy_image\n",
        "        target = target.unsqueeze(0) if target.dim() == 2 else target\n",
        "\n",
        "        return noisy_image, target"
      ],
      "metadata": {
        "id": "iqt9V5JF-K_t"
      },
      "execution_count": null,
      "outputs": []
    },
    {
      "cell_type": "code",
      "source": [
        "# Cek dataset in drive\n",
        "train_dir = '/content/drive/MyDrive/Dataset/satellit_dataset/Train'\n",
        "valid_dir = '/content/drive/MyDrive/Dataset/satellit_dataset/Val'\n",
        "\n",
        "def check_directory(dir_path):\n",
        "    if os.path.exists(dir_path):\n",
        "        print(f\"Direktori '{dir_path}' ada.\")\n",
        "    else:\n",
        "        print(f\"Direktori '{dir_path}' tidak ada.\")\n",
        "\n",
        "check_directory(train_dir)\n",
        "check_directory(valid_dir)"
      ],
      "metadata": {
        "colab": {
          "base_uri": "https://localhost:8080/"
        },
        "id": "Zm8ym0RiETJy",
        "outputId": "221e0a83-f8e3-44b6-9fa7-bdf802a36d02"
      },
      "execution_count": null,
      "outputs": [
        {
          "output_type": "stream",
          "name": "stdout",
          "text": [
            "Direktori '/content/drive/MyDrive/Dataset/satellit_dataset/Train' ada.\n",
            "Direktori '/content/drive/MyDrive/Dataset/satellit_dataset/Val' ada.\n"
          ]
        }
      ]
    },
    {
      "cell_type": "code",
      "source": [
        "# Training function dengan visualisasi hasil\n",
        "def train_model(model, train_loader, valid_loader, criterion, optimizer, num_epochs, device, save_dir):\n",
        "    history = {\n",
        "        'train_loss': [],\n",
        "        'valid_loss': [],\n",
        "    }\n",
        "\n",
        "    best_valid_loss = float('inf')\n",
        "\n",
        "    for epoch in range(num_epochs):\n",
        "        # Training phase\n",
        "        model.train()\n",
        "        train_loss = 0\n",
        "        train_pbar = tqdm(train_loader, desc=f'Epoch {epoch+1}/{num_epochs} [Training]')\n",
        "\n",
        "        for batch_idx, (noisy_imgs, target_imgs) in enumerate(train_pbar):\n",
        "            noisy_imgs, target_imgs = noisy_imgs.to(device), target_imgs.to(device)\n",
        "\n",
        "            optimizer.zero_grad()\n",
        "            outputs = model(noisy_imgs)\n",
        "            loss = criterion(outputs, target_imgs)\n",
        "\n",
        "            loss.backward()\n",
        "            optimizer.step()\n",
        "\n",
        "            train_loss += loss.item()\n",
        "            train_pbar.set_postfix({'loss': loss.item()})\n",
        "\n",
        "            # Visualisasi hasil setiap 100 batch\n",
        "            if batch_idx % 100 == 0:\n",
        "                with torch.no_grad():\n",
        "                    # Ambil satu gambar dari batch\n",
        "                    fig, axes = plt.subplots(1, 3, figsize=(15, 5))\n",
        "\n",
        "                    # Plot noisy input\n",
        "                    axes[0].imshow(noisy_imgs[0].cpu().squeeze(), cmap='gray')\n",
        "                    axes[0].set_title('Noisy Input')\n",
        "                    axes[0].axis('off')\n",
        "\n",
        "                    # Plot clean target\n",
        "                    axes[1].imshow(target_imgs[0].cpu().squeeze(), cmap='gray')\n",
        "                    axes[1].set_title('Clean Target')\n",
        "                    axes[1].axis('off')\n",
        "\n",
        "                    # Plot prediction\n",
        "                    axes[2].imshow(outputs[0].cpu().detach().squeeze(), cmap='gray')\n",
        "                    axes[2].set_title('Model Prediction')\n",
        "                    axes[2].axis('off')\n",
        "\n",
        "                    plt.savefig(os.path.join(save_dir, f'progress_epoch{epoch+1}_batch{batch_idx}.png'))\n",
        "                    plt.close()\n",
        "\n",
        "        avg_train_loss = train_loss / len(train_loader)\n",
        "        history['train_loss'].append(avg_train_loss)\n",
        "\n",
        "        # Validation phase\n",
        "        model.eval()\n",
        "        valid_loss = 0\n",
        "        valid_pbar = tqdm(valid_loader, desc=f'Epoch {epoch+1}/{num_epochs} [Validation]')\n",
        "\n",
        "        with torch.no_grad():\n",
        "            for batch_idx, (noisy_imgs, target_imgs) in enumerate(valid_pbar):\n",
        "                noisy_imgs, target_imgs = noisy_imgs.to(device), target_imgs.to(device)\n",
        "\n",
        "                outputs = model(noisy_imgs)\n",
        "                loss = criterion(outputs, target_imgs)\n",
        "\n",
        "                valid_loss += loss.item()\n",
        "                valid_pbar.set_postfix({'loss': loss.item()})\n",
        "\n",
        "        avg_valid_loss = valid_loss / len(valid_loader)\n",
        "        history['valid_loss'].append(avg_valid_loss)\n",
        "\n",
        "        print(f'\\nEpoch {epoch+1}/{num_epochs}:')\n",
        "        print(f'Average Training Loss: {avg_train_loss:.4f}')\n",
        "        print(f'Average Validation Loss: {avg_valid_loss:.4f}')\n",
        "\n",
        "        # Save best model\n",
        "        if avg_valid_loss < best_valid_loss:\n",
        "            best_valid_loss = avg_valid_loss\n",
        "            torch.save({\n",
        "                'epoch': epoch,\n",
        "                'model_state_dict': model.state_dict(),\n",
        "                'optimizer_state_dict': optimizer.state_dict(),\n",
        "                'train_loss': avg_train_loss,\n",
        "                'valid_loss': avg_valid_loss,\n",
        "            }, os.path.join(save_dir, 'best_model.pth'))\n",
        "            print(f'Model saved at epoch {epoch+1}')\n",
        "\n",
        "        # Plot learning curves\n",
        "        plt.figure(figsize=(10, 5))\n",
        "        plt.plot(history['train_loss'], label='Training Loss')\n",
        "        plt.plot(history['valid_loss'], label='Validation Loss')\n",
        "        plt.title('Learning Curves')\n",
        "        plt.xlabel('Epoch')\n",
        "        plt.ylabel('Loss')\n",
        "        plt.legend()\n",
        "        plt.grid(True)\n",
        "        plt.savefig(os.path.join(save_dir, 'learning_curves.png'))\n",
        "        plt.close()\n",
        "\n",
        "    return history\n",
        "\n",
        "# Main training pipeline\n",
        "def main():\n",
        "    # Set device\n",
        "    device = torch.device('cuda' if torch.cuda.is_available() else 'cpu')\n",
        "    print(f'Using device: {device}')\n",
        "\n",
        "    # Hyperparameters\n",
        "    BATCH_SIZE = 8\n",
        "    NUM_EPOCHS = 50\n",
        "    LEARNING_RATE = 0.001\n",
        "    IMAGE_SIZE = 256\n",
        "\n",
        "    # Transform\n",
        "    transform = transforms.Compose([\n",
        "        transforms.Resize((IMAGE_SIZE, IMAGE_SIZE)),\n",
        "        transforms.ToTensor(),\n",
        "    ])\n",
        "\n",
        "    # Create datasets\n",
        "    train_dataset = SatelliteDataset(\n",
        "        image_dir='/content/drive/MyDrive/Dataset/satellit_dataset/Train',\n",
        "        transform=transform\n",
        "    )\n",
        "\n",
        "    valid_dataset = SatelliteDataset(\n",
        "        image_dir='/content/drive/MyDrive/Dataset/satellit_dataset/Val',\n",
        "        transform=transform\n",
        "    )\n",
        "\n",
        "    # Create dataloaders\n",
        "    train_loader = DataLoader(\n",
        "        train_dataset,\n",
        "        batch_size=BATCH_SIZE,\n",
        "        shuffle=True,\n",
        "        num_workers=2\n",
        "    )\n",
        "\n",
        "    valid_loader = DataLoader(\n",
        "        valid_dataset,\n",
        "        batch_size=BATCH_SIZE,\n",
        "        shuffle=False,\n",
        "        num_workers=2\n",
        "    )\n",
        "\n",
        "    # Initialize model, criterion, and optimizer\n",
        "    model = UNet(in_channels=1, out_channels=1).to(device)  # Ubah ke 1 channel\n",
        "    criterion = nn.MSELoss()\n",
        "    optimizer = optim.Adam(model.parameters(), lr=LEARNING_RATE)\n",
        "\n",
        "    # Create directory for saving model and plots\n",
        "    save_dir = '/content/drive/MyDrive/Dataset/satellit_dataset/model_saves'\n",
        "    os.makedirs(save_dir, exist_ok=True)\n",
        "\n",
        "    # Train model\n",
        "    history = train_model(\n",
        "        model=model,\n",
        "        train_loader=train_loader,\n",
        "        valid_loader=valid_loader,\n",
        "        criterion=criterion,\n",
        "        optimizer=optimizer,\n",
        "        num_epochs=NUM_EPOCHS,\n",
        "        device=device,\n",
        "        save_dir=save_dir\n",
        "    )\n",
        "\n",
        "    print(\"Training completed!\")\n",
        "\n",
        "if __name__ == \"__main__\":\n",
        "    main()"
      ],
      "metadata": {
        "colab": {
          "base_uri": "https://localhost:8080/"
        },
        "id": "r9OBD8JYA2dt",
        "outputId": "56e57b73-7a9e-4894-e712-240f7beb094c"
      },
      "execution_count": null,
      "outputs": [
        {
          "output_type": "stream",
          "name": "stdout",
          "text": [
            "Using device: cuda\n"
          ]
        },
        {
          "output_type": "stream",
          "name": "stderr",
          "text": [
            "Epoch 1/50 [Training]: 100%|██████████| 1005/1005 [08:09<00:00,  2.05it/s, loss=0.00313]\n",
            "Epoch 1/50 [Validation]:  89%|████████▉ | 223/250 [09:44<01:10,  2.60s/it, loss=0.00149]/usr/local/lib/python3.10/dist-packages/PIL/Image.py:3406: DecompressionBombWarning: Image size (94720000 pixels) exceeds limit of 89478485 pixels, could be decompression bomb DOS attack.\n",
            "  warnings.warn(\n",
            "Epoch 1/50 [Validation]: 100%|██████████| 250/250 [10:57<00:00,  2.63s/it, loss=0.00104]\n"
          ]
        },
        {
          "output_type": "stream",
          "name": "stdout",
          "text": [
            "\n",
            "Epoch 1/50:\n",
            "Average Training Loss: 0.0049\n",
            "Average Validation Loss: 0.0015\n",
            "Model saved at epoch 1\n"
          ]
        },
        {
          "output_type": "stream",
          "name": "stderr",
          "text": [
            "Epoch 2/50 [Training]: 100%|██████████| 1005/1005 [01:19<00:00, 12.65it/s, loss=0.0033]\n",
            "Epoch 2/50 [Validation]:  89%|████████▉ | 223/250 [00:15<00:01, 18.81it/s, loss=0.00113]/usr/local/lib/python3.10/dist-packages/PIL/Image.py:3406: DecompressionBombWarning: Image size (94720000 pixels) exceeds limit of 89478485 pixels, could be decompression bomb DOS attack.\n",
            "  warnings.warn(\n",
            "Epoch 2/50 [Validation]: 100%|██████████| 250/250 [00:19<00:00, 12.96it/s, loss=0.000779]\n"
          ]
        },
        {
          "output_type": "stream",
          "name": "stdout",
          "text": [
            "\n",
            "Epoch 2/50:\n",
            "Average Training Loss: 0.0030\n",
            "Average Validation Loss: 0.0012\n",
            "Model saved at epoch 2\n"
          ]
        },
        {
          "output_type": "stream",
          "name": "stderr",
          "text": [
            "Epoch 3/50 [Training]: 100%|██████████| 1005/1005 [01:19<00:00, 12.63it/s, loss=0.00429]\n",
            "Epoch 3/50 [Validation]:  89%|████████▉ | 222/250 [00:15<00:01, 18.68it/s, loss=0.000908]/usr/local/lib/python3.10/dist-packages/PIL/Image.py:3406: DecompressionBombWarning: Image size (94720000 pixels) exceeds limit of 89478485 pixels, could be decompression bomb DOS attack.\n",
            "  warnings.warn(\n",
            "Epoch 3/50 [Validation]: 100%|██████████| 250/250 [00:19<00:00, 13.14it/s, loss=0.000712]\n"
          ]
        },
        {
          "output_type": "stream",
          "name": "stdout",
          "text": [
            "\n",
            "Epoch 3/50:\n",
            "Average Training Loss: 0.0029\n",
            "Average Validation Loss: 0.0011\n",
            "Model saved at epoch 3\n"
          ]
        },
        {
          "output_type": "stream",
          "name": "stderr",
          "text": [
            "Epoch 4/50 [Training]: 100%|██████████| 1005/1005 [01:18<00:00, 12.79it/s, loss=0.00116]\n",
            "Epoch 4/50 [Validation]:  90%|████████▉ | 224/250 [00:15<00:01, 18.86it/s, loss=0.00114]/usr/local/lib/python3.10/dist-packages/PIL/Image.py:3406: DecompressionBombWarning: Image size (94720000 pixels) exceeds limit of 89478485 pixels, could be decompression bomb DOS attack.\n",
            "  warnings.warn(\n",
            "Epoch 4/50 [Validation]: 100%|██████████| 250/250 [00:19<00:00, 13.08it/s, loss=0.00107]\n"
          ]
        },
        {
          "output_type": "stream",
          "name": "stdout",
          "text": [
            "\n",
            "Epoch 4/50:\n",
            "Average Training Loss: 0.0026\n",
            "Average Validation Loss: 0.0013\n"
          ]
        },
        {
          "output_type": "stream",
          "name": "stderr",
          "text": [
            "Epoch 5/50 [Training]: 100%|██████████| 1005/1005 [01:17<00:00, 12.93it/s, loss=0.00232]\n",
            "Epoch 5/50 [Validation]:  89%|████████▉ | 222/250 [00:15<00:01, 18.77it/s, loss=0.000657]/usr/local/lib/python3.10/dist-packages/PIL/Image.py:3406: DecompressionBombWarning: Image size (94720000 pixels) exceeds limit of 89478485 pixels, could be decompression bomb DOS attack.\n",
            "  warnings.warn(\n",
            "Epoch 5/50 [Validation]: 100%|██████████| 250/250 [00:19<00:00, 13.08it/s, loss=0.000717]\n"
          ]
        },
        {
          "output_type": "stream",
          "name": "stdout",
          "text": [
            "\n",
            "Epoch 5/50:\n",
            "Average Training Loss: 0.0023\n",
            "Average Validation Loss: 0.0009\n",
            "Model saved at epoch 5\n"
          ]
        },
        {
          "output_type": "stream",
          "name": "stderr",
          "text": [
            "Epoch 6/50 [Training]: 100%|██████████| 1005/1005 [01:18<00:00, 12.79it/s, loss=0.00153]\n",
            "Epoch 6/50 [Validation]:  89%|████████▉ | 222/250 [00:15<00:01, 20.15it/s, loss=0.000645]/usr/local/lib/python3.10/dist-packages/PIL/Image.py:3406: DecompressionBombWarning: Image size (94720000 pixels) exceeds limit of 89478485 pixels, could be decompression bomb DOS attack.\n",
            "  warnings.warn(\n",
            "Epoch 6/50 [Validation]: 100%|██████████| 250/250 [00:19<00:00, 13.12it/s, loss=0.000908]\n"
          ]
        },
        {
          "output_type": "stream",
          "name": "stdout",
          "text": [
            "\n",
            "Epoch 6/50:\n",
            "Average Training Loss: 0.0022\n",
            "Average Validation Loss: 0.0010\n"
          ]
        },
        {
          "output_type": "stream",
          "name": "stderr",
          "text": [
            "Epoch 7/50 [Training]: 100%|██████████| 1005/1005 [01:18<00:00, 12.84it/s, loss=0.00136]\n",
            "Epoch 7/50 [Validation]:  89%|████████▉ | 222/250 [00:15<00:01, 18.52it/s, loss=0.000893]/usr/local/lib/python3.10/dist-packages/PIL/Image.py:3406: DecompressionBombWarning: Image size (94720000 pixels) exceeds limit of 89478485 pixels, could be decompression bomb DOS attack.\n",
            "  warnings.warn(\n",
            "Epoch 7/50 [Validation]: 100%|██████████| 250/250 [00:19<00:00, 12.92it/s, loss=0.000814]\n"
          ]
        },
        {
          "output_type": "stream",
          "name": "stdout",
          "text": [
            "\n",
            "Epoch 7/50:\n",
            "Average Training Loss: 0.0020\n",
            "Average Validation Loss: 0.0009\n",
            "Model saved at epoch 7\n"
          ]
        },
        {
          "output_type": "stream",
          "name": "stderr",
          "text": [
            "Epoch 8/50 [Training]: 100%|██████████| 1005/1005 [01:19<00:00, 12.66it/s, loss=0.00253]\n",
            "Epoch 8/50 [Validation]:  90%|████████▉ | 224/250 [00:15<00:01, 19.16it/s, loss=0.000884]/usr/local/lib/python3.10/dist-packages/PIL/Image.py:3406: DecompressionBombWarning: Image size (94720000 pixels) exceeds limit of 89478485 pixels, could be decompression bomb DOS attack.\n",
            "  warnings.warn(\n",
            "Epoch 8/50 [Validation]: 100%|██████████| 250/250 [00:19<00:00, 13.09it/s, loss=0.000726]\n"
          ]
        },
        {
          "output_type": "stream",
          "name": "stdout",
          "text": [
            "\n",
            "Epoch 8/50:\n",
            "Average Training Loss: 0.0017\n",
            "Average Validation Loss: 0.0010\n"
          ]
        },
        {
          "output_type": "stream",
          "name": "stderr",
          "text": [
            "Epoch 9/50 [Training]: 100%|██████████| 1005/1005 [01:18<00:00, 12.82it/s, loss=0.00281]\n",
            "Epoch 9/50 [Validation]:  89%|████████▉ | 223/250 [00:15<00:01, 18.51it/s, loss=0.000683]/usr/local/lib/python3.10/dist-packages/PIL/Image.py:3406: DecompressionBombWarning: Image size (94720000 pixels) exceeds limit of 89478485 pixels, could be decompression bomb DOS attack.\n",
            "  warnings.warn(\n",
            "Epoch 9/50 [Validation]: 100%|██████████| 250/250 [00:19<00:00, 13.14it/s, loss=0.000804]\n"
          ]
        },
        {
          "output_type": "stream",
          "name": "stdout",
          "text": [
            "\n",
            "Epoch 9/50:\n",
            "Average Training Loss: 0.0016\n",
            "Average Validation Loss: 0.0009\n"
          ]
        },
        {
          "output_type": "stream",
          "name": "stderr",
          "text": [
            "Epoch 10/50 [Training]: 100%|██████████| 1005/1005 [01:17<00:00, 12.90it/s, loss=0.00103]\n",
            "Epoch 10/50 [Validation]:  89%|████████▉ | 222/250 [00:15<00:01, 20.86it/s, loss=0.000604]/usr/local/lib/python3.10/dist-packages/PIL/Image.py:3406: DecompressionBombWarning: Image size (94720000 pixels) exceeds limit of 89478485 pixels, could be decompression bomb DOS attack.\n",
            "  warnings.warn(\n",
            "Epoch 10/50 [Validation]: 100%|██████████| 250/250 [00:19<00:00, 13.04it/s, loss=0.000706]\n"
          ]
        },
        {
          "output_type": "stream",
          "name": "stdout",
          "text": [
            "\n",
            "Epoch 10/50:\n",
            "Average Training Loss: 0.0014\n",
            "Average Validation Loss: 0.0008\n",
            "Model saved at epoch 10\n"
          ]
        },
        {
          "output_type": "stream",
          "name": "stderr",
          "text": [
            "Epoch 11/50 [Training]: 100%|██████████| 1005/1005 [01:19<00:00, 12.71it/s, loss=0.00147]\n",
            "Epoch 11/50 [Validation]:  89%|████████▉ | 222/250 [00:15<00:01, 18.66it/s, loss=0.000895]/usr/local/lib/python3.10/dist-packages/PIL/Image.py:3406: DecompressionBombWarning: Image size (94720000 pixels) exceeds limit of 89478485 pixels, could be decompression bomb DOS attack.\n",
            "  warnings.warn(\n",
            "Epoch 11/50 [Validation]: 100%|██████████| 250/250 [00:18<00:00, 13.22it/s, loss=0.00082]\n"
          ]
        },
        {
          "output_type": "stream",
          "name": "stdout",
          "text": [
            "\n",
            "Epoch 11/50:\n",
            "Average Training Loss: 0.0013\n",
            "Average Validation Loss: 0.0008\n"
          ]
        },
        {
          "output_type": "stream",
          "name": "stderr",
          "text": [
            "Epoch 12/50 [Training]: 100%|██████████| 1005/1005 [01:17<00:00, 12.94it/s, loss=0.00114]\n",
            "Epoch 12/50 [Validation]:  89%|████████▉ | 222/250 [00:15<00:01, 16.10it/s, loss=0.000835]/usr/local/lib/python3.10/dist-packages/PIL/Image.py:3406: DecompressionBombWarning: Image size (94720000 pixels) exceeds limit of 89478485 pixels, could be decompression bomb DOS attack.\n",
            "  warnings.warn(\n",
            "Epoch 12/50 [Validation]: 100%|██████████| 250/250 [00:19<00:00, 12.99it/s, loss=0.000703]\n"
          ]
        },
        {
          "output_type": "stream",
          "name": "stdout",
          "text": [
            "\n",
            "Epoch 12/50:\n",
            "Average Training Loss: 0.0011\n",
            "Average Validation Loss: 0.0009\n"
          ]
        },
        {
          "output_type": "stream",
          "name": "stderr",
          "text": [
            "Epoch 13/50 [Training]: 100%|██████████| 1005/1005 [01:17<00:00, 12.98it/s, loss=0.000656]\n",
            "Epoch 13/50 [Validation]:  89%|████████▉ | 223/250 [00:15<00:01, 19.14it/s, loss=0.00134]/usr/local/lib/python3.10/dist-packages/PIL/Image.py:3406: DecompressionBombWarning: Image size (94720000 pixels) exceeds limit of 89478485 pixels, could be decompression bomb DOS attack.\n",
            "  warnings.warn(\n",
            "Epoch 13/50 [Validation]: 100%|██████████| 250/250 [00:19<00:00, 13.00it/s, loss=0.000804]\n"
          ]
        },
        {
          "output_type": "stream",
          "name": "stdout",
          "text": [
            "\n",
            "Epoch 13/50:\n",
            "Average Training Loss: 0.0011\n",
            "Average Validation Loss: 0.0014\n"
          ]
        },
        {
          "output_type": "stream",
          "name": "stderr",
          "text": [
            "Epoch 14/50 [Training]: 100%|██████████| 1005/1005 [01:17<00:00, 12.89it/s, loss=0.000892]\n",
            "Epoch 14/50 [Validation]:  88%|████████▊ | 221/250 [00:16<00:01, 17.80it/s, loss=0.000738]/usr/local/lib/python3.10/dist-packages/PIL/Image.py:3406: DecompressionBombWarning: Image size (94720000 pixels) exceeds limit of 89478485 pixels, could be decompression bomb DOS attack.\n",
            "  warnings.warn(\n",
            "Epoch 14/50 [Validation]: 100%|██████████| 250/250 [00:19<00:00, 12.69it/s, loss=0.000404]\n"
          ]
        },
        {
          "output_type": "stream",
          "name": "stdout",
          "text": [
            "\n",
            "Epoch 14/50:\n",
            "Average Training Loss: 0.0010\n",
            "Average Validation Loss: 0.0007\n",
            "Model saved at epoch 14\n"
          ]
        },
        {
          "output_type": "stream",
          "name": "stderr",
          "text": [
            "Epoch 15/50 [Training]: 100%|██████████| 1005/1005 [01:21<00:00, 12.38it/s, loss=0.00126]\n",
            "Epoch 15/50 [Validation]:  89%|████████▉ | 222/250 [00:15<00:01, 18.31it/s, loss=0.000665]/usr/local/lib/python3.10/dist-packages/PIL/Image.py:3406: DecompressionBombWarning: Image size (94720000 pixels) exceeds limit of 89478485 pixels, could be decompression bomb DOS attack.\n",
            "  warnings.warn(\n",
            "Epoch 15/50 [Validation]: 100%|██████████| 250/250 [00:19<00:00, 12.96it/s, loss=0.000515]\n"
          ]
        },
        {
          "output_type": "stream",
          "name": "stdout",
          "text": [
            "\n",
            "Epoch 15/50:\n",
            "Average Training Loss: 0.0009\n",
            "Average Validation Loss: 0.0007\n"
          ]
        },
        {
          "output_type": "stream",
          "name": "stderr",
          "text": [
            "Epoch 16/50 [Training]: 100%|██████████| 1005/1005 [01:18<00:00, 12.82it/s, loss=0.00066]\n",
            "Epoch 16/50 [Validation]:  89%|████████▉ | 222/250 [00:16<00:01, 18.46it/s, loss=0.00103]/usr/local/lib/python3.10/dist-packages/PIL/Image.py:3406: DecompressionBombWarning: Image size (94720000 pixels) exceeds limit of 89478485 pixels, could be decompression bomb DOS attack.\n",
            "  warnings.warn(\n",
            "Epoch 16/50 [Validation]: 100%|██████████| 250/250 [00:19<00:00, 12.82it/s, loss=0.000685]\n"
          ]
        },
        {
          "output_type": "stream",
          "name": "stdout",
          "text": [
            "\n",
            "Epoch 16/50:\n",
            "Average Training Loss: 0.0009\n",
            "Average Validation Loss: 0.0011\n"
          ]
        },
        {
          "output_type": "stream",
          "name": "stderr",
          "text": [
            "Epoch 17/50 [Training]: 100%|██████████| 1005/1005 [01:19<00:00, 12.71it/s, loss=0.00103]\n",
            "Epoch 17/50 [Validation]:  89%|████████▉ | 222/250 [00:16<00:01, 19.43it/s, loss=0.000587]/usr/local/lib/python3.10/dist-packages/PIL/Image.py:3406: DecompressionBombWarning: Image size (94720000 pixels) exceeds limit of 89478485 pixels, could be decompression bomb DOS attack.\n",
            "  warnings.warn(\n",
            "Epoch 17/50 [Validation]: 100%|██████████| 250/250 [00:19<00:00, 12.91it/s, loss=0.000746]\n"
          ]
        },
        {
          "output_type": "stream",
          "name": "stdout",
          "text": [
            "\n",
            "Epoch 17/50:\n",
            "Average Training Loss: 0.0009\n",
            "Average Validation Loss: 0.0009\n"
          ]
        },
        {
          "output_type": "stream",
          "name": "stderr",
          "text": [
            "Epoch 18/50 [Training]: 100%|██████████| 1005/1005 [01:18<00:00, 12.73it/s, loss=0.000818]\n",
            "Epoch 18/50 [Validation]:  89%|████████▉ | 222/250 [00:15<00:01, 19.91it/s, loss=0.000403]/usr/local/lib/python3.10/dist-packages/PIL/Image.py:3406: DecompressionBombWarning: Image size (94720000 pixels) exceeds limit of 89478485 pixels, could be decompression bomb DOS attack.\n",
            "  warnings.warn(\n",
            "Epoch 18/50 [Validation]: 100%|██████████| 250/250 [00:19<00:00, 13.02it/s, loss=0.000454]\n"
          ]
        },
        {
          "output_type": "stream",
          "name": "stdout",
          "text": [
            "\n",
            "Epoch 18/50:\n",
            "Average Training Loss: 0.0008\n",
            "Average Validation Loss: 0.0007\n"
          ]
        },
        {
          "output_type": "stream",
          "name": "stderr",
          "text": [
            "Epoch 19/50 [Training]: 100%|██████████| 1005/1005 [01:18<00:00, 12.79it/s, loss=0.00106]\n",
            "Epoch 19/50 [Validation]:  89%|████████▉ | 222/250 [00:16<00:01, 20.45it/s, loss=0.000659]/usr/local/lib/python3.10/dist-packages/PIL/Image.py:3406: DecompressionBombWarning: Image size (94720000 pixels) exceeds limit of 89478485 pixels, could be decompression bomb DOS attack.\n",
            "  warnings.warn(\n",
            "Epoch 19/50 [Validation]: 100%|██████████| 250/250 [00:19<00:00, 12.89it/s, loss=0.000713]\n"
          ]
        },
        {
          "output_type": "stream",
          "name": "stdout",
          "text": [
            "\n",
            "Epoch 19/50:\n",
            "Average Training Loss: 0.0008\n",
            "Average Validation Loss: 0.0007\n"
          ]
        },
        {
          "output_type": "stream",
          "name": "stderr",
          "text": [
            "Epoch 20/50 [Training]: 100%|██████████| 1005/1005 [01:18<00:00, 12.82it/s, loss=0.000907]\n",
            "Epoch 20/50 [Validation]:  89%|████████▉ | 222/250 [00:15<00:01, 19.09it/s, loss=0.00065]/usr/local/lib/python3.10/dist-packages/PIL/Image.py:3406: DecompressionBombWarning: Image size (94720000 pixels) exceeds limit of 89478485 pixels, could be decompression bomb DOS attack.\n",
            "  warnings.warn(\n",
            "Epoch 20/50 [Validation]: 100%|██████████| 250/250 [00:19<00:00, 12.93it/s, loss=0.000816]\n"
          ]
        },
        {
          "output_type": "stream",
          "name": "stdout",
          "text": [
            "\n",
            "Epoch 20/50:\n",
            "Average Training Loss: 0.0008\n",
            "Average Validation Loss: 0.0008\n"
          ]
        },
        {
          "output_type": "stream",
          "name": "stderr",
          "text": [
            "Epoch 21/50 [Training]: 100%|██████████| 1005/1005 [01:18<00:00, 12.83it/s, loss=0.000973]\n",
            "Epoch 21/50 [Validation]:  89%|████████▉ | 222/250 [00:15<00:01, 18.02it/s, loss=0.000694]/usr/local/lib/python3.10/dist-packages/PIL/Image.py:3406: DecompressionBombWarning: Image size (94720000 pixels) exceeds limit of 89478485 pixels, could be decompression bomb DOS attack.\n",
            "  warnings.warn(\n",
            "Epoch 21/50 [Validation]: 100%|██████████| 250/250 [00:19<00:00, 12.98it/s, loss=0.000663]\n"
          ]
        },
        {
          "output_type": "stream",
          "name": "stdout",
          "text": [
            "\n",
            "Epoch 21/50:\n",
            "Average Training Loss: 0.0008\n",
            "Average Validation Loss: 0.0006\n",
            "Model saved at epoch 21\n"
          ]
        },
        {
          "output_type": "stream",
          "name": "stderr",
          "text": [
            "Epoch 22/50 [Training]: 100%|██████████| 1005/1005 [01:18<00:00, 12.72it/s, loss=0.000385]\n",
            "Epoch 22/50 [Validation]:  89%|████████▉ | 223/250 [00:15<00:01, 17.69it/s, loss=0.000623]/usr/local/lib/python3.10/dist-packages/PIL/Image.py:3406: DecompressionBombWarning: Image size (94720000 pixels) exceeds limit of 89478485 pixels, could be decompression bomb DOS attack.\n",
            "  warnings.warn(\n",
            "Epoch 22/50 [Validation]: 100%|██████████| 250/250 [00:19<00:00, 12.90it/s, loss=0.000563]\n"
          ]
        },
        {
          "output_type": "stream",
          "name": "stdout",
          "text": [
            "\n",
            "Epoch 22/50:\n",
            "Average Training Loss: 0.0007\n",
            "Average Validation Loss: 0.0006\n",
            "Model saved at epoch 22\n"
          ]
        },
        {
          "output_type": "stream",
          "name": "stderr",
          "text": [
            "Epoch 23/50 [Training]: 100%|██████████| 1005/1005 [01:18<00:00, 12.73it/s, loss=0.00123]\n",
            "Epoch 23/50 [Validation]:  89%|████████▉ | 222/250 [00:15<00:01, 17.29it/s, loss=0.000567]/usr/local/lib/python3.10/dist-packages/PIL/Image.py:3406: DecompressionBombWarning: Image size (94720000 pixels) exceeds limit of 89478485 pixels, could be decompression bomb DOS attack.\n",
            "  warnings.warn(\n",
            "Epoch 23/50 [Validation]: 100%|██████████| 250/250 [00:19<00:00, 13.01it/s, loss=0.00078]\n"
          ]
        },
        {
          "output_type": "stream",
          "name": "stdout",
          "text": [
            "\n",
            "Epoch 23/50:\n",
            "Average Training Loss: 0.0007\n",
            "Average Validation Loss: 0.0008\n"
          ]
        },
        {
          "output_type": "stream",
          "name": "stderr",
          "text": [
            "Epoch 24/50 [Training]: 100%|██████████| 1005/1005 [01:17<00:00, 12.90it/s, loss=0.000413]\n",
            "Epoch 24/50 [Validation]:  89%|████████▉ | 223/250 [00:15<00:01, 18.10it/s, loss=0.000468]/usr/local/lib/python3.10/dist-packages/PIL/Image.py:3406: DecompressionBombWarning: Image size (94720000 pixels) exceeds limit of 89478485 pixels, could be decompression bomb DOS attack.\n",
            "  warnings.warn(\n",
            "Epoch 24/50 [Validation]: 100%|██████████| 250/250 [00:19<00:00, 12.93it/s, loss=0.000467]\n"
          ]
        },
        {
          "output_type": "stream",
          "name": "stdout",
          "text": [
            "\n",
            "Epoch 24/50:\n",
            "Average Training Loss: 0.0007\n",
            "Average Validation Loss: 0.0006\n",
            "Model saved at epoch 24\n"
          ]
        },
        {
          "output_type": "stream",
          "name": "stderr",
          "text": [
            "Epoch 25/50 [Training]: 100%|██████████| 1005/1005 [01:19<00:00, 12.60it/s, loss=0.00121]\n",
            "Epoch 25/50 [Validation]:  89%|████████▉ | 222/250 [00:15<00:01, 20.73it/s, loss=0.000559]/usr/local/lib/python3.10/dist-packages/PIL/Image.py:3406: DecompressionBombWarning: Image size (94720000 pixels) exceeds limit of 89478485 pixels, could be decompression bomb DOS attack.\n",
            "  warnings.warn(\n",
            "Epoch 25/50 [Validation]: 100%|██████████| 250/250 [00:19<00:00, 12.93it/s, loss=0.000518]\n"
          ]
        },
        {
          "output_type": "stream",
          "name": "stdout",
          "text": [
            "\n",
            "Epoch 25/50:\n",
            "Average Training Loss: 0.0007\n",
            "Average Validation Loss: 0.0007\n"
          ]
        },
        {
          "output_type": "stream",
          "name": "stderr",
          "text": [
            "Epoch 26/50 [Training]: 100%|██████████| 1005/1005 [01:18<00:00, 12.84it/s, loss=0.00081]\n",
            "Epoch 26/50 [Validation]:  89%|████████▉ | 222/250 [00:15<00:01, 20.59it/s, loss=0.000527]/usr/local/lib/python3.10/dist-packages/PIL/Image.py:3406: DecompressionBombWarning: Image size (94720000 pixels) exceeds limit of 89478485 pixels, could be decompression bomb DOS attack.\n",
            "  warnings.warn(\n",
            "Epoch 26/50 [Validation]: 100%|██████████| 250/250 [00:19<00:00, 13.01it/s, loss=0.000533]\n"
          ]
        },
        {
          "output_type": "stream",
          "name": "stdout",
          "text": [
            "\n",
            "Epoch 26/50:\n",
            "Average Training Loss: 0.0007\n",
            "Average Validation Loss: 0.0006\n"
          ]
        },
        {
          "output_type": "stream",
          "name": "stderr",
          "text": [
            "Epoch 27/50 [Training]: 100%|██████████| 1005/1005 [01:17<00:00, 12.98it/s, loss=0.000974]\n",
            "Epoch 27/50 [Validation]:  89%|████████▉ | 222/250 [00:15<00:01, 19.90it/s, loss=0.000312]/usr/local/lib/python3.10/dist-packages/PIL/Image.py:3406: DecompressionBombWarning: Image size (94720000 pixels) exceeds limit of 89478485 pixels, could be decompression bomb DOS attack.\n",
            "  warnings.warn(\n",
            "Epoch 27/50 [Validation]: 100%|██████████| 250/250 [00:19<00:00, 13.00it/s, loss=0.000233]\n"
          ]
        },
        {
          "output_type": "stream",
          "name": "stdout",
          "text": [
            "\n",
            "Epoch 27/50:\n",
            "Average Training Loss: 0.0007\n",
            "Average Validation Loss: 0.0006\n"
          ]
        },
        {
          "output_type": "stream",
          "name": "stderr",
          "text": [
            "Epoch 28/50 [Training]: 100%|██████████| 1005/1005 [01:18<00:00, 12.87it/s, loss=0.000876]\n",
            "Epoch 28/50 [Validation]:  89%|████████▉ | 222/250 [00:16<00:01, 20.34it/s, loss=0.000554]/usr/local/lib/python3.10/dist-packages/PIL/Image.py:3406: DecompressionBombWarning: Image size (94720000 pixels) exceeds limit of 89478485 pixels, could be decompression bomb DOS attack.\n",
            "  warnings.warn(\n",
            "Epoch 28/50 [Validation]: 100%|██████████| 250/250 [00:19<00:00, 12.83it/s, loss=0.000409]\n"
          ]
        },
        {
          "output_type": "stream",
          "name": "stdout",
          "text": [
            "\n",
            "Epoch 28/50:\n",
            "Average Training Loss: 0.0007\n",
            "Average Validation Loss: 0.0006\n",
            "Model saved at epoch 28\n"
          ]
        },
        {
          "output_type": "stream",
          "name": "stderr",
          "text": [
            "Epoch 29/50 [Training]: 100%|██████████| 1005/1005 [01:20<00:00, 12.47it/s, loss=0.00116]\n",
            "Epoch 29/50 [Validation]:  90%|████████▉ | 224/250 [00:16<00:01, 18.10it/s, loss=0.000397]/usr/local/lib/python3.10/dist-packages/PIL/Image.py:3406: DecompressionBombWarning: Image size (94720000 pixels) exceeds limit of 89478485 pixels, could be decompression bomb DOS attack.\n",
            "  warnings.warn(\n",
            "Epoch 29/50 [Validation]: 100%|██████████| 250/250 [00:19<00:00, 12.78it/s, loss=0.0005]\n"
          ]
        },
        {
          "output_type": "stream",
          "name": "stdout",
          "text": [
            "\n",
            "Epoch 29/50:\n",
            "Average Training Loss: 0.0007\n",
            "Average Validation Loss: 0.0006\n",
            "Model saved at epoch 29\n"
          ]
        },
        {
          "output_type": "stream",
          "name": "stderr",
          "text": [
            "Epoch 30/50 [Training]: 100%|██████████| 1005/1005 [01:19<00:00, 12.69it/s, loss=0.00106]\n",
            "Epoch 30/50 [Validation]:  89%|████████▉ | 222/250 [00:15<00:01, 18.80it/s, loss=0.000837]/usr/local/lib/python3.10/dist-packages/PIL/Image.py:3406: DecompressionBombWarning: Image size (94720000 pixels) exceeds limit of 89478485 pixels, could be decompression bomb DOS attack.\n",
            "  warnings.warn(\n",
            "Epoch 30/50 [Validation]: 100%|██████████| 250/250 [00:19<00:00, 12.96it/s, loss=0.000703]\n"
          ]
        },
        {
          "output_type": "stream",
          "name": "stdout",
          "text": [
            "\n",
            "Epoch 30/50:\n",
            "Average Training Loss: 0.0007\n",
            "Average Validation Loss: 0.0008\n"
          ]
        },
        {
          "output_type": "stream",
          "name": "stderr",
          "text": [
            "Epoch 31/50 [Training]: 100%|██████████| 1005/1005 [01:18<00:00, 12.80it/s, loss=0.00271]\n",
            "Epoch 31/50 [Validation]:  90%|████████▉ | 224/250 [00:15<00:01, 19.65it/s, loss=0.000417]/usr/local/lib/python3.10/dist-packages/PIL/Image.py:3406: DecompressionBombWarning: Image size (94720000 pixels) exceeds limit of 89478485 pixels, could be decompression bomb DOS attack.\n",
            "  warnings.warn(\n",
            "Epoch 31/50 [Validation]: 100%|██████████| 250/250 [00:19<00:00, 13.00it/s, loss=0.000494]\n"
          ]
        },
        {
          "output_type": "stream",
          "name": "stdout",
          "text": [
            "\n",
            "Epoch 31/50:\n",
            "Average Training Loss: 0.0006\n",
            "Average Validation Loss: 0.0006\n"
          ]
        },
        {
          "output_type": "stream",
          "name": "stderr",
          "text": [
            "Epoch 32/50 [Training]: 100%|██████████| 1005/1005 [01:17<00:00, 12.89it/s, loss=0.00068]\n",
            "Epoch 32/50 [Validation]:  89%|████████▉ | 223/250 [00:15<00:01, 17.97it/s, loss=0.000478]/usr/local/lib/python3.10/dist-packages/PIL/Image.py:3406: DecompressionBombWarning: Image size (94720000 pixels) exceeds limit of 89478485 pixels, could be decompression bomb DOS attack.\n",
            "  warnings.warn(\n",
            "Epoch 32/50 [Validation]: 100%|██████████| 250/250 [00:19<00:00, 13.02it/s, loss=0.000407]\n"
          ]
        },
        {
          "output_type": "stream",
          "name": "stdout",
          "text": [
            "\n",
            "Epoch 32/50:\n",
            "Average Training Loss: 0.0007\n",
            "Average Validation Loss: 0.0006\n"
          ]
        },
        {
          "output_type": "stream",
          "name": "stderr",
          "text": [
            "Epoch 33/50 [Training]: 100%|██████████| 1005/1005 [01:18<00:00, 12.76it/s, loss=0.000514]\n",
            "Epoch 33/50 [Validation]:  89%|████████▉ | 223/250 [00:16<00:01, 19.45it/s, loss=0.000249]/usr/local/lib/python3.10/dist-packages/PIL/Image.py:3406: DecompressionBombWarning: Image size (94720000 pixels) exceeds limit of 89478485 pixels, could be decompression bomb DOS attack.\n",
            "  warnings.warn(\n",
            "Epoch 33/50 [Validation]: 100%|██████████| 250/250 [00:19<00:00, 12.80it/s, loss=0.00051]\n"
          ]
        },
        {
          "output_type": "stream",
          "name": "stdout",
          "text": [
            "\n",
            "Epoch 33/50:\n",
            "Average Training Loss: 0.0006\n",
            "Average Validation Loss: 0.0007\n"
          ]
        },
        {
          "output_type": "stream",
          "name": "stderr",
          "text": [
            "Epoch 34/50 [Training]: 100%|██████████| 1005/1005 [01:17<00:00, 12.97it/s, loss=0.000652]\n",
            "Epoch 34/50 [Validation]:  89%|████████▉ | 222/250 [00:15<00:01, 20.41it/s, loss=0.000353]/usr/local/lib/python3.10/dist-packages/PIL/Image.py:3406: DecompressionBombWarning: Image size (94720000 pixels) exceeds limit of 89478485 pixels, could be decompression bomb DOS attack.\n",
            "  warnings.warn(\n",
            "Epoch 34/50 [Validation]: 100%|██████████| 250/250 [00:19<00:00, 13.02it/s, loss=0.000387]\n"
          ]
        },
        {
          "output_type": "stream",
          "name": "stdout",
          "text": [
            "\n",
            "Epoch 34/50:\n",
            "Average Training Loss: 0.0006\n",
            "Average Validation Loss: 0.0006\n"
          ]
        },
        {
          "output_type": "stream",
          "name": "stderr",
          "text": [
            "Epoch 35/50 [Training]: 100%|██████████| 1005/1005 [01:17<00:00, 12.90it/s, loss=0.000679]\n",
            "Epoch 35/50 [Validation]:  89%|████████▉ | 222/250 [00:15<00:01, 19.85it/s, loss=0.000817]/usr/local/lib/python3.10/dist-packages/PIL/Image.py:3406: DecompressionBombWarning: Image size (94720000 pixels) exceeds limit of 89478485 pixels, could be decompression bomb DOS attack.\n",
            "  warnings.warn(\n",
            "Epoch 35/50 [Validation]: 100%|██████████| 250/250 [00:19<00:00, 13.15it/s, loss=0.000309]\n"
          ]
        },
        {
          "output_type": "stream",
          "name": "stdout",
          "text": [
            "\n",
            "Epoch 35/50:\n",
            "Average Training Loss: 0.0006\n",
            "Average Validation Loss: 0.0006\n",
            "Model saved at epoch 35\n"
          ]
        },
        {
          "output_type": "stream",
          "name": "stderr",
          "text": [
            "Epoch 36/50 [Training]: 100%|██████████| 1005/1005 [01:19<00:00, 12.70it/s, loss=0.000381]\n",
            "Epoch 36/50 [Validation]:  89%|████████▉ | 222/250 [00:15<00:01, 19.88it/s, loss=0.000279]/usr/local/lib/python3.10/dist-packages/PIL/Image.py:3406: DecompressionBombWarning: Image size (94720000 pixels) exceeds limit of 89478485 pixels, could be decompression bomb DOS attack.\n",
            "  warnings.warn(\n",
            "Epoch 36/50 [Validation]: 100%|██████████| 250/250 [00:19<00:00, 12.92it/s, loss=0.000542]\n"
          ]
        },
        {
          "output_type": "stream",
          "name": "stdout",
          "text": [
            "\n",
            "Epoch 36/50:\n",
            "Average Training Loss: 0.0006\n",
            "Average Validation Loss: 0.0006\n",
            "Model saved at epoch 36\n"
          ]
        },
        {
          "output_type": "stream",
          "name": "stderr",
          "text": [
            "Epoch 37/50 [Training]: 100%|██████████| 1005/1005 [01:20<00:00, 12.42it/s, loss=0.000617]\n",
            "Epoch 37/50 [Validation]:  89%|████████▉ | 222/250 [00:15<00:01, 18.87it/s, loss=0.000458]/usr/local/lib/python3.10/dist-packages/PIL/Image.py:3406: DecompressionBombWarning: Image size (94720000 pixels) exceeds limit of 89478485 pixels, could be decompression bomb DOS attack.\n",
            "  warnings.warn(\n",
            "Epoch 37/50 [Validation]: 100%|██████████| 250/250 [00:19<00:00, 12.98it/s, loss=0.000497]\n"
          ]
        },
        {
          "output_type": "stream",
          "name": "stdout",
          "text": [
            "\n",
            "Epoch 37/50:\n",
            "Average Training Loss: 0.0006\n",
            "Average Validation Loss: 0.0006\n"
          ]
        },
        {
          "output_type": "stream",
          "name": "stderr",
          "text": [
            "Epoch 38/50 [Training]: 100%|██████████| 1005/1005 [01:18<00:00, 12.81it/s, loss=0.000818]\n",
            "Epoch 38/50 [Validation]:  88%|████████▊ | 221/250 [00:15<00:01, 19.65it/s, loss=0.000371]/usr/local/lib/python3.10/dist-packages/PIL/Image.py:3406: DecompressionBombWarning: Image size (94720000 pixels) exceeds limit of 89478485 pixels, could be decompression bomb DOS attack.\n",
            "  warnings.warn(\n",
            "Epoch 38/50 [Validation]: 100%|██████████| 250/250 [00:19<00:00, 12.98it/s, loss=0.000294]\n"
          ]
        },
        {
          "output_type": "stream",
          "name": "stdout",
          "text": [
            "\n",
            "Epoch 38/50:\n",
            "Average Training Loss: 0.0006\n",
            "Average Validation Loss: 0.0006\n",
            "Model saved at epoch 38\n"
          ]
        },
        {
          "output_type": "stream",
          "name": "stderr",
          "text": [
            "Epoch 39/50 [Training]: 100%|██████████| 1005/1005 [01:18<00:00, 12.73it/s, loss=0.00118]\n",
            "Epoch 39/50 [Validation]:  89%|████████▉ | 222/250 [00:15<00:01, 18.09it/s, loss=0.000622]/usr/local/lib/python3.10/dist-packages/PIL/Image.py:3406: DecompressionBombWarning: Image size (94720000 pixels) exceeds limit of 89478485 pixels, could be decompression bomb DOS attack.\n",
            "  warnings.warn(\n",
            "Epoch 39/50 [Validation]: 100%|██████████| 250/250 [00:19<00:00, 13.02it/s, loss=0.000619]\n"
          ]
        },
        {
          "output_type": "stream",
          "name": "stdout",
          "text": [
            "\n",
            "Epoch 39/50:\n",
            "Average Training Loss: 0.0006\n",
            "Average Validation Loss: 0.0006\n",
            "Model saved at epoch 39\n"
          ]
        },
        {
          "output_type": "stream",
          "name": "stderr",
          "text": [
            "Epoch 40/50 [Training]: 100%|██████████| 1005/1005 [01:19<00:00, 12.62it/s, loss=0.00363]\n",
            "Epoch 40/50 [Validation]:  89%|████████▉ | 223/250 [00:15<00:01, 19.01it/s, loss=0.000805]/usr/local/lib/python3.10/dist-packages/PIL/Image.py:3406: DecompressionBombWarning: Image size (94720000 pixels) exceeds limit of 89478485 pixels, could be decompression bomb DOS attack.\n",
            "  warnings.warn(\n",
            "Epoch 40/50 [Validation]: 100%|██████████| 250/250 [00:19<00:00, 13.03it/s, loss=0.000643]\n"
          ]
        },
        {
          "output_type": "stream",
          "name": "stdout",
          "text": [
            "\n",
            "Epoch 40/50:\n",
            "Average Training Loss: 0.0006\n",
            "Average Validation Loss: 0.0008\n"
          ]
        },
        {
          "output_type": "stream",
          "name": "stderr",
          "text": [
            "Epoch 41/50 [Training]: 100%|██████████| 1005/1005 [01:18<00:00, 12.85it/s, loss=0.00146]\n",
            "Epoch 41/50 [Validation]:  90%|████████▉ | 224/250 [00:16<00:01, 19.24it/s, loss=0.000301]/usr/local/lib/python3.10/dist-packages/PIL/Image.py:3406: DecompressionBombWarning: Image size (94720000 pixels) exceeds limit of 89478485 pixels, could be decompression bomb DOS attack.\n",
            "  warnings.warn(\n",
            "Epoch 41/50 [Validation]: 100%|██████████| 250/250 [00:19<00:00, 12.80it/s, loss=0.000369]\n"
          ]
        },
        {
          "output_type": "stream",
          "name": "stdout",
          "text": [
            "\n",
            "Epoch 41/50:\n",
            "Average Training Loss: 0.0006\n",
            "Average Validation Loss: 0.0005\n",
            "Model saved at epoch 41\n"
          ]
        },
        {
          "output_type": "stream",
          "name": "stderr",
          "text": [
            "Epoch 42/50 [Training]: 100%|██████████| 1005/1005 [01:18<00:00, 12.83it/s, loss=0.000455]\n",
            "Epoch 42/50 [Validation]:  89%|████████▉ | 222/250 [00:15<00:01, 18.99it/s, loss=0.000334]/usr/local/lib/python3.10/dist-packages/PIL/Image.py:3406: DecompressionBombWarning: Image size (94720000 pixels) exceeds limit of 89478485 pixels, could be decompression bomb DOS attack.\n",
            "  warnings.warn(\n",
            "Epoch 42/50 [Validation]: 100%|██████████| 250/250 [00:19<00:00, 12.95it/s, loss=0.000466]\n"
          ]
        },
        {
          "output_type": "stream",
          "name": "stdout",
          "text": [
            "\n",
            "Epoch 42/50:\n",
            "Average Training Loss: 0.0006\n",
            "Average Validation Loss: 0.0006\n"
          ]
        },
        {
          "output_type": "stream",
          "name": "stderr",
          "text": [
            "Epoch 43/50 [Training]: 100%|██████████| 1005/1005 [01:18<00:00, 12.79it/s, loss=0.000913]\n",
            "Epoch 43/50 [Validation]:  89%|████████▉ | 223/250 [00:16<00:01, 17.71it/s, loss=0.000518]/usr/local/lib/python3.10/dist-packages/PIL/Image.py:3406: DecompressionBombWarning: Image size (94720000 pixels) exceeds limit of 89478485 pixels, could be decompression bomb DOS attack.\n",
            "  warnings.warn(\n",
            "Epoch 43/50 [Validation]: 100%|██████████| 250/250 [00:19<00:00, 12.70it/s, loss=0.000439]\n"
          ]
        },
        {
          "output_type": "stream",
          "name": "stdout",
          "text": [
            "\n",
            "Epoch 43/50:\n",
            "Average Training Loss: 0.0006\n",
            "Average Validation Loss: 0.0005\n"
          ]
        },
        {
          "output_type": "stream",
          "name": "stderr",
          "text": [
            "Epoch 44/50 [Training]: 100%|██████████| 1005/1005 [01:19<00:00, 12.67it/s, loss=0.000178]\n",
            "Epoch 44/50 [Validation]:  89%|████████▉ | 223/250 [00:16<00:01, 17.90it/s, loss=0.000504]/usr/local/lib/python3.10/dist-packages/PIL/Image.py:3406: DecompressionBombWarning: Image size (94720000 pixels) exceeds limit of 89478485 pixels, could be decompression bomb DOS attack.\n",
            "  warnings.warn(\n",
            "Epoch 44/50 [Validation]: 100%|██████████| 250/250 [00:19<00:00, 12.78it/s, loss=0.000549]\n"
          ]
        },
        {
          "output_type": "stream",
          "name": "stdout",
          "text": [
            "\n",
            "Epoch 44/50:\n",
            "Average Training Loss: 0.0006\n",
            "Average Validation Loss: 0.0006\n"
          ]
        },
        {
          "output_type": "stream",
          "name": "stderr",
          "text": [
            "Epoch 45/50 [Training]: 100%|██████████| 1005/1005 [01:19<00:00, 12.68it/s, loss=0.00115]\n",
            "Epoch 45/50 [Validation]:  89%|████████▉ | 222/250 [00:15<00:01, 17.79it/s, loss=0.000381]/usr/local/lib/python3.10/dist-packages/PIL/Image.py:3406: DecompressionBombWarning: Image size (94720000 pixels) exceeds limit of 89478485 pixels, could be decompression bomb DOS attack.\n",
            "  warnings.warn(\n",
            "Epoch 45/50 [Validation]: 100%|██████████| 250/250 [00:19<00:00, 12.86it/s, loss=0.00053]\n"
          ]
        },
        {
          "output_type": "stream",
          "name": "stdout",
          "text": [
            "\n",
            "Epoch 45/50:\n",
            "Average Training Loss: 0.0006\n",
            "Average Validation Loss: 0.0005\n"
          ]
        },
        {
          "output_type": "stream",
          "name": "stderr",
          "text": [
            "Epoch 46/50 [Training]: 100%|██████████| 1005/1005 [01:20<00:00, 12.48it/s, loss=0.000625]\n",
            "Epoch 46/50 [Validation]:  89%|████████▉ | 222/250 [00:16<00:01, 17.09it/s, loss=0.000635]/usr/local/lib/python3.10/dist-packages/PIL/Image.py:3406: DecompressionBombWarning: Image size (94720000 pixels) exceeds limit of 89478485 pixels, could be decompression bomb DOS attack.\n",
            "  warnings.warn(\n",
            "Epoch 46/50 [Validation]: 100%|██████████| 250/250 [00:20<00:00, 12.22it/s, loss=0.00047]\n"
          ]
        },
        {
          "output_type": "stream",
          "name": "stdout",
          "text": [
            "\n",
            "Epoch 46/50:\n",
            "Average Training Loss: 0.0006\n",
            "Average Validation Loss: 0.0005\n"
          ]
        },
        {
          "output_type": "stream",
          "name": "stderr",
          "text": [
            "Epoch 47/50 [Training]: 100%|██████████| 1005/1005 [01:22<00:00, 12.15it/s, loss=0.000442]\n",
            "Epoch 47/50 [Validation]:  89%|████████▉ | 222/250 [00:16<00:01, 18.03it/s, loss=0.000584]/usr/local/lib/python3.10/dist-packages/PIL/Image.py:3406: DecompressionBombWarning: Image size (94720000 pixels) exceeds limit of 89478485 pixels, could be decompression bomb DOS attack.\n",
            "  warnings.warn(\n",
            "Epoch 47/50 [Validation]: 100%|██████████| 250/250 [00:19<00:00, 12.77it/s, loss=0.000705]\n"
          ]
        },
        {
          "output_type": "stream",
          "name": "stdout",
          "text": [
            "\n",
            "Epoch 47/50:\n",
            "Average Training Loss: 0.0006\n",
            "Average Validation Loss: 0.0006\n"
          ]
        },
        {
          "output_type": "stream",
          "name": "stderr",
          "text": [
            "Epoch 48/50 [Training]: 100%|██████████| 1005/1005 [01:18<00:00, 12.83it/s, loss=0.00149]\n",
            "Epoch 48/50 [Validation]:  89%|████████▉ | 223/250 [00:15<00:01, 18.26it/s, loss=0.000603]/usr/local/lib/python3.10/dist-packages/PIL/Image.py:3406: DecompressionBombWarning: Image size (94720000 pixels) exceeds limit of 89478485 pixels, could be decompression bomb DOS attack.\n",
            "  warnings.warn(\n",
            "Epoch 48/50 [Validation]: 100%|██████████| 250/250 [00:19<00:00, 12.88it/s, loss=0.000366]\n"
          ]
        },
        {
          "output_type": "stream",
          "name": "stdout",
          "text": [
            "\n",
            "Epoch 48/50:\n",
            "Average Training Loss: 0.0006\n",
            "Average Validation Loss: 0.0006\n"
          ]
        },
        {
          "output_type": "stream",
          "name": "stderr",
          "text": [
            "Epoch 49/50 [Training]: 100%|██████████| 1005/1005 [01:18<00:00, 12.83it/s, loss=0.00159]\n",
            "Epoch 49/50 [Validation]:  89%|████████▉ | 223/250 [00:15<00:01, 18.90it/s, loss=0.000389]/usr/local/lib/python3.10/dist-packages/PIL/Image.py:3406: DecompressionBombWarning: Image size (94720000 pixels) exceeds limit of 89478485 pixels, could be decompression bomb DOS attack.\n",
            "  warnings.warn(\n",
            "Epoch 49/50 [Validation]: 100%|██████████| 250/250 [00:19<00:00, 13.04it/s, loss=0.000412]\n"
          ]
        },
        {
          "output_type": "stream",
          "name": "stdout",
          "text": [
            "\n",
            "Epoch 49/50:\n",
            "Average Training Loss: 0.0006\n",
            "Average Validation Loss: 0.0006\n"
          ]
        },
        {
          "output_type": "stream",
          "name": "stderr",
          "text": [
            "Epoch 50/50 [Training]: 100%|██████████| 1005/1005 [01:18<00:00, 12.79it/s, loss=0.00131]\n",
            "Epoch 50/50 [Validation]:  89%|████████▉ | 222/250 [00:15<00:01, 17.92it/s, loss=0.000713]/usr/local/lib/python3.10/dist-packages/PIL/Image.py:3406: DecompressionBombWarning: Image size (94720000 pixels) exceeds limit of 89478485 pixels, could be decompression bomb DOS attack.\n",
            "  warnings.warn(\n",
            "Epoch 50/50 [Validation]: 100%|██████████| 250/250 [00:19<00:00, 12.92it/s, loss=0.000407]\n"
          ]
        },
        {
          "output_type": "stream",
          "name": "stdout",
          "text": [
            "\n",
            "Epoch 50/50:\n",
            "Average Training Loss: 0.0006\n",
            "Average Validation Loss: 0.0006\n",
            "Training completed!\n"
          ]
        }
      ]
    }
  ]
}