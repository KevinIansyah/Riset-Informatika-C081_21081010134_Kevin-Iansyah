{
  "nbformat": 4,
  "nbformat_minor": 0,
  "metadata": {
    "colab": {
      "provenance": [],
      "machine_shape": "hm",
      "gpuType": "A100"
    },
    "kernelspec": {
      "name": "python3",
      "display_name": "Python 3"
    },
    "language_info": {
      "name": "python"
    },
    "accelerator": "GPU"
  },
  "cells": [
    {
      "cell_type": "code",
      "execution_count": null,
      "metadata": {
        "id": "DD0XWZL1wK1_"
      },
      "outputs": [],
      "source": [
        "import torch\n",
        "import torch.nn as nn\n",
        "import torch.optim as optim\n",
        "from torch.utils.data import Dataset, DataLoader\n",
        "from torchvision import transforms\n",
        "from PIL import Image\n",
        "import os\n",
        "from tqdm import tqdm\n",
        "import numpy as np\n",
        "import matplotlib.pyplot as plt\n",
        "import random\n",
        "import glob\n",
        "import csv\n",
        "import pandas as pd\n",
        "from skimage.metrics import peak_signal_noise_ratio as psnr\n",
        "from skimage.metrics import structural_similarity as ssim"
      ]
    },
    {
      "cell_type": "code",
      "source": [
        "class DoubleConv(nn.Module):\n",
        "    def __init__(self, in_channels, out_channels):\n",
        "        super().__init__()\n",
        "        self.double_conv = nn.Sequential(\n",
        "            nn.Conv2d(in_channels, out_channels, kernel_size=3, padding=1),\n",
        "            nn.BatchNorm2d(out_channels),\n",
        "            nn.ReLU(inplace=True),\n",
        "            nn.Conv2d(out_channels, out_channels, kernel_size=3, padding=1),\n",
        "            nn.BatchNorm2d(out_channels),\n",
        "            nn.ReLU(inplace=True)\n",
        "        )\n",
        "\n",
        "    def forward(self, x):\n",
        "        return self.double_conv(x)\n",
        "\n",
        "class Encoder(nn.Module):\n",
        "    def __init__(self, in_channels):\n",
        "        super().__init__()\n",
        "        self.enc1 = DoubleConv(in_channels, 64)\n",
        "        self.enc2 = DoubleConv(64, 128)\n",
        "        self.enc3 = DoubleConv(128, 256)\n",
        "        self.enc4 = DoubleConv(256, 512)\n",
        "        self.pool = nn.MaxPool2d(2, 2)\n",
        "\n",
        "    def forward(self, x):\n",
        "        enc1 = self.enc1(x)\n",
        "        enc2 = self.enc2(self.pool(enc1))\n",
        "        enc3 = self.enc3(self.pool(enc2))\n",
        "        enc4 = self.enc4(self.pool(enc3))\n",
        "        return enc1, enc2, enc3, enc4\n",
        "\n",
        "class Bottleneck(nn.Module):\n",
        "    def __init__(self):\n",
        "        super().__init__()\n",
        "        self.bottleneck = nn.Sequential(\n",
        "            nn.MaxPool2d(2, 2),\n",
        "            nn.Conv2d(512, 1024, kernel_size=3, padding=1),\n",
        "            nn.BatchNorm2d(1024),\n",
        "            nn.ReLU(inplace=True),\n",
        "            nn.Conv2d(1024, 1024, kernel_size=3, padding=1),\n",
        "            nn.BatchNorm2d(1024),\n",
        "            nn.ReLU(inplace=True),\n",
        "        )\n",
        "\n",
        "    def forward(self, x):\n",
        "        return self.bottleneck(x)\n",
        "\n",
        "class Decoder(nn.Module):\n",
        "    def __init__(self):\n",
        "        super().__init__()\n",
        "        self.upconv4 = nn.ConvTranspose2d(1024, 512, 2, stride=2)\n",
        "        self.dec4 = DoubleConv(1024, 512)\n",
        "        self.upconv3 = nn.ConvTranspose2d(512, 256, 2, stride=2)\n",
        "        self.dec3 = DoubleConv(512, 256)\n",
        "        self.upconv2 = nn.ConvTranspose2d(256, 128, 2, stride=2)\n",
        "        self.dec2 = DoubleConv(256, 128)\n",
        "        self.upconv1 = nn.ConvTranspose2d(128, 64, 2, stride=2)\n",
        "        self.dec1 = DoubleConv(128, 64)\n",
        "\n",
        "    def forward(self, bottleneck, skip1, skip2, skip3, skip4):\n",
        "        dec4 = self.upconv4(bottleneck)\n",
        "        dec4 = torch.cat([dec4, skip4], dim=1)\n",
        "        dec4 = self.dec4(dec4)\n",
        "\n",
        "        dec3 = self.upconv3(dec4)\n",
        "        dec3 = torch.cat([dec3, skip3], dim=1)\n",
        "        dec3 = self.dec3(dec3)\n",
        "\n",
        "        dec2 = self.upconv2(dec3)\n",
        "        dec2 = torch.cat([dec2, skip2], dim=1)\n",
        "        dec2 = self.dec2(dec2)\n",
        "\n",
        "        dec1 = self.upconv1(dec2)\n",
        "        dec1 = torch.cat([dec1, skip1], dim=1)\n",
        "        dec1 = self.dec1(dec1)\n",
        "        return dec1\n",
        "\n",
        "class UNet(nn.Module):\n",
        "    def __init__(self, in_channels=1, out_channels=1):  # Ubah ke 1 channel\n",
        "        super().__init__()\n",
        "        self.encoder = Encoder(in_channels)\n",
        "        self.bottleneck = Bottleneck()\n",
        "        self.decoder = Decoder()\n",
        "        self.final_conv = nn.Conv2d(64, out_channels, 1)\n",
        "\n",
        "    def forward(self, x):\n",
        "        skip1, skip2, skip3, skip4 = self.encoder(x)\n",
        "        bottleneck = self.bottleneck(skip4)\n",
        "        decoded = self.decoder(bottleneck, skip1, skip2, skip3, skip4)\n",
        "        return self.final_conv(decoded)"
      ],
      "metadata": {
        "id": "v7YxNXq6wTTq"
      },
      "execution_count": null,
      "outputs": []
    },
    {
      "cell_type": "code",
      "source": [
        "# Custom Dataset\n",
        "class SatelliteDataset(Dataset):\n",
        "    def __init__(self, image_dir, transform=None):\n",
        "        self.image_dir = image_dir\n",
        "        self.transform = transform\n",
        "        self.images = glob.glob(os.path.join(image_dir, \"*.jpg\")) + \\\n",
        "                     glob.glob(os.path.join(image_dir, \"*.png\"))\n",
        "\n",
        "    def add_noise(self, image):\n",
        "        # Menambahkan berbagai jenis noise\n",
        "        # noise_type = random.choice(['gaussian', 'salt_pepper', 'speckle'])\n",
        "        noise_type = 'salt_pepper'\n",
        "\n",
        "        if noise_type == 'gaussian':\n",
        "            # Gaussian noise\n",
        "            mean = 0\n",
        "            sigma = random.uniform(0.02, 0.1)\n",
        "            noise = torch.normal(mean, sigma, image.shape)\n",
        "            noisy_image = image + noise\n",
        "\n",
        "        elif noise_type == 'salt_pepper':\n",
        "            # Salt and pepper noise\n",
        "            prob = random.uniform(0.02, 0.1)\n",
        "            noise = torch.rand(image.shape)\n",
        "            salt = (noise > 1 - prob/2).float()\n",
        "            pepper = (noise < prob/2).float()\n",
        "            noisy_image = image * (1 - salt - pepper) + salt\n",
        "\n",
        "        else:  # Speckle\n",
        "            # Speckle noise\n",
        "            intensity = random.uniform(0.05, 0.2)\n",
        "            noise = torch.randn(image.shape) * intensity\n",
        "            noisy_image = image + image * noise\n",
        "\n",
        "        # Clip values to valid range [0, 1]\n",
        "        return torch.clamp(noisy_image, 0, 1)\n",
        "\n",
        "    def __len__(self):\n",
        "        return len(self.images)\n",
        "\n",
        "    def __getitem__(self, idx):\n",
        "        img_path = self.images[idx]\n",
        "        # Baca gambar sebagai grayscale langsung\n",
        "        image = Image.open(img_path).convert('L')\n",
        "\n",
        "        if self.transform:\n",
        "            image = self.transform(image)\n",
        "\n",
        "        # Original image sebagai target (clean)\n",
        "        target = image.clone()\n",
        "        # Menambahkan noise pada input image\n",
        "        noisy_image = self.add_noise(image)\n",
        "\n",
        "        # Menambah dimensi channel (1 channel untuk grayscale)\n",
        "        noisy_image = noisy_image.unsqueeze(0) if noisy_image.dim() == 2 else noisy_image\n",
        "        target = target.unsqueeze(0) if target.dim() == 2 else target\n",
        "\n",
        "        return noisy_image, target"
      ],
      "metadata": {
        "id": "KU1D05RpwVdE"
      },
      "execution_count": null,
      "outputs": []
    },
    {
      "cell_type": "code",
      "source": [
        "# Function for testing\n",
        "def test_model(model, test_loader, device, output_csv):\n",
        "    model.eval()\n",
        "    psnr_list = []\n",
        "    ssim_list = []\n",
        "    results = []\n",
        "\n",
        "    with torch.no_grad():\n",
        "        for idx, (noisy_imgs, target_imgs) in enumerate(tqdm(test_loader, desc=\"Testing\")):\n",
        "            noisy_imgs = noisy_imgs.to(device)\n",
        "            target_imgs = target_imgs.to(device)\n",
        "\n",
        "            # Model prediction\n",
        "            outputs = model(noisy_imgs)\n",
        "\n",
        "            for i in range(noisy_imgs.size(0)):  # Per-image testing\n",
        "                # Convert tensors to numpy\n",
        "                pred = outputs[i].cpu().squeeze().numpy()\n",
        "                target = target_imgs[i].cpu().squeeze().numpy()\n",
        "\n",
        "                # Compute PSNR and SSIM\n",
        "                psnr_value = psnr(target, pred, data_range=1.0)\n",
        "                ssim_value, _ = ssim(target, pred, data_range=1.0, full=True)\n",
        "\n",
        "                # Print PSNR and SSIM for each image\n",
        "                print(f\"Image {idx * test_loader.batch_size + i}: PSNR = {psnr_value:.4f}, SSIM = {ssim_value:.4f}\")\n",
        "\n",
        "                # Save results\n",
        "                psnr_list.append(psnr_value)\n",
        "                ssim_list.append(ssim_value)\n",
        "                results.append({\"Image Index\": idx * test_loader.batch_size + i,\n",
        "                                \"PSNR\": psnr_value,\n",
        "                                \"SSIM\": ssim_value})\n",
        "\n",
        "    # Save to CSV\n",
        "    with open(output_csv, 'w', newline='') as csvfile:\n",
        "        fieldnames = ['Image Index', 'PSNR', 'SSIM']\n",
        "        writer = csv.DictWriter(csvfile, fieldnames=fieldnames)\n",
        "        writer.writeheader()\n",
        "        writer.writerows(results)\n",
        "\n",
        "    # Calculate averages\n",
        "    avg_psnr = sum(psnr_list) / len(psnr_list)\n",
        "    avg_ssim = sum(ssim_list) / len(ssim_list)\n",
        "\n",
        "    print(f\"\\nAverage PSNR: {avg_psnr:.4f}\")\n",
        "    print(f\"Average SSIM: {avg_ssim:.4f}\")\n",
        "\n",
        "    return avg_psnr, avg_ssim\n",
        "\n",
        "# Main testing pipeline\n",
        "def main():\n",
        "    # Set device\n",
        "    device = torch.device('cuda' if torch.cuda.is_available() else 'cpu')\n",
        "    print(f'Using device: {device}')\n",
        "\n",
        "    # Hyperparameters\n",
        "    BATCH_SIZE = 8\n",
        "    IMAGE_SIZE = 256\n",
        "\n",
        "    # Transform\n",
        "    transform = transforms.Compose([\n",
        "        transforms.Resize((IMAGE_SIZE, IMAGE_SIZE)),\n",
        "        transforms.ToTensor(),\n",
        "    ])\n",
        "\n",
        "    # Load test dataset\n",
        "    test_dataset = SatelliteDataset(\n",
        "        image_dir='/content/drive/MyDrive/Dataset/satellit_dataset/Test',\n",
        "        transform=transform\n",
        "    )\n",
        "\n",
        "    test_loader = DataLoader(\n",
        "        test_dataset,\n",
        "        batch_size=BATCH_SIZE,\n",
        "        shuffle=False,\n",
        "        num_workers=2\n",
        "    )\n",
        "\n",
        "    # Load model\n",
        "    model = UNet(in_channels=1, out_channels=1).to(device)\n",
        "    checkpoint = torch.load('/content/drive/MyDrive/Dataset/satellit_dataset/model_saves/best_model.pth', map_location=device)\n",
        "    model.load_state_dict(checkpoint['model_state_dict'])\n",
        "\n",
        "    # Path to save results\n",
        "    output_csv = '/content/drive/MyDrive/Dataset/satellit_dataset/test_results.csv'\n",
        "\n",
        "    # Test model\n",
        "    avg_psnr, avg_ssim = test_model(model, test_loader, device, output_csv)\n",
        "\n",
        "    print(\"Testing completed!\")\n",
        "    print(f\"Results saved to: {output_csv}\")\n",
        "\n",
        "if __name__ == \"__main__\":\n",
        "    main()"
      ],
      "metadata": {
        "colab": {
          "base_uri": "https://localhost:8080/"
        },
        "id": "A3JW3tm8wbDA",
        "outputId": "2c37cfa4-ce09-45d5-81f7-d14c2f6a8b0c"
      },
      "execution_count": null,
      "outputs": [
        {
          "output_type": "stream",
          "name": "stdout",
          "text": [
            "Using device: cuda\n"
          ]
        },
        {
          "output_type": "stream",
          "name": "stderr",
          "text": [
            "<ipython-input-5-45d8a2923b92>:82: FutureWarning: You are using `torch.load` with `weights_only=False` (the current default value), which uses the default pickle module implicitly. It is possible to construct malicious pickle data which will execute arbitrary code during unpickling (See https://github.com/pytorch/pytorch/blob/main/SECURITY.md#untrusted-models for more details). In a future release, the default value for `weights_only` will be flipped to `True`. This limits the functions that could be executed during unpickling. Arbitrary objects will no longer be allowed to be loaded via this mode unless they are explicitly allowlisted by the user via `torch.serialization.add_safe_globals`. We recommend you start setting `weights_only=True` for any use case where you don't have full control of the loaded file. Please open an issue on GitHub for any issues related to this experimental feature.\n",
            "  checkpoint = torch.load('/content/drive/MyDrive/Dataset/satellit_dataset/model_saves/best_model.pth', map_location=device)\n",
            "Testing:   0%|          | 1/250 [00:04<17:15,  4.16s/it]"
          ]
        },
        {
          "output_type": "stream",
          "name": "stdout",
          "text": [
            "Image 0: PSNR = 44.4984, SSIM = 0.9849\n",
            "Image 1: PSNR = 42.7174, SSIM = 0.9926\n",
            "Image 2: PSNR = 38.9391, SSIM = 0.9884\n",
            "Image 3: PSNR = 38.0233, SSIM = 0.9719\n",
            "Image 4: PSNR = 39.5832, SSIM = 0.9851\n",
            "Image 5: PSNR = 39.1911, SSIM = 0.9840\n",
            "Image 6: PSNR = 39.0860, SSIM = 0.9826\n",
            "Image 7: PSNR = 42.7302, SSIM = 0.9854\n",
            "Image 8: PSNR = 37.0237, SSIM = 0.9846\n",
            "Image 9: PSNR = 33.2261, SSIM = 0.9758\n",
            "Image 10: PSNR = 39.0801, SSIM = 0.9877\n",
            "Image 11: PSNR = 40.1755, SSIM = 0.9784\n",
            "Image 12: PSNR = 41.0445, SSIM = 0.9920\n",
            "Image 13: PSNR = 43.8359, SSIM = 0.9925\n",
            "Image 14: PSNR = 37.0724, SSIM = 0.9885\n",
            "Image 15: PSNR = 37.1225, SSIM = 0.9865\n"
          ]
        },
        {
          "output_type": "stream",
          "name": "stderr",
          "text": [
            "Testing:   2%|▏         | 5/250 [00:42<30:21,  7.44s/it]  "
          ]
        },
        {
          "output_type": "stream",
          "name": "stdout",
          "text": [
            "Image 16: PSNR = 38.5669, SSIM = 0.9865\n",
            "Image 17: PSNR = 43.6690, SSIM = 0.9827\n",
            "Image 18: PSNR = 38.6881, SSIM = 0.9812\n",
            "Image 19: PSNR = 36.2515, SSIM = 0.9890\n",
            "Image 20: PSNR = 37.8001, SSIM = 0.9862\n",
            "Image 21: PSNR = 39.7781, SSIM = 0.9814\n",
            "Image 22: PSNR = 34.1390, SSIM = 0.9820\n",
            "Image 23: PSNR = 37.2928, SSIM = 0.9793\n",
            "Image 24: PSNR = 41.1251, SSIM = 0.9925\n",
            "Image 25: PSNR = 32.2810, SSIM = 0.9669\n",
            "Image 26: PSNR = 37.0362, SSIM = 0.9852\n",
            "Image 27: PSNR = 40.1142, SSIM = 0.9598\n",
            "Image 28: PSNR = 37.2646, SSIM = 0.9850\n",
            "Image 29: PSNR = 43.7586, SSIM = 0.9849\n",
            "Image 30: PSNR = 41.2517, SSIM = 0.9859\n",
            "Image 31: PSNR = 37.9125, SSIM = 0.9876\n",
            "Image 32: PSNR = 34.6585, SSIM = 0.8956\n",
            "Image 33: PSNR = 38.8778, SSIM = 0.9835\n",
            "Image 34: PSNR = 37.6136, SSIM = 0.9563\n",
            "Image 35: PSNR = 37.1536, SSIM = 0.9897\n",
            "Image 36: PSNR = 37.8359, SSIM = 0.9880\n",
            "Image 37: PSNR = 36.6177, SSIM = 0.9828\n",
            "Image 38: PSNR = 44.6611, SSIM = 0.9925\n",
            "Image 39: PSNR = 39.1420, SSIM = 0.9890\n"
          ]
        },
        {
          "output_type": "stream",
          "name": "stderr",
          "text": [
            "\rTesting:   3%|▎         | 7/250 [00:42<17:28,  4.32s/it]"
          ]
        },
        {
          "output_type": "stream",
          "name": "stdout",
          "text": [
            "Image 40: PSNR = 33.2030, SSIM = 0.9819\n",
            "Image 41: PSNR = 41.3921, SSIM = 0.9917\n",
            "Image 42: PSNR = 40.4081, SSIM = 0.9894\n",
            "Image 43: PSNR = 37.7388, SSIM = 0.9771\n",
            "Image 44: PSNR = 35.7321, SSIM = 0.9774\n",
            "Image 45: PSNR = 37.8838, SSIM = 0.9701\n",
            "Image 46: PSNR = 34.6902, SSIM = 0.9746\n",
            "Image 47: PSNR = 43.0457, SSIM = 0.9875\n",
            "Image 48: PSNR = 48.2718, SSIM = 0.9873\n",
            "Image 49: PSNR = 35.0319, SSIM = 0.9767\n",
            "Image 50: PSNR = 38.9177, SSIM = 0.9795\n",
            "Image 51: PSNR = 35.7741, SSIM = 0.9860\n",
            "Image 52: PSNR = 38.6145, SSIM = 0.9899\n",
            "Image 53: PSNR = 38.9354, SSIM = 0.9903\n",
            "Image 54: PSNR = 36.0954, SSIM = 0.9776\n",
            "Image 55: PSNR = 41.4522, SSIM = 0.9904\n",
            "Image 56: PSNR = 40.2172, SSIM = 0.9927\n",
            "Image 57: PSNR = 36.2465, SSIM = 0.9899\n",
            "Image 58: PSNR = 38.9842, SSIM = 0.9888\n",
            "Image 59: PSNR = 37.8464, SSIM = 0.9766\n",
            "Image 60: PSNR = 37.4602, SSIM = 0.9897\n",
            "Image 61: PSNR = 37.2033, SSIM = 0.9884\n",
            "Image 62: PSNR = 44.1699, SSIM = 0.9902\n",
            "Image 63: PSNR = 36.0423, SSIM = 0.9727\n",
            "Image 64: PSNR = 39.9222, SSIM = 0.9837\n"
          ]
        },
        {
          "output_type": "stream",
          "name": "stderr",
          "text": [
            "\rTesting:   4%|▎         | 9/250 [00:42<10:53,  2.71s/it]"
          ]
        },
        {
          "output_type": "stream",
          "name": "stdout",
          "text": [
            "Image 65: PSNR = 39.3885, SSIM = 0.9869\n",
            "Image 66: PSNR = 38.4919, SSIM = 0.9925\n",
            "Image 67: PSNR = 44.7476, SSIM = 0.9832\n",
            "Image 68: PSNR = 41.0892, SSIM = 0.9881\n",
            "Image 69: PSNR = 36.4992, SSIM = 0.9897\n",
            "Image 70: PSNR = 45.2245, SSIM = 0.9924\n",
            "Image 71: PSNR = 43.6333, SSIM = 0.9898\n",
            "Image 72: PSNR = 39.6844, SSIM = 0.9827\n",
            "Image 73: PSNR = 42.3143, SSIM = 0.9878\n",
            "Image 74: PSNR = 40.7961, SSIM = 0.9899\n",
            "Image 75: PSNR = 42.0110, SSIM = 0.9902\n",
            "Image 76: PSNR = 38.2499, SSIM = 0.9816\n",
            "Image 77: PSNR = 40.0874, SSIM = 0.9884\n",
            "Image 78: PSNR = 38.5988, SSIM = 0.9728\n",
            "Image 79: PSNR = 44.6666, SSIM = 0.9944\n"
          ]
        },
        {
          "output_type": "stream",
          "name": "stderr",
          "text": [
            "Testing:   5%|▌         | 13/250 [00:43<05:00,  1.27s/it]"
          ]
        },
        {
          "output_type": "stream",
          "name": "stdout",
          "text": [
            "Image 80: PSNR = 39.8233, SSIM = 0.9776\n",
            "Image 81: PSNR = 38.8247, SSIM = 0.9893\n",
            "Image 82: PSNR = 39.9823, SSIM = 0.9811\n",
            "Image 83: PSNR = 42.4630, SSIM = 0.9855\n",
            "Image 84: PSNR = 37.0127, SSIM = 0.9863\n",
            "Image 85: PSNR = 42.6410, SSIM = 0.9824\n",
            "Image 86: PSNR = 40.8923, SSIM = 0.9802\n",
            "Image 87: PSNR = 36.9168, SSIM = 0.9721\n",
            "Image 88: PSNR = 39.5460, SSIM = 0.9686\n",
            "Image 89: PSNR = 40.8621, SSIM = 0.9772\n",
            "Image 90: PSNR = 40.7288, SSIM = 0.9890\n",
            "Image 91: PSNR = 46.6388, SSIM = 0.9816\n",
            "Image 92: PSNR = 47.7514, SSIM = 0.9915\n",
            "Image 93: PSNR = 41.2450, SSIM = 0.9915\n",
            "Image 94: PSNR = 38.1728, SSIM = 0.9889\n",
            "Image 95: PSNR = 39.8032, SSIM = 0.9818\n",
            "Image 96: PSNR = 42.2972, SSIM = 0.9853\n",
            "Image 97: PSNR = 41.9948, SSIM = 0.9844\n",
            "Image 98: PSNR = 39.4744, SSIM = 0.9859\n",
            "Image 99: PSNR = 37.1643, SSIM = 0.9865\n",
            "Image 100: PSNR = 37.3766, SSIM = 0.9563\n",
            "Image 101: PSNR = 48.0608, SSIM = 0.9905\n",
            "Image 102: PSNR = 46.1598, SSIM = 0.9915\n",
            "Image 103: PSNR = 37.7302, SSIM = 0.9796\n"
          ]
        },
        {
          "output_type": "stream",
          "name": "stderr",
          "text": [
            "\rTesting:   6%|▌         | 15/250 [00:44<03:51,  1.02it/s]"
          ]
        },
        {
          "output_type": "stream",
          "name": "stdout",
          "text": [
            "Image 104: PSNR = 37.3556, SSIM = 0.9798\n",
            "Image 105: PSNR = 38.6663, SSIM = 0.9833\n",
            "Image 106: PSNR = 35.3916, SSIM = 0.9878\n",
            "Image 107: PSNR = 44.5948, SSIM = 0.9735\n",
            "Image 108: PSNR = 37.2542, SSIM = 0.9812\n",
            "Image 109: PSNR = 37.8171, SSIM = 0.9868\n",
            "Image 110: PSNR = 36.4371, SSIM = 0.9809\n",
            "Image 111: PSNR = 38.7734, SSIM = 0.9708\n",
            "Image 112: PSNR = 38.0126, SSIM = 0.9845\n",
            "Image 113: PSNR = 36.5569, SSIM = 0.9874\n",
            "Image 114: PSNR = 38.2756, SSIM = 0.9854\n",
            "Image 115: PSNR = 47.8779, SSIM = 0.9894\n",
            "Image 116: PSNR = 41.3912, SSIM = 0.9885\n",
            "Image 117: PSNR = 47.5350, SSIM = 0.9853\n",
            "Image 118: PSNR = 37.2119, SSIM = 0.9758\n",
            "Image 119: PSNR = 40.1038, SSIM = 0.9811\n"
          ]
        },
        {
          "output_type": "stream",
          "name": "stderr",
          "text": [
            "Testing:   7%|▋         | 18/250 [00:45<02:23,  1.61it/s]"
          ]
        },
        {
          "output_type": "stream",
          "name": "stdout",
          "text": [
            "Image 120: PSNR = 40.6250, SSIM = 0.9916\n",
            "Image 121: PSNR = 41.2495, SSIM = 0.9866\n",
            "Image 122: PSNR = 40.5460, SSIM = 0.9912\n",
            "Image 123: PSNR = 44.0933, SSIM = 0.9915\n",
            "Image 124: PSNR = 37.1188, SSIM = 0.9603\n",
            "Image 125: PSNR = 39.0667, SSIM = 0.8204\n",
            "Image 126: PSNR = 43.8635, SSIM = 0.9921\n",
            "Image 127: PSNR = 40.4384, SSIM = 0.9794\n",
            "Image 128: PSNR = 40.9707, SSIM = 0.9789\n",
            "Image 129: PSNR = 39.5275, SSIM = 0.9905\n",
            "Image 130: PSNR = 40.7484, SSIM = 0.9823\n",
            "Image 131: PSNR = 35.3728, SSIM = 0.9760\n",
            "Image 132: PSNR = 35.6479, SSIM = 0.9840\n",
            "Image 133: PSNR = 46.9230, SSIM = 0.9827\n",
            "Image 134: PSNR = 42.3861, SSIM = 0.9789\n",
            "Image 135: PSNR = 35.1652, SSIM = 0.9070\n",
            "Image 136: PSNR = 40.3256, SSIM = 0.9889\n",
            "Image 137: PSNR = 38.3740, SSIM = 0.9809\n",
            "Image 138: PSNR = 38.5711, SSIM = 0.9810\n",
            "Image 139: PSNR = 38.5928, SSIM = 0.9826\n",
            "Image 140: PSNR = 39.7661, SSIM = 0.9608\n",
            "Image 141: PSNR = 38.0364, SSIM = 0.9774\n",
            "Image 142: PSNR = 39.5555, SSIM = 0.9807\n",
            "Image 143: PSNR = 39.1189, SSIM = 0.9874\n",
            "Image 144: PSNR = 36.5672, SSIM = 0.9861\n"
          ]
        },
        {
          "output_type": "stream",
          "name": "stderr",
          "text": [
            "\rTesting:   8%|▊         | 20/250 [00:45<01:40,  2.29it/s]"
          ]
        },
        {
          "output_type": "stream",
          "name": "stdout",
          "text": [
            "Image 145: PSNR = 39.6812, SSIM = 0.9908\n",
            "Image 146: PSNR = 40.0778, SSIM = 0.9637\n",
            "Image 147: PSNR = 42.5803, SSIM = 0.9831\n",
            "Image 148: PSNR = 34.6994, SSIM = 0.9812\n",
            "Image 149: PSNR = 38.0891, SSIM = 0.9787\n",
            "Image 150: PSNR = 38.4917, SSIM = 0.9821\n",
            "Image 151: PSNR = 35.2225, SSIM = 0.9831\n",
            "Image 152: PSNR = 43.0889, SSIM = 0.9891\n",
            "Image 153: PSNR = 43.7043, SSIM = 0.9716\n",
            "Image 154: PSNR = 39.4644, SSIM = 0.9870\n",
            "Image 155: PSNR = 42.1325, SSIM = 0.9934\n",
            "Image 156: PSNR = 37.8633, SSIM = 0.9772\n",
            "Image 157: PSNR = 38.5225, SSIM = 0.9863\n",
            "Image 158: PSNR = 41.3752, SSIM = 0.9858\n",
            "Image 159: PSNR = 41.6840, SSIM = 0.9908\n",
            "Image 160: PSNR = 36.1296, SSIM = 0.9826\n",
            "Image 161: PSNR = 38.2440, SSIM = 0.9729\n",
            "Image 162: PSNR = 37.6310, SSIM = 0.9911\n"
          ]
        },
        {
          "output_type": "stream",
          "name": "stderr",
          "text": [
            "\rTesting:   9%|▉         | 22/250 [00:45<01:14,  3.06it/s]"
          ]
        },
        {
          "output_type": "stream",
          "name": "stdout",
          "text": [
            "Image 163: PSNR = 39.2206, SSIM = 0.9733\n",
            "Image 164: PSNR = 45.8799, SSIM = 0.9776\n",
            "Image 165: PSNR = 42.1143, SSIM = 0.9932\n",
            "Image 166: PSNR = 41.5416, SSIM = 0.9828\n",
            "Image 167: PSNR = 41.9619, SSIM = 0.9894\n",
            "Image 168: PSNR = 36.7980, SSIM = 0.9846\n",
            "Image 169: PSNR = 39.8350, SSIM = 0.9916\n",
            "Image 170: PSNR = 39.9555, SSIM = 0.9918\n",
            "Image 171: PSNR = 40.9603, SSIM = 0.9921\n",
            "Image 172: PSNR = 39.9301, SSIM = 0.9769\n",
            "Image 173: PSNR = 37.9056, SSIM = 0.9888\n",
            "Image 174: PSNR = 40.3137, SSIM = 0.9887\n",
            "Image 175: PSNR = 46.4902, SSIM = 0.9909\n",
            "Image 176: PSNR = 37.4180, SSIM = 0.9876\n",
            "Image 177: PSNR = 40.0684, SSIM = 0.9786\n",
            "Image 178: PSNR = 49.7620, SSIM = 0.9921\n",
            "Image 179: PSNR = 35.7100, SSIM = 0.9769\n",
            "Image 180: PSNR = 40.1446, SSIM = 0.9826\n",
            "Image 181: PSNR = 45.3480, SSIM = 0.9852\n",
            "Image 182: PSNR = 37.3238, SSIM = 0.9803\n",
            "Image 183: PSNR = 35.8229, SSIM = 0.9832\n",
            "Image 184: PSNR = 37.8567, SSIM = 0.9538\n",
            "Image 185: PSNR = 34.7941, SSIM = 0.9805\n"
          ]
        },
        {
          "output_type": "stream",
          "name": "stderr",
          "text": [
            "Testing:  10%|█         | 26/250 [00:45<00:42,  5.28it/s]"
          ]
        },
        {
          "output_type": "stream",
          "name": "stdout",
          "text": [
            "Image 186: PSNR = 39.2867, SSIM = 0.9826\n",
            "Image 187: PSNR = 44.3980, SSIM = 0.9904\n",
            "Image 188: PSNR = 34.5479, SSIM = 0.9834\n",
            "Image 189: PSNR = 39.1213, SSIM = 0.9744\n",
            "Image 190: PSNR = 40.3682, SSIM = 0.9795\n",
            "Image 191: PSNR = 39.9623, SSIM = 0.9821\n",
            "Image 192: PSNR = 40.9622, SSIM = 0.9811\n",
            "Image 193: PSNR = 41.1373, SSIM = 0.9770\n",
            "Image 194: PSNR = 40.6843, SSIM = 0.9869\n",
            "Image 195: PSNR = 40.2627, SSIM = 0.9846\n",
            "Image 196: PSNR = 37.0360, SSIM = 0.9795\n",
            "Image 197: PSNR = 40.3752, SSIM = 0.9844\n",
            "Image 198: PSNR = 37.1100, SSIM = 0.9832\n",
            "Image 199: PSNR = 38.4815, SSIM = 0.9728\n",
            "Image 200: PSNR = 40.9022, SSIM = 0.9888\n",
            "Image 201: PSNR = 39.5793, SSIM = 0.9834\n",
            "Image 202: PSNR = 39.6390, SSIM = 0.9849\n",
            "Image 203: PSNR = 38.4452, SSIM = 0.9863\n",
            "Image 204: PSNR = 37.9620, SSIM = 0.9921\n",
            "Image 205: PSNR = 41.5163, SSIM = 0.9849\n",
            "Image 206: PSNR = 37.8933, SSIM = 0.9817\n",
            "Image 207: PSNR = 38.4524, SSIM = 0.9898\n",
            "Image 208: PSNR = 39.9883, SSIM = 0.9736\n",
            "Image 209: PSNR = 38.6015, SSIM = 0.9870\n",
            "Image 210: PSNR = 35.4458, SSIM = 0.9754\n",
            "Image 211: PSNR = 38.7902, SSIM = 0.9811\n"
          ]
        },
        {
          "output_type": "stream",
          "name": "stderr",
          "text": [
            "\rTesting:  11%|█         | 28/250 [00:45<00:33,  6.66it/s]"
          ]
        },
        {
          "output_type": "stream",
          "name": "stdout",
          "text": [
            "Image 212: PSNR = 40.5718, SSIM = 0.9818\n",
            "Image 213: PSNR = 38.5763, SSIM = 0.9585\n",
            "Image 214: PSNR = 41.8503, SSIM = 0.9909\n",
            "Image 215: PSNR = 39.7074, SSIM = 0.9934\n",
            "Image 216: PSNR = 46.7267, SSIM = 0.9844\n",
            "Image 217: PSNR = 38.8513, SSIM = 0.9861\n",
            "Image 218: PSNR = 42.3643, SSIM = 0.9810\n",
            "Image 219: PSNR = 41.7965, SSIM = 0.9895\n",
            "Image 220: PSNR = 35.6383, SSIM = 0.9850\n",
            "Image 221: PSNR = 38.8949, SSIM = 0.9839\n",
            "Image 222: PSNR = 41.8954, SSIM = 0.9868\n",
            "Image 223: PSNR = 45.5497, SSIM = 0.9784\n"
          ]
        },
        {
          "output_type": "stream",
          "name": "stderr",
          "text": [
            "\rTesting:  12%|█▏        | 30/250 [00:46<00:57,  3.81it/s]"
          ]
        },
        {
          "output_type": "stream",
          "name": "stdout",
          "text": [
            "Image 224: PSNR = 47.4847, SSIM = 0.9846\n",
            "Image 225: PSNR = 46.6890, SSIM = 0.9926\n",
            "Image 226: PSNR = 42.3748, SSIM = 0.9904\n",
            "Image 227: PSNR = 43.9307, SSIM = 0.9910\n",
            "Image 228: PSNR = 45.4782, SSIM = 0.9847\n",
            "Image 229: PSNR = 37.4304, SSIM = 0.9830\n",
            "Image 230: PSNR = 39.6184, SSIM = 0.9824\n",
            "Image 231: PSNR = 37.0957, SSIM = 0.9810\n",
            "Image 232: PSNR = 40.2235, SSIM = 0.9939\n",
            "Image 233: PSNR = 38.2236, SSIM = 0.9713\n",
            "Image 234: PSNR = 42.2970, SSIM = 0.9868\n",
            "Image 235: PSNR = 38.2317, SSIM = 0.9826\n",
            "Image 236: PSNR = 42.0368, SSIM = 0.9766\n",
            "Image 237: PSNR = 40.1478, SSIM = 0.9860\n",
            "Image 238: PSNR = 41.6772, SSIM = 0.9870\n",
            "Image 239: PSNR = 40.0034, SSIM = 0.9797\n",
            "Image 240: PSNR = 35.6262, SSIM = 0.9763\n",
            "Image 241: PSNR = 39.6641, SSIM = 0.9853\n",
            "Image 242: PSNR = 49.0028, SSIM = 0.9904\n",
            "Image 243: PSNR = 37.1690, SSIM = 0.9766\n",
            "Image 244: PSNR = 42.0342, SSIM = 0.9918\n",
            "Image 245: PSNR = 37.9392, SSIM = 0.9738\n",
            "Image 246: PSNR = 39.0910, SSIM = 0.9890\n",
            "Image 247: PSNR = 41.7172, SSIM = 0.9782\n",
            "Image 248: PSNR = 38.0341, SSIM = 0.9868\n",
            "Image 249: PSNR = 34.9917, SSIM = 0.9852\n"
          ]
        },
        {
          "output_type": "stream",
          "name": "stderr",
          "text": [
            "Testing:  14%|█▎        | 34/250 [00:47<00:34,  6.21it/s]"
          ]
        },
        {
          "output_type": "stream",
          "name": "stdout",
          "text": [
            "Image 250: PSNR = 36.0109, SSIM = 0.9883\n",
            "Image 251: PSNR = 42.0599, SSIM = 0.9891\n",
            "Image 252: PSNR = 37.3289, SSIM = 0.9842\n",
            "Image 253: PSNR = 41.2020, SSIM = 0.9743\n",
            "Image 254: PSNR = 41.5709, SSIM = 0.9913\n",
            "Image 255: PSNR = 42.0281, SSIM = 0.9924\n",
            "Image 256: PSNR = 43.9739, SSIM = 0.9921\n",
            "Image 257: PSNR = 34.9682, SSIM = 0.9771\n",
            "Image 258: PSNR = 34.9264, SSIM = 0.9808\n",
            "Image 259: PSNR = 39.6982, SSIM = 0.9665\n",
            "Image 260: PSNR = 40.8326, SSIM = 0.9828\n",
            "Image 261: PSNR = 38.7786, SSIM = 0.9806\n",
            "Image 262: PSNR = 41.3349, SSIM = 0.9919\n",
            "Image 263: PSNR = 33.6756, SSIM = 0.9847\n",
            "Image 264: PSNR = 37.3215, SSIM = 0.9762\n",
            "Image 265: PSNR = 38.8561, SSIM = 0.9928\n",
            "Image 266: PSNR = 46.3898, SSIM = 0.9860\n",
            "Image 267: PSNR = 35.9061, SSIM = 0.9751\n",
            "Image 268: PSNR = 40.2394, SSIM = 0.9856\n",
            "Image 269: PSNR = 37.2961, SSIM = 0.9844\n",
            "Image 270: PSNR = 40.0370, SSIM = 0.9918\n",
            "Image 271: PSNR = 45.3569, SSIM = 0.9769\n",
            "Image 272: PSNR = 41.4395, SSIM = 0.9684\n",
            "Image 273: PSNR = 43.3666, SSIM = 0.9936\n",
            "Image 274: PSNR = 45.8379, SSIM = 0.9896\n"
          ]
        },
        {
          "output_type": "stream",
          "name": "stderr",
          "text": [
            "\rTesting:  14%|█▍        | 36/250 [00:47<00:28,  7.51it/s]"
          ]
        },
        {
          "output_type": "stream",
          "name": "stdout",
          "text": [
            "Image 275: PSNR = 40.3531, SSIM = 0.9789\n",
            "Image 276: PSNR = 40.3319, SSIM = 0.9786\n",
            "Image 277: PSNR = 36.4583, SSIM = 0.9883\n",
            "Image 278: PSNR = 34.2098, SSIM = 0.9831\n",
            "Image 279: PSNR = 40.1710, SSIM = 0.9783\n",
            "Image 280: PSNR = 40.7743, SSIM = 0.9779\n",
            "Image 281: PSNR = 39.0155, SSIM = 0.9790\n",
            "Image 282: PSNR = 43.9480, SSIM = 0.9902\n",
            "Image 283: PSNR = 39.7866, SSIM = 0.9726\n",
            "Image 284: PSNR = 39.5322, SSIM = 0.9907\n",
            "Image 285: PSNR = 39.2310, SSIM = 0.9855\n",
            "Image 286: PSNR = 40.7858, SSIM = 0.9910\n",
            "Image 287: PSNR = 35.0320, SSIM = 0.9755\n",
            "Image 288: PSNR = 37.1755, SSIM = 0.9891\n",
            "Image 289: PSNR = 43.4716, SSIM = 0.9922\n",
            "Image 290: PSNR = 39.3600, SSIM = 0.9854\n",
            "Image 291: PSNR = 44.2869, SSIM = 0.9924\n",
            "Image 292: PSNR = 42.6515, SSIM = 0.9877\n",
            "Image 293: PSNR = 41.0763, SSIM = 0.9901\n",
            "Image 294: PSNR = 39.9556, SSIM = 0.9783\n",
            "Image 295: PSNR = 42.5951, SSIM = 0.9680\n",
            "Image 296: PSNR = 43.2801, SSIM = 0.9887\n",
            "Image 297: PSNR = 40.0010, SSIM = 0.9840\n",
            "Image 298: PSNR = 42.1822, SSIM = 0.9865\n"
          ]
        },
        {
          "output_type": "stream",
          "name": "stderr",
          "text": [
            "\rTesting:  15%|█▌        | 38/250 [00:47<00:24,  8.80it/s]"
          ]
        },
        {
          "output_type": "stream",
          "name": "stdout",
          "text": [
            "Image 299: PSNR = 37.2811, SSIM = 0.9764\n",
            "Image 300: PSNR = 33.5918, SSIM = 0.9797\n",
            "Image 301: PSNR = 38.6016, SSIM = 0.9714\n",
            "Image 302: PSNR = 39.4552, SSIM = 0.9915\n",
            "Image 303: PSNR = 36.4836, SSIM = 0.9785\n"
          ]
        },
        {
          "output_type": "stream",
          "name": "stderr",
          "text": [
            "\rTesting:  16%|█▌        | 40/250 [00:48<01:06,  3.14it/s]"
          ]
        },
        {
          "output_type": "stream",
          "name": "stdout",
          "text": [
            "Image 304: PSNR = 37.0420, SSIM = 0.9816\n",
            "Image 305: PSNR = 42.0431, SSIM = 0.9935\n",
            "Image 306: PSNR = 37.7631, SSIM = 0.9820\n",
            "Image 307: PSNR = 37.5997, SSIM = 0.9724\n",
            "Image 308: PSNR = 40.8658, SSIM = 0.9812\n",
            "Image 309: PSNR = 39.7991, SSIM = 0.9848\n",
            "Image 310: PSNR = 40.4301, SSIM = 0.9756\n",
            "Image 311: PSNR = 40.1855, SSIM = 0.9823\n",
            "Image 312: PSNR = 42.9754, SSIM = 0.9899\n",
            "Image 313: PSNR = 41.0781, SSIM = 0.9704\n",
            "Image 314: PSNR = 41.6991, SSIM = 0.9925\n",
            "Image 315: PSNR = 37.1266, SSIM = 0.9862\n",
            "Image 316: PSNR = 43.9583, SSIM = 0.9777\n",
            "Image 317: PSNR = 40.2705, SSIM = 0.9931\n",
            "Image 318: PSNR = 40.7097, SSIM = 0.9893\n",
            "Image 319: PSNR = 40.0987, SSIM = 0.9922\n"
          ]
        },
        {
          "output_type": "stream",
          "name": "stderr",
          "text": [
            "\rTesting:  17%|█▋        | 42/250 [00:49<01:04,  3.24it/s]"
          ]
        },
        {
          "output_type": "stream",
          "name": "stdout",
          "text": [
            "Image 320: PSNR = 36.5376, SSIM = 0.9834\n",
            "Image 321: PSNR = 36.1533, SSIM = 0.9889\n",
            "Image 322: PSNR = 38.4790, SSIM = 0.9875\n",
            "Image 323: PSNR = 40.6466, SSIM = 0.9237\n",
            "Image 324: PSNR = 39.1901, SSIM = 0.9911\n",
            "Image 325: PSNR = 41.2478, SSIM = 0.9870\n",
            "Image 326: PSNR = 41.5181, SSIM = 0.9905\n",
            "Image 327: PSNR = 37.1442, SSIM = 0.9826\n",
            "Image 328: PSNR = 36.6958, SSIM = 0.9717\n",
            "Image 329: PSNR = 43.9531, SSIM = 0.9921\n",
            "Image 330: PSNR = 46.2592, SSIM = 0.9828\n",
            "Image 331: PSNR = 38.8417, SSIM = 0.9851\n",
            "Image 332: PSNR = 37.7480, SSIM = 0.9774\n",
            "Image 333: PSNR = 39.1134, SSIM = 0.9890\n",
            "Image 334: PSNR = 42.4555, SSIM = 0.9904\n",
            "Image 335: PSNR = 39.5472, SSIM = 0.9827\n",
            "Image 336: PSNR = 39.6613, SSIM = 0.9896\n",
            "Image 337: PSNR = 34.5772, SSIM = 0.9849\n",
            "Image 338: PSNR = 35.8629, SSIM = 0.9843\n",
            "Image 339: PSNR = 38.8571, SSIM = 0.9902\n",
            "Image 340: PSNR = 47.1346, SSIM = 0.9870\n",
            "Image 341: PSNR = 40.7104, SSIM = 0.9930\n",
            "Image 342: PSNR = 39.5502, SSIM = 0.9783\n",
            "Image 343: PSNR = 40.9773, SSIM = 0.9851\n"
          ]
        },
        {
          "output_type": "stream",
          "name": "stderr",
          "text": [
            "Testing:  18%|█▊        | 46/250 [00:49<00:38,  5.34it/s]"
          ]
        },
        {
          "output_type": "stream",
          "name": "stdout",
          "text": [
            "Image 344: PSNR = 35.6077, SSIM = 0.9756\n",
            "Image 345: PSNR = 40.1167, SSIM = 0.9847\n",
            "Image 346: PSNR = 39.5069, SSIM = 0.9766\n",
            "Image 347: PSNR = 34.7341, SSIM = 0.9761\n",
            "Image 348: PSNR = 40.6083, SSIM = 0.9886\n",
            "Image 349: PSNR = 39.6083, SSIM = 0.9837\n",
            "Image 350: PSNR = 39.8622, SSIM = 0.9723\n",
            "Image 351: PSNR = 41.5374, SSIM = 0.9728\n",
            "Image 352: PSNR = 38.2507, SSIM = 0.9909\n",
            "Image 353: PSNR = 36.8464, SSIM = 0.9787\n",
            "Image 354: PSNR = 37.9292, SSIM = 0.9894\n",
            "Image 355: PSNR = 38.3766, SSIM = 0.9743\n",
            "Image 356: PSNR = 41.7468, SSIM = 0.9931\n",
            "Image 357: PSNR = 40.5307, SSIM = 0.9898\n",
            "Image 358: PSNR = 45.2920, SSIM = 0.9925\n",
            "Image 359: PSNR = 38.0719, SSIM = 0.9876\n",
            "Image 360: PSNR = 34.2165, SSIM = 0.9857\n",
            "Image 361: PSNR = 39.4932, SSIM = 0.9858\n",
            "Image 362: PSNR = 42.0608, SSIM = 0.9892\n",
            "Image 363: PSNR = 44.7534, SSIM = 0.9704\n",
            "Image 364: PSNR = 37.4890, SSIM = 0.9916\n",
            "Image 365: PSNR = 38.5788, SSIM = 0.9853\n",
            "Image 366: PSNR = 34.2779, SSIM = 0.9791\n",
            "Image 367: PSNR = 39.5719, SSIM = 0.9837\n",
            "Image 368: PSNR = 39.7516, SSIM = 0.9891\n",
            "Image 369: PSNR = 34.7895, SSIM = 0.9804\n",
            "Image 370: PSNR = 43.7769, SSIM = 0.9917\n",
            "Image 371: PSNR = 41.1082, SSIM = 0.9920\n",
            "Image 372: PSNR = 40.8472, SSIM = 0.9755\n",
            "Image 373: PSNR = 40.7949, SSIM = 0.9852\n",
            "Image 374: PSNR = 38.1067, SSIM = 0.9876\n",
            "Image 375: PSNR = 38.2349, SSIM = 0.9898\n"
          ]
        },
        {
          "output_type": "stream",
          "name": "stderr",
          "text": [
            "\rTesting:  19%|█▉        | 48/250 [00:50<00:48,  4.17it/s]"
          ]
        },
        {
          "output_type": "stream",
          "name": "stdout",
          "text": [
            "Image 376: PSNR = 41.9800, SSIM = 0.9930\n",
            "Image 377: PSNR = 38.5418, SSIM = 0.9896\n",
            "Image 378: PSNR = 40.4579, SSIM = 0.9849\n",
            "Image 379: PSNR = 37.8351, SSIM = 0.9827\n",
            "Image 380: PSNR = 38.2684, SSIM = 0.9756\n",
            "Image 381: PSNR = 39.1333, SSIM = 0.9834\n",
            "Image 382: PSNR = 36.8780, SSIM = 0.9772\n",
            "Image 383: PSNR = 35.4531, SSIM = 0.9722\n"
          ]
        },
        {
          "output_type": "stream",
          "name": "stderr",
          "text": [
            "Testing:  20%|██        | 51/250 [00:50<00:37,  5.33it/s]"
          ]
        },
        {
          "output_type": "stream",
          "name": "stdout",
          "text": [
            "Image 384: PSNR = 39.6167, SSIM = 0.9900\n",
            "Image 385: PSNR = 38.0416, SSIM = 0.9714\n",
            "Image 386: PSNR = 36.6136, SSIM = 0.9873\n",
            "Image 387: PSNR = 38.6612, SSIM = 0.9905\n",
            "Image 388: PSNR = 38.1613, SSIM = 0.9780\n",
            "Image 389: PSNR = 37.3629, SSIM = 0.9696\n",
            "Image 390: PSNR = 39.0943, SSIM = 0.9918\n",
            "Image 391: PSNR = 44.6979, SSIM = 0.9794\n",
            "Image 392: PSNR = 41.8045, SSIM = 0.9815\n",
            "Image 393: PSNR = 38.3676, SSIM = 0.9827\n",
            "Image 394: PSNR = 43.4419, SSIM = 0.9927\n",
            "Image 395: PSNR = 35.0417, SSIM = 0.9809\n",
            "Image 396: PSNR = 49.5806, SSIM = 0.9918\n",
            "Image 397: PSNR = 42.2276, SSIM = 0.9937\n",
            "Image 398: PSNR = 39.0780, SSIM = 0.9658\n",
            "Image 399: PSNR = 42.0999, SSIM = 0.9802\n",
            "Image 400: PSNR = 42.0460, SSIM = 0.9868\n",
            "Image 401: PSNR = 44.4516, SSIM = 0.9906\n",
            "Image 402: PSNR = 43.8194, SSIM = 0.9910\n",
            "Image 403: PSNR = 38.5823, SSIM = 0.9761\n",
            "Image 404: PSNR = 37.0815, SSIM = 0.9903\n",
            "Image 405: PSNR = 46.5011, SSIM = 0.9896\n",
            "Image 406: PSNR = 34.6072, SSIM = 0.9809\n",
            "Image 407: PSNR = 37.4959, SSIM = 0.9851\n",
            "Image 408: PSNR = 37.9224, SSIM = 0.9851\n",
            "Image 409: PSNR = 40.6963, SSIM = 0.9782\n",
            "Image 410: PSNR = 44.8107, SSIM = 0.9760\n",
            "Image 411: PSNR = 45.5805, SSIM = 0.9784\n",
            "Image 412: PSNR = 43.5825, SSIM = 0.9870\n",
            "Image 413: PSNR = 37.8257, SSIM = 0.9846\n",
            "Image 414: PSNR = 41.5802, SSIM = 0.9845\n",
            "Image 415: PSNR = 37.7679, SSIM = 0.9710\n"
          ]
        },
        {
          "output_type": "stream",
          "name": "stderr",
          "text": [
            "Testing:  22%|██▏       | 55/250 [00:51<00:32,  6.09it/s]"
          ]
        },
        {
          "output_type": "stream",
          "name": "stdout",
          "text": [
            "Image 416: PSNR = 42.9596, SSIM = 0.9863\n",
            "Image 417: PSNR = 40.3769, SSIM = 0.9894\n",
            "Image 418: PSNR = 37.4478, SSIM = 0.9626\n",
            "Image 419: PSNR = 39.7668, SSIM = 0.9817\n",
            "Image 420: PSNR = 39.4499, SSIM = 0.9808\n",
            "Image 421: PSNR = 40.5152, SSIM = 0.9858\n",
            "Image 422: PSNR = 36.8732, SSIM = 0.9850\n",
            "Image 423: PSNR = 38.9934, SSIM = 0.9768\n",
            "Image 424: PSNR = 42.1923, SSIM = 0.9922\n",
            "Image 425: PSNR = 37.4959, SSIM = 0.9745\n",
            "Image 426: PSNR = 41.3533, SSIM = 0.9936\n",
            "Image 427: PSNR = 43.6987, SSIM = 0.9930\n",
            "Image 428: PSNR = 36.1616, SSIM = 0.9861\n",
            "Image 429: PSNR = 36.8020, SSIM = 0.9742\n",
            "Image 430: PSNR = 40.0279, SSIM = 0.9894\n",
            "Image 431: PSNR = 45.3257, SSIM = 0.9928\n",
            "Image 432: PSNR = 38.1647, SSIM = 0.9890\n",
            "Image 433: PSNR = 38.8030, SSIM = 0.9946\n",
            "Image 434: PSNR = 35.3828, SSIM = 0.9840\n",
            "Image 435: PSNR = 39.5347, SSIM = 0.9845\n",
            "Image 436: PSNR = 40.6113, SSIM = 0.9759\n",
            "Image 437: PSNR = 40.5746, SSIM = 0.9842\n",
            "Image 438: PSNR = 40.9957, SSIM = 0.9893\n",
            "Image 439: PSNR = 36.8787, SSIM = 0.9794\n"
          ]
        },
        {
          "output_type": "stream",
          "name": "stderr",
          "text": [
            "\rTesting:  23%|██▎       | 57/250 [00:51<00:26,  7.35it/s]"
          ]
        },
        {
          "output_type": "stream",
          "name": "stdout",
          "text": [
            "Image 440: PSNR = 39.6423, SSIM = 0.9775\n",
            "Image 441: PSNR = 40.1262, SSIM = 0.9725\n",
            "Image 442: PSNR = 39.4041, SSIM = 0.9879\n",
            "Image 443: PSNR = 39.3726, SSIM = 0.9826\n",
            "Image 444: PSNR = 37.3211, SSIM = 0.9892\n",
            "Image 445: PSNR = 40.2901, SSIM = 0.9929\n",
            "Image 446: PSNR = 34.8817, SSIM = 0.9771\n",
            "Image 447: PSNR = 44.4125, SSIM = 0.9841\n",
            "Image 448: PSNR = 39.8501, SSIM = 0.9742\n",
            "Image 449: PSNR = 40.5691, SSIM = 0.9865\n",
            "Image 450: PSNR = 37.9408, SSIM = 0.9800\n",
            "Image 451: PSNR = 39.8460, SSIM = 0.9855\n",
            "Image 452: PSNR = 34.9553, SSIM = 0.9875\n",
            "Image 453: PSNR = 38.6275, SSIM = 0.9912\n",
            "Image 454: PSNR = 41.8468, SSIM = 0.9832\n",
            "Image 455: PSNR = 34.9213, SSIM = 0.9853\n",
            "Image 456: PSNR = 39.1082, SSIM = 0.9907\n",
            "Image 457: PSNR = 44.9334, SSIM = 0.9924\n",
            "Image 458: PSNR = 35.0075, SSIM = 0.9785\n",
            "Image 459: PSNR = 39.6192, SSIM = 0.9792\n",
            "Image 460: PSNR = 43.3249, SSIM = 0.9939\n",
            "Image 461: PSNR = 37.8571, SSIM = 0.9914\n",
            "Image 462: PSNR = 40.3763, SSIM = 0.9860\n",
            "Image 463: PSNR = 40.3379, SSIM = 0.9814\n"
          ]
        },
        {
          "output_type": "stream",
          "name": "stderr",
          "text": [
            "Testing:  24%|██▍       | 61/250 [00:51<00:19,  9.86it/s]"
          ]
        },
        {
          "output_type": "stream",
          "name": "stdout",
          "text": [
            "Image 464: PSNR = 41.5300, SSIM = 0.9881\n",
            "Image 465: PSNR = 36.7738, SSIM = 0.9871\n",
            "Image 466: PSNR = 39.2577, SSIM = 0.9915\n",
            "Image 467: PSNR = 39.5388, SSIM = 0.9773\n",
            "Image 468: PSNR = 41.1367, SSIM = 0.9860\n",
            "Image 469: PSNR = 38.7864, SSIM = 0.9878\n",
            "Image 470: PSNR = 38.5017, SSIM = 0.9866\n",
            "Image 471: PSNR = 36.5525, SSIM = 0.9727\n",
            "Image 472: PSNR = 40.9213, SSIM = 0.9830\n",
            "Image 473: PSNR = 42.0045, SSIM = 0.9799\n",
            "Image 474: PSNR = 36.9522, SSIM = 0.9865\n",
            "Image 475: PSNR = 40.2775, SSIM = 0.9865\n",
            "Image 476: PSNR = 40.5319, SSIM = 0.9858\n",
            "Image 477: PSNR = 35.7818, SSIM = 0.9897\n",
            "Image 478: PSNR = 38.9907, SSIM = 0.9853\n",
            "Image 479: PSNR = 38.6839, SSIM = 0.9856\n",
            "Image 480: PSNR = 41.0760, SSIM = 0.9817\n",
            "Image 481: PSNR = 43.0335, SSIM = 0.9929\n",
            "Image 482: PSNR = 42.1283, SSIM = 0.9900\n",
            "Image 483: PSNR = 40.8274, SSIM = 0.9825\n",
            "Image 484: PSNR = 39.3039, SSIM = 0.9658\n",
            "Image 485: PSNR = 38.2100, SSIM = 0.9778\n",
            "Image 486: PSNR = 39.2498, SSIM = 0.9813\n",
            "Image 487: PSNR = 42.7210, SSIM = 0.9856\n",
            "Image 488: PSNR = 38.2323, SSIM = 0.9813\n",
            "Image 489: PSNR = 34.1640, SSIM = 0.9854\n",
            "Image 490: PSNR = 38.4226, SSIM = 0.9860\n",
            "Image 491: PSNR = 38.5547, SSIM = 0.9867\n",
            "Image 492: PSNR = 40.4952, SSIM = 0.9889\n",
            "Image 493: PSNR = 37.6549, SSIM = 0.9885\n",
            "Image 494: PSNR = 39.3375, SSIM = 0.9829\n",
            "Image 495: PSNR = 41.9330, SSIM = 0.9871\n",
            "Image 496: PSNR = 40.1344, SSIM = 0.9896\n",
            "Image 497: PSNR = 39.7449, SSIM = 0.9874\n",
            "Image 498: PSNR = 35.5292, SSIM = 0.9745\n"
          ]
        },
        {
          "output_type": "stream",
          "name": "stderr",
          "text": [
            "Testing:  26%|██▌       | 65/250 [00:52<00:18, 10.02it/s]"
          ]
        },
        {
          "output_type": "stream",
          "name": "stdout",
          "text": [
            "Image 499: PSNR = 40.1013, SSIM = 0.9795\n",
            "Image 500: PSNR = 44.4276, SSIM = 0.9916\n",
            "Image 501: PSNR = 37.9423, SSIM = 0.9884\n",
            "Image 502: PSNR = 38.3739, SSIM = 0.9897\n",
            "Image 503: PSNR = 41.2831, SSIM = 0.9922\n",
            "Image 504: PSNR = 47.8595, SSIM = 0.9881\n",
            "Image 505: PSNR = 37.1240, SSIM = 0.9926\n",
            "Image 506: PSNR = 40.3006, SSIM = 0.9806\n",
            "Image 507: PSNR = 39.9739, SSIM = 0.9769\n",
            "Image 508: PSNR = 37.2622, SSIM = 0.9839\n",
            "Image 509: PSNR = 37.8612, SSIM = 0.9865\n",
            "Image 510: PSNR = 45.7754, SSIM = 0.9910\n",
            "Image 511: PSNR = 40.7547, SSIM = 0.9730\n",
            "Image 512: PSNR = 39.2147, SSIM = 0.9826\n",
            "Image 513: PSNR = 35.9610, SSIM = 0.9811\n",
            "Image 514: PSNR = 40.1752, SSIM = 0.9879\n",
            "Image 515: PSNR = 41.2957, SSIM = 0.9905\n",
            "Image 516: PSNR = 42.2537, SSIM = 0.9881\n",
            "Image 517: PSNR = 36.0163, SSIM = 0.9781\n",
            "Image 518: PSNR = 44.2985, SSIM = 0.9850\n",
            "Image 519: PSNR = 37.0591, SSIM = 0.9760\n"
          ]
        },
        {
          "output_type": "stream",
          "name": "stderr",
          "text": [
            "\rTesting:  27%|██▋       | 67/250 [00:52<00:16, 11.01it/s]"
          ]
        },
        {
          "output_type": "stream",
          "name": "stdout",
          "text": [
            "Image 520: PSNR = 39.8385, SSIM = 0.9751\n",
            "Image 521: PSNR = 43.3322, SSIM = 0.9745\n",
            "Image 522: PSNR = 45.3297, SSIM = 0.9888\n",
            "Image 523: PSNR = 39.3669, SSIM = 0.9880\n",
            "Image 524: PSNR = 36.9363, SSIM = 0.9794\n",
            "Image 525: PSNR = 35.6274, SSIM = 0.9775\n",
            "Image 526: PSNR = 36.3751, SSIM = 0.9741\n",
            "Image 527: PSNR = 34.9901, SSIM = 0.9831\n",
            "Image 528: PSNR = 34.1976, SSIM = 0.9814\n",
            "Image 529: PSNR = 39.3135, SSIM = 0.9732\n",
            "Image 530: PSNR = 39.6077, SSIM = 0.9908\n",
            "Image 531: PSNR = 41.1859, SSIM = 0.9744\n",
            "Image 532: PSNR = 36.4540, SSIM = 0.9759\n",
            "Image 533: PSNR = 38.2689, SSIM = 0.9901\n",
            "Image 534: PSNR = 39.3330, SSIM = 0.9886\n",
            "Image 535: PSNR = 44.5059, SSIM = 0.9909\n",
            "Image 536: PSNR = 41.8139, SSIM = 0.9890\n",
            "Image 537: PSNR = 39.5558, SSIM = 0.9946\n",
            "Image 538: PSNR = 38.8353, SSIM = 0.9924\n",
            "Image 539: PSNR = 41.5407, SSIM = 0.9871\n",
            "Image 540: PSNR = 44.1974, SSIM = 0.9922\n",
            "Image 541: PSNR = 40.2890, SSIM = 0.9792\n",
            "Image 542: PSNR = 41.1509, SSIM = 0.9818\n",
            "Image 543: PSNR = 34.9372, SSIM = 0.9762\n"
          ]
        },
        {
          "output_type": "stream",
          "name": "stderr",
          "text": [
            "\rTesting:  28%|██▊       | 69/250 [00:53<00:26,  6.96it/s]"
          ]
        },
        {
          "output_type": "stream",
          "name": "stdout",
          "text": [
            "Image 544: PSNR = 40.4057, SSIM = 0.9932\n",
            "Image 545: PSNR = 36.3027, SSIM = 0.9861\n",
            "Image 546: PSNR = 33.8912, SSIM = 0.9794\n",
            "Image 547: PSNR = 42.4505, SSIM = 0.9928\n",
            "Image 548: PSNR = 40.5749, SSIM = 0.9798\n",
            "Image 549: PSNR = 35.1077, SSIM = 0.9841\n",
            "Image 550: PSNR = 32.7570, SSIM = 0.9777\n",
            "Image 551: PSNR = 39.2499, SSIM = 0.9786\n",
            "Image 552: PSNR = 38.1863, SSIM = 0.9743\n",
            "Image 553: PSNR = 37.0698, SSIM = 0.9904\n",
            "Image 554: PSNR = 40.4911, SSIM = 0.9875\n",
            "Image 555: PSNR = 43.3432, SSIM = 0.9906\n",
            "Image 556: PSNR = 36.1480, SSIM = 0.9786\n",
            "Image 557: PSNR = 40.2359, SSIM = 0.9823\n",
            "Image 558: PSNR = 41.4060, SSIM = 0.9842\n",
            "Image 559: PSNR = 40.0987, SSIM = 0.9808\n"
          ]
        },
        {
          "output_type": "stream",
          "name": "stderr",
          "text": [
            "Testing:  29%|██▉       | 73/250 [00:53<00:26,  6.60it/s]"
          ]
        },
        {
          "output_type": "stream",
          "name": "stdout",
          "text": [
            "Image 560: PSNR = 40.0240, SSIM = 0.9819\n",
            "Image 561: PSNR = 38.3439, SSIM = 0.9897\n",
            "Image 562: PSNR = 42.7670, SSIM = 0.9888\n",
            "Image 563: PSNR = 44.6010, SSIM = 0.9933\n",
            "Image 564: PSNR = 36.3166, SSIM = 0.7014\n",
            "Image 565: PSNR = 39.3182, SSIM = 0.9907\n",
            "Image 566: PSNR = 36.9742, SSIM = 0.9901\n",
            "Image 567: PSNR = 40.7862, SSIM = 0.9871\n",
            "Image 568: PSNR = 36.6686, SSIM = 0.9762\n",
            "Image 569: PSNR = 40.6755, SSIM = 0.9887\n",
            "Image 570: PSNR = 36.2403, SSIM = 0.9789\n",
            "Image 571: PSNR = 37.3563, SSIM = 0.9834\n",
            "Image 572: PSNR = 37.4796, SSIM = 0.9839\n",
            "Image 573: PSNR = 42.1408, SSIM = 0.9924\n",
            "Image 574: PSNR = 35.5875, SSIM = 0.9821\n",
            "Image 575: PSNR = 38.3316, SSIM = 0.9842\n",
            "Image 576: PSNR = 43.8729, SSIM = 0.9922\n",
            "Image 577: PSNR = 42.1603, SSIM = 0.9876\n",
            "Image 578: PSNR = 45.6120, SSIM = 0.9759\n",
            "Image 579: PSNR = 39.4913, SSIM = 0.9839\n",
            "Image 580: PSNR = 38.3129, SSIM = 0.9849\n",
            "Image 581: PSNR = 39.0630, SSIM = 0.9798\n",
            "Image 582: PSNR = 45.3462, SSIM = 0.9894\n",
            "Image 583: PSNR = 43.1894, SSIM = 0.9900\n",
            "Image 584: PSNR = 35.0213, SSIM = 0.9813\n",
            "Image 585: PSNR = 36.9844, SSIM = 0.9898\n",
            "Image 586: PSNR = 37.0259, SSIM = 0.9882\n",
            "Image 587: PSNR = 38.3569, SSIM = 0.9837\n",
            "Image 588: PSNR = 35.0321, SSIM = 0.9836\n",
            "Image 589: PSNR = 38.5752, SSIM = 0.9785\n",
            "Image 590: PSNR = 37.9838, SSIM = 0.9802\n",
            "Image 591: PSNR = 42.5006, SSIM = 0.9865\n"
          ]
        },
        {
          "output_type": "stream",
          "name": "stderr",
          "text": [
            "Testing:  31%|███       | 77/250 [00:54<00:27,  6.25it/s]"
          ]
        },
        {
          "output_type": "stream",
          "name": "stdout",
          "text": [
            "Image 592: PSNR = 35.2432, SSIM = 0.9712\n",
            "Image 593: PSNR = 35.3372, SSIM = 0.9778\n",
            "Image 594: PSNR = 37.6994, SSIM = 0.9781\n",
            "Image 595: PSNR = 35.9590, SSIM = 0.9834\n",
            "Image 596: PSNR = 41.1848, SSIM = 0.9880\n",
            "Image 597: PSNR = 40.8771, SSIM = 0.9937\n",
            "Image 598: PSNR = 35.4093, SSIM = 0.9861\n",
            "Image 599: PSNR = 43.2308, SSIM = 0.9835\n",
            "Image 600: PSNR = 37.9799, SSIM = 0.9787\n",
            "Image 601: PSNR = 37.1138, SSIM = 0.9771\n",
            "Image 602: PSNR = 33.8406, SSIM = 0.9737\n",
            "Image 603: PSNR = 36.6165, SSIM = 0.9824\n",
            "Image 604: PSNR = 35.9598, SSIM = 0.9839\n",
            "Image 605: PSNR = 38.8781, SSIM = 0.9851\n",
            "Image 606: PSNR = 41.7235, SSIM = 0.9855\n",
            "Image 607: PSNR = 41.3990, SSIM = 0.9920\n",
            "Image 608: PSNR = 40.9198, SSIM = 0.9812\n",
            "Image 609: PSNR = 40.6063, SSIM = 0.9854\n",
            "Image 610: PSNR = 41.7516, SSIM = 0.9926\n",
            "Image 611: PSNR = 42.5418, SSIM = 0.9873\n",
            "Image 612: PSNR = 34.8863, SSIM = 0.9854\n",
            "Image 613: PSNR = 38.4484, SSIM = 0.9833\n",
            "Image 614: PSNR = 44.7141, SSIM = 0.9922\n",
            "Image 615: PSNR = 41.9554, SSIM = 0.9896\n",
            "Image 616: PSNR = 43.6765, SSIM = 0.9929\n",
            "Image 617: PSNR = 39.0166, SSIM = 0.9827\n",
            "Image 618: PSNR = 37.8863, SSIM = 0.9636\n",
            "Image 619: PSNR = 44.1633, SSIM = 0.9930\n",
            "Image 620: PSNR = 38.6048, SSIM = 0.9872\n",
            "Image 621: PSNR = 37.4689, SSIM = 0.9680\n",
            "Image 622: PSNR = 41.0891, SSIM = 0.9683\n",
            "Image 623: PSNR = 43.0468, SSIM = 0.9793\n"
          ]
        },
        {
          "output_type": "stream",
          "name": "stderr",
          "text": [
            "Testing:  32%|███▏      | 81/250 [00:56<00:50,  3.37it/s]"
          ]
        },
        {
          "output_type": "stream",
          "name": "stdout",
          "text": [
            "Image 624: PSNR = 43.3295, SSIM = 0.9901\n",
            "Image 625: PSNR = 41.5485, SSIM = 0.9683\n",
            "Image 626: PSNR = 36.6306, SSIM = 0.9784\n",
            "Image 627: PSNR = 39.9974, SSIM = 0.9905\n",
            "Image 628: PSNR = 39.5970, SSIM = 0.9886\n",
            "Image 629: PSNR = 38.2813, SSIM = 0.9763\n",
            "Image 630: PSNR = 37.0133, SSIM = 0.9649\n",
            "Image 631: PSNR = 38.2417, SSIM = 0.9908\n",
            "Image 632: PSNR = 36.0040, SSIM = 0.9831\n",
            "Image 633: PSNR = 43.4033, SSIM = 0.9901\n",
            "Image 634: PSNR = 36.7601, SSIM = 0.9856\n",
            "Image 635: PSNR = 34.5023, SSIM = 0.9808\n",
            "Image 636: PSNR = 44.1501, SSIM = 0.9924\n",
            "Image 637: PSNR = 41.7211, SSIM = 0.9865\n",
            "Image 638: PSNR = 37.5272, SSIM = 0.9866\n",
            "Image 639: PSNR = 38.3698, SSIM = 0.9843\n",
            "Image 640: PSNR = 34.0837, SSIM = 0.5813\n",
            "Image 641: PSNR = 37.6016, SSIM = 0.9921\n",
            "Image 642: PSNR = 39.4670, SSIM = 0.9907\n",
            "Image 643: PSNR = 37.8972, SSIM = 0.9853\n",
            "Image 644: PSNR = 42.1861, SSIM = 0.9913\n",
            "Image 645: PSNR = 40.3948, SSIM = 0.9871\n",
            "Image 646: PSNR = 38.8264, SSIM = 0.9911\n",
            "Image 647: PSNR = 39.5988, SSIM = 0.9809\n",
            "Image 648: PSNR = 43.8891, SSIM = 0.9709\n",
            "Image 649: PSNR = 44.1652, SSIM = 0.9833\n"
          ]
        },
        {
          "output_type": "stream",
          "name": "stderr",
          "text": [
            "\rTesting:  33%|███▎      | 83/250 [00:56<00:37,  4.41it/s]"
          ]
        },
        {
          "output_type": "stream",
          "name": "stdout",
          "text": [
            "Image 650: PSNR = 37.9305, SSIM = 0.9805\n",
            "Image 651: PSNR = 46.3486, SSIM = 0.9813\n",
            "Image 652: PSNR = 37.7991, SSIM = 0.9898\n",
            "Image 653: PSNR = 38.2451, SSIM = 0.9794\n",
            "Image 654: PSNR = 40.6332, SSIM = 0.9927\n",
            "Image 655: PSNR = 38.8947, SSIM = 0.9836\n",
            "Image 656: PSNR = 38.8481, SSIM = 0.9839\n",
            "Image 657: PSNR = 42.5468, SSIM = 0.9927\n",
            "Image 658: PSNR = 37.8340, SSIM = 0.9907\n",
            "Image 659: PSNR = 36.6551, SSIM = 0.9880\n",
            "Image 660: PSNR = 41.9334, SSIM = 0.9866\n",
            "Image 661: PSNR = 40.3129, SSIM = 0.9692\n",
            "Image 662: PSNR = 38.0752, SSIM = 0.9755\n",
            "Image 663: PSNR = 37.5448, SSIM = 0.9838\n",
            "Image 664: PSNR = 40.0285, SSIM = 0.9917\n",
            "Image 665: PSNR = 38.6060, SSIM = 0.9772\n",
            "Image 666: PSNR = 43.8238, SSIM = 0.9932\n",
            "Image 667: PSNR = 37.4554, SSIM = 0.9845\n",
            "Image 668: PSNR = 35.7797, SSIM = 0.9736\n",
            "Image 669: PSNR = 34.6322, SSIM = 0.7869\n",
            "Image 670: PSNR = 38.7264, SSIM = 0.9726\n",
            "Image 671: PSNR = 37.3862, SSIM = 0.9922\n"
          ]
        },
        {
          "output_type": "stream",
          "name": "stderr",
          "text": [
            "Testing:  35%|███▍      | 87/250 [00:57<00:26,  6.23it/s]"
          ]
        },
        {
          "output_type": "stream",
          "name": "stdout",
          "text": [
            "Image 672: PSNR = 37.4499, SSIM = 0.9784\n",
            "Image 673: PSNR = 34.1383, SSIM = 0.9809\n",
            "Image 674: PSNR = 36.4598, SSIM = 0.9731\n",
            "Image 675: PSNR = 37.1413, SSIM = 0.9750\n",
            "Image 676: PSNR = 44.5977, SSIM = 0.9924\n",
            "Image 677: PSNR = 38.1958, SSIM = 0.9931\n",
            "Image 678: PSNR = 40.8182, SSIM = 0.9900\n",
            "Image 679: PSNR = 41.1908, SSIM = 0.9872\n",
            "Image 680: PSNR = 34.3903, SSIM = 0.9827\n",
            "Image 681: PSNR = 45.1452, SSIM = 0.9902\n",
            "Image 682: PSNR = 39.0132, SSIM = 0.9919\n",
            "Image 683: PSNR = 41.1873, SSIM = 0.9851\n",
            "Image 684: PSNR = 38.1623, SSIM = 0.9902\n",
            "Image 685: PSNR = 38.8282, SSIM = 0.9849\n",
            "Image 686: PSNR = 39.8746, SSIM = 0.9909\n",
            "Image 687: PSNR = 37.5523, SSIM = 0.9822\n",
            "Image 688: PSNR = 38.6799, SSIM = 0.9909\n",
            "Image 689: PSNR = 40.6009, SSIM = 0.9622\n",
            "Image 690: PSNR = 41.8622, SSIM = 0.9894\n",
            "Image 691: PSNR = 37.8335, SSIM = 0.9871\n",
            "Image 692: PSNR = 41.8165, SSIM = 0.9900\n",
            "Image 693: PSNR = 36.2795, SSIM = 0.9851\n",
            "Image 694: PSNR = 38.8689, SSIM = 0.9652\n",
            "Image 695: PSNR = 45.4279, SSIM = 0.9758\n"
          ]
        },
        {
          "output_type": "stream",
          "name": "stderr",
          "text": [
            "\rTesting:  36%|███▌      | 89/250 [00:57<00:22,  7.01it/s]"
          ]
        },
        {
          "output_type": "stream",
          "name": "stdout",
          "text": [
            "Image 696: PSNR = 37.6259, SSIM = 0.9799\n",
            "Image 697: PSNR = 34.9715, SSIM = 0.9742\n",
            "Image 698: PSNR = 38.7860, SSIM = 0.9774\n",
            "Image 699: PSNR = 39.3351, SSIM = 0.9851\n",
            "Image 700: PSNR = 38.4789, SSIM = 0.9768\n",
            "Image 701: PSNR = 36.6774, SSIM = 0.9740\n",
            "Image 702: PSNR = 45.0356, SSIM = 0.9859\n",
            "Image 703: PSNR = 39.6328, SSIM = 0.9784\n",
            "Image 704: PSNR = 45.1185, SSIM = 0.9911\n",
            "Image 705: PSNR = 36.2904, SSIM = 0.9783\n",
            "Image 706: PSNR = 36.7705, SSIM = 0.9843\n",
            "Image 707: PSNR = 43.6232, SSIM = 0.9903\n",
            "Image 708: PSNR = 40.6922, SSIM = 0.9620\n",
            "Image 709: PSNR = 35.7377, SSIM = 0.9756\n",
            "Image 710: PSNR = 35.0783, SSIM = 0.9854\n",
            "Image 711: PSNR = 41.3501, SSIM = 0.9850\n",
            "Image 712: PSNR = 37.8914, SSIM = 0.9782\n",
            "Image 713: PSNR = 45.6409, SSIM = 0.9919\n",
            "Image 714: PSNR = 40.0780, SSIM = 0.9871\n",
            "Image 715: PSNR = 44.9762, SSIM = 0.9930\n",
            "Image 716: PSNR = 39.5921, SSIM = 0.9861\n",
            "Image 717: PSNR = 40.6032, SSIM = 0.9767\n",
            "Image 718: PSNR = 36.2491, SSIM = 0.9709\n",
            "Image 719: PSNR = 43.7506, SSIM = 0.9925\n",
            "Image 720: PSNR = 43.1878, SSIM = 0.9874\n",
            "Image 721: PSNR = 39.6996, SSIM = 0.9886\n",
            "Image 722: PSNR = 35.5603, SSIM = 0.9716\n",
            "Image 723: PSNR = 38.0821, SSIM = 0.9909\n",
            "Image 724: PSNR = 38.3969, SSIM = 0.9895\n",
            "Image 725: PSNR = 39.3831, SSIM = 0.9812\n"
          ]
        },
        {
          "output_type": "stream",
          "name": "stderr",
          "text": [
            "\rTesting:  36%|███▋      | 91/250 [00:57<00:22,  7.15it/s]"
          ]
        },
        {
          "output_type": "stream",
          "name": "stdout",
          "text": [
            "Image 726: PSNR = 39.6925, SSIM = 0.9859\n",
            "Image 727: PSNR = 38.1966, SSIM = 0.9817\n",
            "Image 728: PSNR = 44.7801, SSIM = 0.9739\n",
            "Image 729: PSNR = 44.3753, SSIM = 0.9887\n",
            "Image 730: PSNR = 36.5877, SSIM = 0.9760\n",
            "Image 731: PSNR = 47.8398, SSIM = 0.9873\n",
            "Image 732: PSNR = 39.3299, SSIM = 0.9861\n",
            "Image 733: PSNR = 42.8997, SSIM = 0.9808\n",
            "Image 734: PSNR = 41.7431, SSIM = 0.9861\n",
            "Image 735: PSNR = 45.7018, SSIM = 0.9927\n"
          ]
        },
        {
          "output_type": "stream",
          "name": "stderr",
          "text": [
            "\rTesting:  37%|███▋      | 93/250 [00:57<00:21,  7.31it/s]"
          ]
        },
        {
          "output_type": "stream",
          "name": "stdout",
          "text": [
            "Image 736: PSNR = 35.8266, SSIM = 0.9764\n",
            "Image 737: PSNR = 35.8789, SSIM = 0.9750\n",
            "Image 738: PSNR = 42.5904, SSIM = 0.9921\n",
            "Image 739: PSNR = 43.4985, SSIM = 0.9859\n",
            "Image 740: PSNR = 43.4059, SSIM = 0.9867\n",
            "Image 741: PSNR = 44.2383, SSIM = 0.9876\n",
            "Image 742: PSNR = 41.1521, SSIM = 0.9814\n",
            "Image 743: PSNR = 37.4241, SSIM = 0.9812\n",
            "Image 744: PSNR = 36.5014, SSIM = 0.9899\n",
            "Image 745: PSNR = 39.2773, SSIM = 0.9886\n",
            "Image 746: PSNR = 38.3652, SSIM = 0.9840\n",
            "Image 747: PSNR = 39.3280, SSIM = 0.9862\n",
            "Image 748: PSNR = 46.7567, SSIM = 0.9857\n",
            "Image 749: PSNR = 36.4908, SSIM = 0.9894\n",
            "Image 750: PSNR = 36.7021, SSIM = 0.9882\n",
            "Image 751: PSNR = 41.8446, SSIM = 0.9891\n"
          ]
        },
        {
          "output_type": "stream",
          "name": "stderr",
          "text": [
            "Testing:  39%|███▉      | 97/250 [00:59<00:43,  3.53it/s]"
          ]
        },
        {
          "output_type": "stream",
          "name": "stdout",
          "text": [
            "Image 752: PSNR = 40.5740, SSIM = 0.9821\n",
            "Image 753: PSNR = 39.0006, SSIM = 0.9845\n",
            "Image 754: PSNR = 34.5818, SSIM = 0.9834\n",
            "Image 755: PSNR = 40.8087, SSIM = 0.9854\n",
            "Image 756: PSNR = 39.1591, SSIM = 0.9827\n",
            "Image 757: PSNR = 39.8905, SSIM = 0.9786\n",
            "Image 758: PSNR = 38.4288, SSIM = 0.9843\n",
            "Image 759: PSNR = 36.4473, SSIM = 0.9842\n",
            "Image 760: PSNR = 41.0132, SSIM = 0.9702\n",
            "Image 761: PSNR = 40.1529, SSIM = 0.9854\n",
            "Image 762: PSNR = 41.0714, SSIM = 0.9874\n",
            "Image 763: PSNR = 40.6701, SSIM = 0.9854\n",
            "Image 764: PSNR = 39.8548, SSIM = 0.9739\n",
            "Image 765: PSNR = 38.0721, SSIM = 0.9867\n",
            "Image 766: PSNR = 42.3599, SSIM = 0.9754\n",
            "Image 767: PSNR = 47.3031, SSIM = 0.9853\n",
            "Image 768: PSNR = 38.0477, SSIM = 0.9821\n",
            "Image 769: PSNR = 43.6493, SSIM = 0.9801\n",
            "Image 770: PSNR = 36.0628, SSIM = 0.9817\n",
            "Image 771: PSNR = 36.3628, SSIM = 0.9790\n",
            "Image 772: PSNR = 37.2637, SSIM = 0.9896\n",
            "Image 773: PSNR = 40.7490, SSIM = 0.9890\n",
            "Image 774: PSNR = 38.1606, SSIM = 0.9809\n",
            "Image 775: PSNR = 37.3616, SSIM = 0.9424\n",
            "Image 776: PSNR = 37.4440, SSIM = 0.7802\n",
            "Image 777: PSNR = 35.6646, SSIM = 0.9846\n",
            "Image 778: PSNR = 36.3903, SSIM = 0.9839\n"
          ]
        },
        {
          "output_type": "stream",
          "name": "stderr",
          "text": [
            "\rTesting:  40%|███▉      | 99/250 [00:59<00:33,  4.58it/s]"
          ]
        },
        {
          "output_type": "stream",
          "name": "stdout",
          "text": [
            "Image 779: PSNR = 36.7777, SSIM = 0.9870\n",
            "Image 780: PSNR = 38.4954, SSIM = 0.9818\n",
            "Image 781: PSNR = 45.7265, SSIM = 0.9942\n",
            "Image 782: PSNR = 42.9078, SSIM = 0.9806\n",
            "Image 783: PSNR = 43.4572, SSIM = 0.9922\n",
            "Image 784: PSNR = 37.1157, SSIM = 0.9806\n",
            "Image 785: PSNR = 38.0154, SSIM = 0.9803\n",
            "Image 786: PSNR = 41.7980, SSIM = 0.9681\n",
            "Image 787: PSNR = 35.6377, SSIM = 0.9811\n",
            "Image 788: PSNR = 40.0478, SSIM = 0.9775\n",
            "Image 789: PSNR = 43.3460, SSIM = 0.9811\n",
            "Image 790: PSNR = 39.4065, SSIM = 0.9727\n",
            "Image 791: PSNR = 40.2478, SSIM = 0.9764\n",
            "Image 792: PSNR = 43.9267, SSIM = 0.9832\n",
            "Image 793: PSNR = 35.8611, SSIM = 0.9897\n",
            "Image 794: PSNR = 46.0282, SSIM = 0.9931\n",
            "Image 795: PSNR = 36.0838, SSIM = 0.9848\n",
            "Image 796: PSNR = 42.5021, SSIM = 0.9859\n",
            "Image 797: PSNR = 38.5779, SSIM = 0.9931\n",
            "Image 798: PSNR = 39.3400, SSIM = 0.9854\n",
            "Image 799: PSNR = 43.8951, SSIM = 0.9902\n"
          ]
        },
        {
          "output_type": "stream",
          "name": "stderr",
          "text": [
            "Testing:  41%|████      | 103/250 [01:00<00:22,  6.44it/s]"
          ]
        },
        {
          "output_type": "stream",
          "name": "stdout",
          "text": [
            "Image 800: PSNR = 43.3208, SSIM = 0.9885\n",
            "Image 801: PSNR = 43.0165, SSIM = 0.9894\n",
            "Image 802: PSNR = 37.2954, SSIM = 0.9822\n",
            "Image 803: PSNR = 43.7222, SSIM = 0.9895\n",
            "Image 804: PSNR = 42.5983, SSIM = 0.9822\n",
            "Image 805: PSNR = 37.9749, SSIM = 0.9721\n",
            "Image 806: PSNR = 37.7253, SSIM = 0.9859\n",
            "Image 807: PSNR = 35.6152, SSIM = 0.9814\n",
            "Image 808: PSNR = 44.8990, SSIM = 0.9924\n",
            "Image 809: PSNR = 37.5475, SSIM = 0.9783\n",
            "Image 810: PSNR = 39.7585, SSIM = 0.9896\n",
            "Image 811: PSNR = 42.2588, SSIM = 0.9886\n",
            "Image 812: PSNR = 40.1359, SSIM = 0.9679\n",
            "Image 813: PSNR = 36.4798, SSIM = 0.9841\n",
            "Image 814: PSNR = 36.2277, SSIM = 0.9909\n",
            "Image 815: PSNR = 39.8745, SSIM = 0.9777\n",
            "Image 816: PSNR = 34.5239, SSIM = 0.9796\n",
            "Image 817: PSNR = 39.3194, SSIM = 0.9724\n",
            "Image 818: PSNR = 36.4403, SSIM = 0.9866\n",
            "Image 819: PSNR = 38.3090, SSIM = 0.9858\n",
            "Image 820: PSNR = 47.3756, SSIM = 0.9850\n",
            "Image 821: PSNR = 37.0583, SSIM = 0.9881\n",
            "Image 822: PSNR = 34.7449, SSIM = 0.9747\n",
            "Image 823: PSNR = 40.2655, SSIM = 0.9923\n",
            "Image 824: PSNR = 46.0967, SSIM = 0.9886\n"
          ]
        },
        {
          "output_type": "stream",
          "name": "stderr",
          "text": [
            "\rTesting:  42%|████▏     | 105/250 [01:00<00:18,  7.72it/s]"
          ]
        },
        {
          "output_type": "stream",
          "name": "stdout",
          "text": [
            "Image 825: PSNR = 40.8426, SSIM = 0.9900\n",
            "Image 826: PSNR = 43.7024, SSIM = 0.9720\n",
            "Image 827: PSNR = 42.2552, SSIM = 0.9844\n",
            "Image 828: PSNR = 36.5892, SSIM = 0.9790\n",
            "Image 829: PSNR = 42.4112, SSIM = 0.9883\n",
            "Image 830: PSNR = 37.9492, SSIM = 0.9930\n",
            "Image 831: PSNR = 35.8932, SSIM = 0.9697\n",
            "Image 832: PSNR = 42.9973, SSIM = 0.9852\n",
            "Image 833: PSNR = 38.0516, SSIM = 0.9794\n",
            "Image 834: PSNR = 40.4387, SSIM = 0.9934\n",
            "Image 835: PSNR = 36.3024, SSIM = 0.9829\n",
            "Image 836: PSNR = 36.3703, SSIM = 0.9863\n",
            "Image 837: PSNR = 38.3738, SSIM = 0.9789\n",
            "Image 838: PSNR = 37.7011, SSIM = 0.9866\n",
            "Image 839: PSNR = 40.6884, SSIM = 0.9932\n",
            "Image 840: PSNR = 37.4989, SSIM = 0.9895\n",
            "Image 841: PSNR = 40.7490, SSIM = 0.9884\n",
            "Image 842: PSNR = 41.2421, SSIM = 0.9843\n",
            "Image 843: PSNR = 42.5850, SSIM = 0.9738\n",
            "Image 844: PSNR = 40.2315, SSIM = 0.9944\n",
            "Image 845: PSNR = 42.4062, SSIM = 0.9929\n",
            "Image 846: PSNR = 41.8343, SSIM = 0.9840\n",
            "Image 847: PSNR = 40.7660, SSIM = 0.9933\n"
          ]
        },
        {
          "output_type": "stream",
          "name": "stderr",
          "text": [
            "Testing:  44%|████▎     | 109/250 [01:01<00:23,  5.89it/s]"
          ]
        },
        {
          "output_type": "stream",
          "name": "stdout",
          "text": [
            "Image 848: PSNR = 45.6849, SSIM = 0.9899\n",
            "Image 849: PSNR = 37.2899, SSIM = 0.9487\n",
            "Image 850: PSNR = 45.2616, SSIM = 0.9943\n",
            "Image 851: PSNR = 49.3687, SSIM = 0.9920\n",
            "Image 852: PSNR = 40.2224, SSIM = 0.9908\n",
            "Image 853: PSNR = 42.7610, SSIM = 0.9920\n",
            "Image 854: PSNR = 44.6668, SSIM = 0.9922\n",
            "Image 855: PSNR = 39.3123, SSIM = 0.9712\n",
            "Image 856: PSNR = 39.0650, SSIM = 0.9764\n",
            "Image 857: PSNR = 34.6681, SSIM = 0.9794\n",
            "Image 858: PSNR = 41.3348, SSIM = 0.9881\n",
            "Image 859: PSNR = 37.7853, SSIM = 0.9867\n",
            "Image 860: PSNR = 38.2146, SSIM = 0.9759\n",
            "Image 861: PSNR = 34.9735, SSIM = 0.9773\n",
            "Image 862: PSNR = 38.3856, SSIM = 0.9582\n",
            "Image 863: PSNR = 43.4690, SSIM = 0.9882\n",
            "Image 864: PSNR = 46.7851, SSIM = 0.9823\n",
            "Image 865: PSNR = 41.5058, SSIM = 0.9830\n",
            "Image 866: PSNR = 41.3762, SSIM = 0.9918\n",
            "Image 867: PSNR = 35.1469, SSIM = 0.9740\n",
            "Image 868: PSNR = 40.5850, SSIM = 0.9819\n",
            "Image 869: PSNR = 37.1599, SSIM = 0.9820\n",
            "Image 870: PSNR = 42.0306, SSIM = 0.9862\n",
            "Image 871: PSNR = 39.3933, SSIM = 0.9807\n",
            "Image 872: PSNR = 44.7832, SSIM = 0.9881\n"
          ]
        },
        {
          "output_type": "stream",
          "name": "stderr",
          "text": [
            "\rTesting:  44%|████▍     | 111/250 [01:01<00:19,  7.26it/s]"
          ]
        },
        {
          "output_type": "stream",
          "name": "stdout",
          "text": [
            "Image 873: PSNR = 41.7221, SSIM = 0.9915\n",
            "Image 874: PSNR = 40.0689, SSIM = 0.9873\n",
            "Image 875: PSNR = 38.5438, SSIM = 0.9862\n",
            "Image 876: PSNR = 37.8272, SSIM = 0.9838\n",
            "Image 877: PSNR = 41.2916, SSIM = 0.9922\n",
            "Image 878: PSNR = 37.7026, SSIM = 0.9877\n",
            "Image 879: PSNR = 44.1240, SSIM = 0.9883\n",
            "Image 880: PSNR = 39.4537, SSIM = 0.9732\n",
            "Image 881: PSNR = 39.0537, SSIM = 0.9930\n",
            "Image 882: PSNR = 39.4449, SSIM = 0.9831\n",
            "Image 883: PSNR = 36.6096, SSIM = 0.9787\n",
            "Image 884: PSNR = 44.3198, SSIM = 0.9842\n",
            "Image 885: PSNR = 38.8551, SSIM = 0.9815\n",
            "Image 886: PSNR = 41.6497, SSIM = 0.9919\n",
            "Image 887: PSNR = 46.0797, SSIM = 0.9874\n",
            "Image 888: PSNR = 38.5238, SSIM = 0.9905\n",
            "Image 889: PSNR = 36.9531, SSIM = 0.9825\n",
            "Image 890: PSNR = 37.2636, SSIM = 0.9837\n",
            "Image 891: PSNR = 43.1304, SSIM = 0.9855\n",
            "Image 892: PSNR = 38.0407, SSIM = 0.9908\n",
            "Image 893: PSNR = 39.5785, SSIM = 0.9856\n",
            "Image 894: PSNR = 38.5983, SSIM = 0.9870\n",
            "Image 895: PSNR = 40.8421, SSIM = 0.9920\n",
            "Image 896: PSNR = 39.2200, SSIM = 0.9818\n",
            "Image 897: PSNR = 44.8025, SSIM = 0.9937\n",
            "Image 898: PSNR = 39.8206, SSIM = 0.9899\n",
            "Image 899: PSNR = 40.3040, SSIM = 0.9796\n"
          ]
        },
        {
          "output_type": "stream",
          "name": "stderr",
          "text": [
            "Testing:  46%|████▌     | 115/250 [01:01<00:13, 10.02it/s]"
          ]
        },
        {
          "output_type": "stream",
          "name": "stdout",
          "text": [
            "Image 900: PSNR = 37.3409, SSIM = 0.9826\n",
            "Image 901: PSNR = 38.2992, SSIM = 0.9794\n",
            "Image 902: PSNR = 35.8429, SSIM = 0.9844\n",
            "Image 903: PSNR = 37.0402, SSIM = 0.9752\n",
            "Image 904: PSNR = 37.4726, SSIM = 0.9809\n",
            "Image 905: PSNR = 40.9972, SSIM = 0.9792\n",
            "Image 906: PSNR = 35.3029, SSIM = 0.9851\n",
            "Image 907: PSNR = 35.4071, SSIM = 0.9808\n",
            "Image 908: PSNR = 41.4842, SSIM = 0.9920\n",
            "Image 909: PSNR = 40.4605, SSIM = 0.9775\n",
            "Image 910: PSNR = 38.0345, SSIM = 0.9809\n",
            "Image 911: PSNR = 49.5771, SSIM = 0.9911\n",
            "Image 912: PSNR = 38.8715, SSIM = 0.9708\n",
            "Image 913: PSNR = 39.3732, SSIM = 0.9915\n",
            "Image 914: PSNR = 40.2737, SSIM = 0.9769\n",
            "Image 915: PSNR = 47.1677, SSIM = 0.9905\n",
            "Image 916: PSNR = 39.4035, SSIM = 0.9911\n",
            "Image 917: PSNR = 40.3506, SSIM = 0.9930\n",
            "Image 918: PSNR = 41.4890, SSIM = 0.9861\n",
            "Image 919: PSNR = 44.1410, SSIM = 0.9918\n"
          ]
        },
        {
          "output_type": "stream",
          "name": "stderr",
          "text": [
            "\rTesting:  47%|████▋     | 117/250 [01:02<00:17,  7.71it/s]"
          ]
        },
        {
          "output_type": "stream",
          "name": "stdout",
          "text": [
            "Image 920: PSNR = 38.7246, SSIM = 0.9817\n",
            "Image 921: PSNR = 40.9657, SSIM = 0.9681\n",
            "Image 922: PSNR = 43.7572, SSIM = 0.9900\n",
            "Image 923: PSNR = 43.5884, SSIM = 0.9809\n",
            "Image 924: PSNR = 42.1705, SSIM = 0.9873\n",
            "Image 925: PSNR = 35.2536, SSIM = 0.9837\n",
            "Image 926: PSNR = 45.5933, SSIM = 0.9904\n",
            "Image 927: PSNR = 37.7823, SSIM = 0.9886\n",
            "Image 928: PSNR = 40.1542, SSIM = 0.9837\n",
            "Image 929: PSNR = 35.4402, SSIM = 0.9825\n",
            "Image 930: PSNR = 37.4178, SSIM = 0.9817\n",
            "Image 931: PSNR = 36.5585, SSIM = 0.9753\n",
            "Image 932: PSNR = 41.9162, SSIM = 0.9795\n",
            "Image 933: PSNR = 39.7444, SSIM = 0.9750\n",
            "Image 934: PSNR = 35.1457, SSIM = 0.9803\n",
            "Image 935: PSNR = 40.8300, SSIM = 0.9822\n",
            "Image 936: PSNR = 34.1661, SSIM = 0.5062\n",
            "Image 937: PSNR = 38.4217, SSIM = 0.9853\n",
            "Image 938: PSNR = 41.0602, SSIM = 0.9882\n",
            "Image 939: PSNR = 42.3090, SSIM = 0.9718\n",
            "Image 940: PSNR = 41.3452, SSIM = 0.9927\n",
            "Image 941: PSNR = 41.1186, SSIM = 0.9895\n",
            "Image 942: PSNR = 38.3925, SSIM = 0.9841\n",
            "Image 943: PSNR = 39.1901, SSIM = 0.9890\n",
            "Image 944: PSNR = 43.0979, SSIM = 0.9852\n"
          ]
        },
        {
          "output_type": "stream",
          "name": "stderr",
          "text": [
            "Testing:  48%|████▊     | 121/250 [01:02<00:12, 10.22it/s]"
          ]
        },
        {
          "output_type": "stream",
          "name": "stdout",
          "text": [
            "Image 945: PSNR = 36.4377, SSIM = 0.9860\n",
            "Image 946: PSNR = 41.7900, SSIM = 0.9911\n",
            "Image 947: PSNR = 45.7244, SSIM = 0.9794\n",
            "Image 948: PSNR = 39.5487, SSIM = 0.9674\n",
            "Image 949: PSNR = 43.4174, SSIM = 0.9850\n",
            "Image 950: PSNR = 43.4603, SSIM = 0.9899\n",
            "Image 951: PSNR = 36.7651, SSIM = 0.9844\n",
            "Image 952: PSNR = 47.0747, SSIM = 0.9900\n",
            "Image 953: PSNR = 36.3174, SSIM = 0.9868\n",
            "Image 954: PSNR = 40.0455, SSIM = 0.9916\n",
            "Image 955: PSNR = 35.4520, SSIM = 0.9695\n",
            "Image 956: PSNR = 39.5524, SSIM = 0.9685\n",
            "Image 957: PSNR = 38.5452, SSIM = 0.9834\n",
            "Image 958: PSNR = 38.3240, SSIM = 0.9645\n",
            "Image 959: PSNR = 33.8875, SSIM = 0.9758\n",
            "Image 960: PSNR = 39.1331, SSIM = 0.9730\n",
            "Image 961: PSNR = 34.6952, SSIM = 0.8997\n",
            "Image 962: PSNR = 41.3321, SSIM = 0.9740\n",
            "Image 963: PSNR = 41.5027, SSIM = 0.9824\n",
            "Image 964: PSNR = 37.0023, SSIM = 0.9880\n",
            "Image 965: PSNR = 37.2701, SSIM = 0.9917\n",
            "Image 966: PSNR = 47.5241, SSIM = 0.9859\n",
            "Image 967: PSNR = 45.2253, SSIM = 0.9905\n"
          ]
        },
        {
          "output_type": "stream",
          "name": "stderr",
          "text": [
            "\rTesting:  49%|████▉     | 123/250 [01:02<00:16,  7.63it/s]"
          ]
        },
        {
          "output_type": "stream",
          "name": "stdout",
          "text": [
            "Image 968: PSNR = 39.4632, SSIM = 0.9902\n",
            "Image 969: PSNR = 36.1195, SSIM = 0.9888\n",
            "Image 970: PSNR = 41.2614, SSIM = 0.9570\n",
            "Image 971: PSNR = 41.1257, SSIM = 0.9853\n",
            "Image 972: PSNR = 38.7790, SSIM = 0.9805\n",
            "Image 973: PSNR = 39.6416, SSIM = 0.9852\n",
            "Image 974: PSNR = 40.8090, SSIM = 0.9877\n",
            "Image 975: PSNR = 40.5177, SSIM = 0.9822\n",
            "Image 976: PSNR = 40.2242, SSIM = 0.9804\n",
            "Image 977: PSNR = 39.5876, SSIM = 0.9884\n",
            "Image 978: PSNR = 39.6983, SSIM = 0.9940\n",
            "Image 979: PSNR = 39.9872, SSIM = 0.9837\n",
            "Image 980: PSNR = 37.7414, SSIM = 0.9798\n",
            "Image 981: PSNR = 38.0648, SSIM = 0.9925\n",
            "Image 982: PSNR = 41.0794, SSIM = 0.9779\n",
            "Image 983: PSNR = 38.2417, SSIM = 0.9642\n",
            "Image 984: PSNR = 45.4004, SSIM = 0.9909\n",
            "Image 985: PSNR = 40.1208, SSIM = 0.9891\n",
            "Image 986: PSNR = 42.2897, SSIM = 0.9933\n",
            "Image 987: PSNR = 38.9527, SSIM = 0.9876\n",
            "Image 988: PSNR = 42.2656, SSIM = 0.9921\n",
            "Image 989: PSNR = 39.0574, SSIM = 0.9893\n",
            "Image 990: PSNR = 38.2504, SSIM = 0.9833\n",
            "Image 991: PSNR = 45.2171, SSIM = 0.9770\n"
          ]
        },
        {
          "output_type": "stream",
          "name": "stderr",
          "text": [
            "Testing:  51%|█████     | 127/250 [01:03<00:12, 10.07it/s]"
          ]
        },
        {
          "output_type": "stream",
          "name": "stdout",
          "text": [
            "Image 992: PSNR = 40.0943, SSIM = 0.9704\n",
            "Image 993: PSNR = 37.1879, SSIM = 0.9911\n",
            "Image 994: PSNR = 34.3410, SSIM = 0.9800\n",
            "Image 995: PSNR = 40.2996, SSIM = 0.9818\n",
            "Image 996: PSNR = 34.1461, SSIM = 0.9756\n",
            "Image 997: PSNR = 37.0645, SSIM = 0.9888\n",
            "Image 998: PSNR = 40.2691, SSIM = 0.9927\n",
            "Image 999: PSNR = 48.7945, SSIM = 0.9919\n",
            "Image 1000: PSNR = 42.5802, SSIM = 0.9853\n",
            "Image 1001: PSNR = 38.5515, SSIM = 0.9839\n",
            "Image 1002: PSNR = 42.0899, SSIM = 0.9788\n",
            "Image 1003: PSNR = 38.9820, SSIM = 0.9916\n",
            "Image 1004: PSNR = 38.0579, SSIM = 0.9823\n",
            "Image 1005: PSNR = 36.0183, SSIM = 0.8855\n",
            "Image 1006: PSNR = 37.8314, SSIM = 0.9872\n",
            "Image 1007: PSNR = 38.6411, SSIM = 0.9814\n",
            "Image 1008: PSNR = 40.4332, SSIM = 0.9847\n",
            "Image 1009: PSNR = 47.0475, SSIM = 0.9862\n",
            "Image 1010: PSNR = 36.5523, SSIM = 0.9794\n",
            "Image 1011: PSNR = 42.9930, SSIM = 0.9794\n",
            "Image 1012: PSNR = 41.3017, SSIM = 0.9811\n",
            "Image 1013: PSNR = 40.0967, SSIM = 0.9813\n",
            "Image 1014: PSNR = 35.5885, SSIM = 0.9793\n",
            "Image 1015: PSNR = 41.2717, SSIM = 0.9838\n"
          ]
        },
        {
          "output_type": "stream",
          "name": "stderr",
          "text": [
            "\rTesting:  52%|█████▏    | 129/250 [01:03<00:10, 11.12it/s]"
          ]
        },
        {
          "output_type": "stream",
          "name": "stdout",
          "text": [
            "Image 1016: PSNR = 34.6412, SSIM = 0.9835\n",
            "Image 1017: PSNR = 40.7589, SSIM = 0.9751\n",
            "Image 1018: PSNR = 34.3451, SSIM = 0.9373\n",
            "Image 1019: PSNR = 39.3004, SSIM = 0.9860\n",
            "Image 1020: PSNR = 41.1061, SSIM = 0.9779\n",
            "Image 1021: PSNR = 36.3037, SSIM = 0.9763\n",
            "Image 1022: PSNR = 43.3177, SSIM = 0.9855\n",
            "Image 1023: PSNR = 39.7376, SSIM = 0.9585\n",
            "Image 1024: PSNR = 40.6435, SSIM = 0.9924\n",
            "Image 1025: PSNR = 35.5711, SSIM = 0.9652\n",
            "Image 1026: PSNR = 37.4132, SSIM = 0.9926\n",
            "Image 1027: PSNR = 39.8586, SSIM = 0.9774\n",
            "Image 1028: PSNR = 37.8490, SSIM = 0.9765\n",
            "Image 1029: PSNR = 36.8863, SSIM = 0.9810\n",
            "Image 1030: PSNR = 40.1941, SSIM = 0.9737\n",
            "Image 1031: PSNR = 41.7791, SSIM = 0.9887\n",
            "Image 1032: PSNR = 38.9957, SSIM = 0.9889\n",
            "Image 1033: PSNR = 39.1544, SSIM = 0.9841\n",
            "Image 1034: PSNR = 39.3790, SSIM = 0.9834\n",
            "Image 1035: PSNR = 37.3758, SSIM = 0.9824\n",
            "Image 1036: PSNR = 42.2752, SSIM = 0.9885\n",
            "Image 1037: PSNR = 40.2205, SSIM = 0.9885\n",
            "Image 1038: PSNR = 38.6162, SSIM = 0.8996\n",
            "Image 1039: PSNR = 37.3983, SSIM = 0.9857\n"
          ]
        },
        {
          "output_type": "stream",
          "name": "stderr",
          "text": [
            "\rTesting:  52%|█████▏    | 131/250 [01:03<00:09, 12.00it/s]"
          ]
        },
        {
          "output_type": "stream",
          "name": "stdout",
          "text": [
            "Image 1040: PSNR = 38.6742, SSIM = 0.9878\n",
            "Image 1041: PSNR = 37.9426, SSIM = 0.9848\n",
            "Image 1042: PSNR = 43.9734, SSIM = 0.9896\n",
            "Image 1043: PSNR = 41.9237, SSIM = 0.9856\n",
            "Image 1044: PSNR = 45.0745, SSIM = 0.9916\n",
            "Image 1045: PSNR = 41.0654, SSIM = 0.9867\n",
            "Image 1046: PSNR = 39.1594, SSIM = 0.9711\n",
            "Image 1047: PSNR = 34.5406, SSIM = 0.9805\n",
            "Image 1048: PSNR = 37.4192, SSIM = 0.9903\n",
            "Image 1049: PSNR = 37.1458, SSIM = 0.9864\n",
            "Image 1050: PSNR = 46.0406, SSIM = 0.9925\n",
            "Image 1051: PSNR = 40.2345, SSIM = 0.9816\n",
            "Image 1052: PSNR = 37.0640, SSIM = 0.9773\n",
            "Image 1053: PSNR = 38.1621, SSIM = 0.9851\n",
            "Image 1054: PSNR = 39.6088, SSIM = 0.9712\n",
            "Image 1055: PSNR = 44.7922, SSIM = 0.9864\n"
          ]
        },
        {
          "output_type": "stream",
          "name": "stderr",
          "text": [
            "\rTesting:  53%|█████▎    | 133/250 [01:04<00:30,  3.78it/s]"
          ]
        },
        {
          "output_type": "stream",
          "name": "stdout",
          "text": [
            "Image 1056: PSNR = 45.9736, SSIM = 0.9792\n",
            "Image 1057: PSNR = 35.9217, SSIM = 0.9831\n",
            "Image 1058: PSNR = 44.5977, SSIM = 0.9863\n",
            "Image 1059: PSNR = 40.8457, SSIM = 0.9869\n",
            "Image 1060: PSNR = 42.2919, SSIM = 0.9834\n",
            "Image 1061: PSNR = 39.6160, SSIM = 0.9713\n",
            "Image 1062: PSNR = 34.9782, SSIM = 0.9812\n",
            "Image 1063: PSNR = 37.0504, SSIM = 0.9899\n",
            "Image 1064: PSNR = 38.6685, SSIM = 0.9820\n",
            "Image 1065: PSNR = 35.2582, SSIM = 0.9750\n",
            "Image 1066: PSNR = 41.8431, SSIM = 0.9892\n",
            "Image 1067: PSNR = 40.9483, SSIM = 0.9798\n",
            "Image 1068: PSNR = 42.8000, SSIM = 0.9763\n",
            "Image 1069: PSNR = 36.0432, SSIM = 0.9833\n",
            "Image 1070: PSNR = 34.3672, SSIM = 0.9815\n",
            "Image 1071: PSNR = 34.0878, SSIM = 0.9758\n"
          ]
        },
        {
          "output_type": "stream",
          "name": "stderr",
          "text": [
            "Testing:  55%|█████▍    | 137/250 [01:05<00:25,  4.51it/s]"
          ]
        },
        {
          "output_type": "stream",
          "name": "stdout",
          "text": [
            "Image 1072: PSNR = 47.1862, SSIM = 0.9925\n",
            "Image 1073: PSNR = 39.6962, SSIM = 0.9784\n",
            "Image 1074: PSNR = 37.1518, SSIM = 0.9891\n",
            "Image 1075: PSNR = 36.5500, SSIM = 0.9759\n",
            "Image 1076: PSNR = 40.1842, SSIM = 0.9889\n",
            "Image 1077: PSNR = 39.1015, SSIM = 0.9804\n",
            "Image 1078: PSNR = 42.1354, SSIM = 0.9870\n",
            "Image 1079: PSNR = 42.9445, SSIM = 0.9836\n",
            "Image 1080: PSNR = 43.7417, SSIM = 0.9920\n",
            "Image 1081: PSNR = 39.2974, SSIM = 0.9934\n",
            "Image 1082: PSNR = 41.1616, SSIM = 0.9841\n",
            "Image 1083: PSNR = 39.2933, SSIM = 0.9923\n",
            "Image 1084: PSNR = 38.0276, SSIM = 0.9795\n",
            "Image 1085: PSNR = 45.0250, SSIM = 0.9886\n",
            "Image 1086: PSNR = 37.5177, SSIM = 0.9803\n",
            "Image 1087: PSNR = 36.4804, SSIM = 0.9763\n",
            "Image 1088: PSNR = 36.7851, SSIM = 0.9468\n",
            "Image 1089: PSNR = 42.1681, SSIM = 0.9842\n",
            "Image 1090: PSNR = 42.8635, SSIM = 0.9854\n",
            "Image 1091: PSNR = 36.0744, SSIM = 0.9731\n",
            "Image 1092: PSNR = 43.1170, SSIM = 0.9888\n",
            "Image 1093: PSNR = 34.0822, SSIM = 0.9765\n",
            "Image 1094: PSNR = 36.0189, SSIM = 0.9813\n",
            "Image 1095: PSNR = 42.8238, SSIM = 0.9911\n"
          ]
        },
        {
          "output_type": "stream",
          "name": "stderr",
          "text": [
            "\rTesting:  56%|█████▌    | 139/250 [01:05<00:19,  5.71it/s]"
          ]
        },
        {
          "output_type": "stream",
          "name": "stdout",
          "text": [
            "Image 1096: PSNR = 46.4655, SSIM = 0.9811\n",
            "Image 1097: PSNR = 36.3332, SSIM = 0.9798\n",
            "Image 1098: PSNR = 38.9655, SSIM = 0.9620\n",
            "Image 1099: PSNR = 48.6447, SSIM = 0.9910\n",
            "Image 1100: PSNR = 35.5934, SSIM = 0.9816\n",
            "Image 1101: PSNR = 37.2730, SSIM = 0.9899\n",
            "Image 1102: PSNR = 39.0013, SSIM = 0.9854\n",
            "Image 1103: PSNR = 35.1887, SSIM = 0.9819\n",
            "Image 1104: PSNR = 39.7459, SSIM = 0.9777\n",
            "Image 1105: PSNR = 36.1652, SSIM = 0.9773\n",
            "Image 1106: PSNR = 39.5613, SSIM = 0.9821\n",
            "Image 1107: PSNR = 35.5021, SSIM = 0.9727\n",
            "Image 1108: PSNR = 43.1571, SSIM = 0.9864\n",
            "Image 1109: PSNR = 40.5376, SSIM = 0.9808\n",
            "Image 1110: PSNR = 39.4861, SSIM = 0.9728\n",
            "Image 1111: PSNR = 42.2687, SSIM = 0.9902\n",
            "Image 1112: PSNR = 44.4556, SSIM = 0.9686\n",
            "Image 1113: PSNR = 37.2975, SSIM = 0.9792\n",
            "Image 1114: PSNR = 39.6570, SSIM = 0.9836\n",
            "Image 1115: PSNR = 43.0422, SSIM = 0.9851\n",
            "Image 1116: PSNR = 41.0505, SSIM = 0.9766\n",
            "Image 1117: PSNR = 35.3950, SSIM = 0.9791\n",
            "Image 1118: PSNR = 43.5582, SSIM = 0.9912\n",
            "Image 1119: PSNR = 39.3098, SSIM = 0.9746\n",
            "Image 1120: PSNR = 43.0500, SSIM = 0.9929\n"
          ]
        },
        {
          "output_type": "stream",
          "name": "stderr",
          "text": [
            "Testing:  57%|█████▋    | 143/250 [01:06<00:12,  8.43it/s]"
          ]
        },
        {
          "output_type": "stream",
          "name": "stdout",
          "text": [
            "Image 1121: PSNR = 38.8670, SSIM = 0.9852\n",
            "Image 1122: PSNR = 35.8653, SSIM = 0.9765\n",
            "Image 1123: PSNR = 44.4221, SSIM = 0.9891\n",
            "Image 1124: PSNR = 35.6147, SSIM = 0.9835\n",
            "Image 1125: PSNR = 37.7403, SSIM = 0.9761\n",
            "Image 1126: PSNR = 42.2397, SSIM = 0.9935\n",
            "Image 1127: PSNR = 36.0018, SSIM = 0.9830\n",
            "Image 1128: PSNR = 40.2736, SSIM = 0.9732\n",
            "Image 1129: PSNR = 40.5505, SSIM = 0.9913\n",
            "Image 1130: PSNR = 44.2002, SSIM = 0.9884\n",
            "Image 1131: PSNR = 36.4199, SSIM = 0.9893\n",
            "Image 1132: PSNR = 36.5696, SSIM = 0.9870\n",
            "Image 1133: PSNR = 36.4188, SSIM = 0.9813\n",
            "Image 1134: PSNR = 46.8818, SSIM = 0.9825\n",
            "Image 1135: PSNR = 40.2013, SSIM = 0.9889\n",
            "Image 1136: PSNR = 36.1892, SSIM = 0.9907\n",
            "Image 1137: PSNR = 40.9211, SSIM = 0.9733\n",
            "Image 1138: PSNR = 43.4028, SSIM = 0.9843\n",
            "Image 1139: PSNR = 39.9581, SSIM = 0.9913\n",
            "Image 1140: PSNR = 36.7733, SSIM = 0.9800\n",
            "Image 1141: PSNR = 41.9807, SSIM = 0.9695\n",
            "Image 1142: PSNR = 35.7186, SSIM = 0.9844\n",
            "Image 1143: PSNR = 41.2170, SSIM = 0.9920\n"
          ]
        },
        {
          "output_type": "stream",
          "name": "stderr",
          "text": [
            "\rTesting:  58%|█████▊    | 145/250 [01:06<00:14,  7.30it/s]"
          ]
        },
        {
          "output_type": "stream",
          "name": "stdout",
          "text": [
            "Image 1144: PSNR = 35.3725, SSIM = 0.9827\n",
            "Image 1145: PSNR = 40.1202, SSIM = 0.9766\n",
            "Image 1146: PSNR = 38.9123, SSIM = 0.9789\n",
            "Image 1147: PSNR = 37.2286, SSIM = 0.9853\n",
            "Image 1148: PSNR = 46.6170, SSIM = 0.9870\n",
            "Image 1149: PSNR = 39.0054, SSIM = 0.9842\n",
            "Image 1150: PSNR = 42.7705, SSIM = 0.9863\n",
            "Image 1151: PSNR = 40.6101, SSIM = 0.9914\n",
            "Image 1152: PSNR = 39.9647, SSIM = 0.9877\n",
            "Image 1153: PSNR = 37.0735, SSIM = 0.9783\n",
            "Image 1154: PSNR = 36.2997, SSIM = 0.9824\n",
            "Image 1155: PSNR = 49.4689, SSIM = 0.9920\n",
            "Image 1156: PSNR = 44.9573, SSIM = 0.9801\n",
            "Image 1157: PSNR = 42.3124, SSIM = 0.9913\n",
            "Image 1158: PSNR = 42.5213, SSIM = 0.9865\n",
            "Image 1159: PSNR = 42.8054, SSIM = 0.9837\n",
            "Image 1160: PSNR = 44.6813, SSIM = 0.9782\n",
            "Image 1161: PSNR = 43.4308, SSIM = 0.9709\n",
            "Image 1162: PSNR = 36.7930, SSIM = 0.9783\n",
            "Image 1163: PSNR = 43.0404, SSIM = 0.9892\n",
            "Image 1164: PSNR = 37.9553, SSIM = 0.9803\n",
            "Image 1165: PSNR = 38.6856, SSIM = 0.9906\n",
            "Image 1166: PSNR = 39.4856, SSIM = 0.9851\n",
            "Image 1167: PSNR = 40.0391, SSIM = 0.8618\n",
            "Image 1168: PSNR = 36.6620, SSIM = 0.9837\n"
          ]
        },
        {
          "output_type": "stream",
          "name": "stderr",
          "text": [
            "\rTesting:  59%|█████▉    | 147/250 [01:06<00:11,  8.59it/s]"
          ]
        },
        {
          "output_type": "stream",
          "name": "stdout",
          "text": [
            "Image 1169: PSNR = 43.2878, SSIM = 0.9874\n",
            "Image 1170: PSNR = 43.0206, SSIM = 0.9920\n",
            "Image 1171: PSNR = 39.9305, SSIM = 0.9851\n",
            "Image 1172: PSNR = 34.8284, SSIM = 0.9822\n",
            "Image 1173: PSNR = 47.6679, SSIM = 0.9891\n",
            "Image 1174: PSNR = 39.6856, SSIM = 0.9902\n",
            "Image 1175: PSNR = 44.6863, SSIM = 0.9938\n"
          ]
        },
        {
          "output_type": "stream",
          "name": "stderr",
          "text": [
            "\rTesting:  60%|█████▉    | 149/250 [01:07<00:17,  5.86it/s]"
          ]
        },
        {
          "output_type": "stream",
          "name": "stdout",
          "text": [
            "Image 1176: PSNR = 38.3630, SSIM = 0.9871\n",
            "Image 1177: PSNR = 44.2473, SSIM = 0.9903\n",
            "Image 1178: PSNR = 39.4233, SSIM = 0.9772\n",
            "Image 1179: PSNR = 41.9019, SSIM = 0.9866\n",
            "Image 1180: PSNR = 43.2052, SSIM = 0.9905\n",
            "Image 1181: PSNR = 37.9462, SSIM = 0.9714\n",
            "Image 1182: PSNR = 39.3103, SSIM = 0.9897\n",
            "Image 1183: PSNR = 38.2391, SSIM = 0.9803\n",
            "Image 1184: PSNR = 37.5470, SSIM = 0.9842\n",
            "Image 1185: PSNR = 38.2658, SSIM = 0.9774\n",
            "Image 1186: PSNR = 39.2055, SSIM = 0.9898\n",
            "Image 1187: PSNR = 42.9386, SSIM = 0.9874\n",
            "Image 1188: PSNR = 41.8020, SSIM = 0.9890\n",
            "Image 1189: PSNR = 44.0530, SSIM = 0.9795\n",
            "Image 1190: PSNR = 35.9190, SSIM = 0.9829\n",
            "Image 1191: PSNR = 45.7246, SSIM = 0.9870\n",
            "Image 1192: PSNR = 33.3974, SSIM = 0.9831\n",
            "Image 1193: PSNR = 38.3648, SSIM = 0.9872\n",
            "Image 1194: PSNR = 40.1930, SSIM = 0.9804\n",
            "Image 1195: PSNR = 38.8894, SSIM = 0.9818\n",
            "Image 1196: PSNR = 45.0563, SSIM = 0.9932\n",
            "Image 1197: PSNR = 34.4432, SSIM = 0.9800\n",
            "Image 1198: PSNR = 44.9025, SSIM = 0.9867\n",
            "Image 1199: PSNR = 46.4409, SSIM = 0.9887\n"
          ]
        },
        {
          "output_type": "stream",
          "name": "stderr",
          "text": [
            "Testing:  61%|██████    | 153/250 [01:07<00:11,  8.38it/s]"
          ]
        },
        {
          "output_type": "stream",
          "name": "stdout",
          "text": [
            "Image 1200: PSNR = 43.4662, SSIM = 0.9882\n",
            "Image 1201: PSNR = 44.7253, SSIM = 0.9815\n",
            "Image 1202: PSNR = 41.4741, SSIM = 0.9918\n",
            "Image 1203: PSNR = 43.1285, SSIM = 0.9869\n",
            "Image 1204: PSNR = 42.8155, SSIM = 0.9923\n",
            "Image 1205: PSNR = 49.0469, SSIM = 0.9900\n",
            "Image 1206: PSNR = 35.7626, SSIM = 0.9853\n",
            "Image 1207: PSNR = 35.3318, SSIM = 0.9834\n",
            "Image 1208: PSNR = 37.3539, SSIM = 0.9807\n",
            "Image 1209: PSNR = 40.8308, SSIM = 0.9758\n",
            "Image 1210: PSNR = 39.6926, SSIM = 0.9633\n",
            "Image 1211: PSNR = 46.0998, SSIM = 0.9780\n",
            "Image 1212: PSNR = 41.7620, SSIM = 0.9865\n",
            "Image 1213: PSNR = 38.4448, SSIM = 0.9913\n",
            "Image 1214: PSNR = 37.4622, SSIM = 0.9900\n",
            "Image 1215: PSNR = 38.5418, SSIM = 0.9874\n",
            "Image 1216: PSNR = 36.9110, SSIM = 0.9825\n",
            "Image 1217: PSNR = 40.4990, SSIM = 0.9899\n",
            "Image 1218: PSNR = 45.8730, SSIM = 0.9788\n",
            "Image 1219: PSNR = 43.4552, SSIM = 0.9728\n",
            "Image 1220: PSNR = 38.2419, SSIM = 0.9876\n",
            "Image 1221: PSNR = 35.2254, SSIM = 0.9828\n",
            "Image 1222: PSNR = 37.9869, SSIM = 0.9869\n",
            "Image 1223: PSNR = 39.2674, SSIM = 0.9748\n"
          ]
        },
        {
          "output_type": "stream",
          "name": "stderr",
          "text": [
            "\rTesting:  62%|██████▏   | 155/250 [01:07<00:09,  9.64it/s]"
          ]
        },
        {
          "output_type": "stream",
          "name": "stdout",
          "text": [
            "Image 1224: PSNR = 40.2518, SSIM = 0.9847\n",
            "Image 1225: PSNR = 37.8951, SSIM = 0.9768\n",
            "Image 1226: PSNR = 45.0153, SSIM = 0.9733\n",
            "Image 1227: PSNR = 41.7173, SSIM = 0.9897\n",
            "Image 1228: PSNR = 43.2897, SSIM = 0.9912\n",
            "Image 1229: PSNR = 44.1542, SSIM = 0.9738\n",
            "Image 1230: PSNR = 46.7789, SSIM = 0.9917\n",
            "Image 1231: PSNR = 41.4699, SSIM = 0.9832\n",
            "Image 1232: PSNR = 37.1996, SSIM = 0.9812\n",
            "Image 1233: PSNR = 39.4301, SSIM = 0.9544\n",
            "Image 1234: PSNR = 40.6091, SSIM = 0.9875\n",
            "Image 1235: PSNR = 41.5883, SSIM = 0.9893\n",
            "Image 1236: PSNR = 38.7981, SSIM = 0.9825\n",
            "Image 1237: PSNR = 36.2994, SSIM = 0.9806\n",
            "Image 1238: PSNR = 41.2692, SSIM = 0.9936\n",
            "Image 1239: PSNR = 38.2333, SSIM = 0.9585\n",
            "Image 1240: PSNR = 44.4344, SSIM = 0.9721\n",
            "Image 1241: PSNR = 37.9048, SSIM = 0.9805\n",
            "Image 1242: PSNR = 37.0848, SSIM = 0.9884\n",
            "Image 1243: PSNR = 36.8119, SSIM = 0.9779\n",
            "Image 1244: PSNR = 43.8763, SSIM = 0.9919\n",
            "Image 1245: PSNR = 42.6264, SSIM = 0.9950\n",
            "Image 1246: PSNR = 38.9330, SSIM = 0.9859\n",
            "Image 1247: PSNR = 40.5939, SSIM = 0.9926\n",
            "Image 1248: PSNR = 39.8812, SSIM = 0.9678\n",
            "Image 1249: PSNR = 36.5008, SSIM = 0.9905\n"
          ]
        },
        {
          "output_type": "stream",
          "name": "stderr",
          "text": [
            "\rTesting:  63%|██████▎   | 157/250 [01:07<00:08, 10.88it/s]"
          ]
        },
        {
          "output_type": "stream",
          "name": "stdout",
          "text": [
            "Image 1250: PSNR = 40.5756, SSIM = 0.9879\n",
            "Image 1251: PSNR = 37.3408, SSIM = 0.9539\n",
            "Image 1252: PSNR = 41.4488, SSIM = 0.9786\n",
            "Image 1253: PSNR = 40.5561, SSIM = 0.9827\n",
            "Image 1254: PSNR = 42.0213, SSIM = 0.9913\n",
            "Image 1255: PSNR = 42.3277, SSIM = 0.9913\n"
          ]
        },
        {
          "output_type": "stream",
          "name": "stderr",
          "text": [
            "\rTesting:  64%|██████▎   | 159/250 [01:08<00:18,  4.96it/s]"
          ]
        },
        {
          "output_type": "stream",
          "name": "stdout",
          "text": [
            "Image 1256: PSNR = 38.3921, SSIM = 0.9827\n",
            "Image 1257: PSNR = 36.2523, SSIM = 0.9752\n",
            "Image 1258: PSNR = 38.4698, SSIM = 0.9775\n",
            "Image 1259: PSNR = 41.6899, SSIM = 0.9809\n",
            "Image 1260: PSNR = 39.2859, SSIM = 0.9812\n",
            "Image 1261: PSNR = 38.0007, SSIM = 0.9901\n",
            "Image 1262: PSNR = 36.5264, SSIM = 0.9840\n",
            "Image 1263: PSNR = 41.1936, SSIM = 0.9710\n",
            "Image 1264: PSNR = 36.3810, SSIM = 0.9735\n",
            "Image 1265: PSNR = 37.1310, SSIM = 0.9820\n",
            "Image 1266: PSNR = 42.7152, SSIM = 0.9932\n",
            "Image 1267: PSNR = 40.5626, SSIM = 0.9890\n",
            "Image 1268: PSNR = 39.6493, SSIM = 0.9916\n",
            "Image 1269: PSNR = 38.5643, SSIM = 0.9841\n",
            "Image 1270: PSNR = 43.1968, SSIM = 0.9816\n",
            "Image 1271: PSNR = 43.2489, SSIM = 0.9901\n",
            "Image 1272: PSNR = 42.4030, SSIM = 0.9805\n",
            "Image 1273: PSNR = 39.6918, SSIM = 0.9788\n",
            "Image 1274: PSNR = 38.2606, SSIM = 0.9872\n",
            "Image 1275: PSNR = 37.9832, SSIM = 0.9747\n",
            "Image 1276: PSNR = 36.0389, SSIM = 0.9853\n",
            "Image 1277: PSNR = 44.4001, SSIM = 0.9915\n",
            "Image 1278: PSNR = 41.3818, SSIM = 0.9800\n",
            "Image 1279: PSNR = 37.7363, SSIM = 0.9791\n",
            "Image 1280: PSNR = 39.8524, SSIM = 0.9929\n",
            "Image 1281: PSNR = 35.9798, SSIM = 0.9823\n",
            "Image 1282: PSNR = 37.2367, SSIM = 0.9764\n",
            "Image 1283: PSNR = 37.1314, SSIM = 0.9842\n"
          ]
        },
        {
          "output_type": "stream",
          "name": "stderr",
          "text": [
            "\rTesting:  64%|██████▍   | 161/250 [01:08<00:14,  6.25it/s]"
          ]
        },
        {
          "output_type": "stream",
          "name": "stdout",
          "text": [
            "Image 1284: PSNR = 38.3536, SSIM = 0.9857\n",
            "Image 1285: PSNR = 37.4597, SSIM = 0.9778\n",
            "Image 1286: PSNR = 41.0246, SSIM = 0.9898\n",
            "Image 1287: PSNR = 35.4194, SSIM = 0.9877\n"
          ]
        },
        {
          "output_type": "stream",
          "name": "stderr",
          "text": [
            "\rTesting:  65%|██████▌   | 163/250 [01:09<00:14,  6.10it/s]"
          ]
        },
        {
          "output_type": "stream",
          "name": "stdout",
          "text": [
            "Image 1288: PSNR = 33.9028, SSIM = 0.9644\n",
            "Image 1289: PSNR = 36.1365, SSIM = 0.9898\n",
            "Image 1290: PSNR = 39.7760, SSIM = 0.9812\n",
            "Image 1291: PSNR = 35.7516, SSIM = 0.9765\n",
            "Image 1292: PSNR = 40.1316, SSIM = 0.9853\n",
            "Image 1293: PSNR = 42.2308, SSIM = 0.9935\n",
            "Image 1294: PSNR = 46.1860, SSIM = 0.9883\n",
            "Image 1295: PSNR = 42.5923, SSIM = 0.9856\n",
            "Image 1296: PSNR = 44.6905, SSIM = 0.9825\n",
            "Image 1297: PSNR = 35.8073, SSIM = 0.9866\n",
            "Image 1298: PSNR = 44.4674, SSIM = 0.9866\n",
            "Image 1299: PSNR = 42.3119, SSIM = 0.9940\n",
            "Image 1300: PSNR = 41.4943, SSIM = 0.9941\n",
            "Image 1301: PSNR = 42.0007, SSIM = 0.9935\n",
            "Image 1302: PSNR = 37.1578, SSIM = 0.9801\n",
            "Image 1303: PSNR = 39.9505, SSIM = 0.9716\n",
            "Image 1304: PSNR = 37.1979, SSIM = 0.9843\n",
            "Image 1305: PSNR = 37.6643, SSIM = 0.9804\n",
            "Image 1306: PSNR = 37.5762, SSIM = 0.9888\n",
            "Image 1307: PSNR = 38.6537, SSIM = 0.9818\n",
            "Image 1308: PSNR = 40.6002, SSIM = 0.9839\n",
            "Image 1309: PSNR = 38.5752, SSIM = 0.9876\n",
            "Image 1310: PSNR = 36.4790, SSIM = 0.9900\n",
            "Image 1311: PSNR = 36.1762, SSIM = 0.9849\n",
            "Image 1312: PSNR = 38.6987, SSIM = 0.9888\n",
            "Image 1313: PSNR = 40.9288, SSIM = 0.9857\n",
            "Image 1314: PSNR = 39.3281, SSIM = 0.9847\n"
          ]
        },
        {
          "output_type": "stream",
          "name": "stderr",
          "text": [
            "\rTesting:  66%|██████▌   | 165/250 [01:09<00:11,  7.46it/s]"
          ]
        },
        {
          "output_type": "stream",
          "name": "stdout",
          "text": [
            "Image 1315: PSNR = 34.0155, SSIM = 0.9788\n",
            "Image 1316: PSNR = 40.4558, SSIM = 0.9915\n",
            "Image 1317: PSNR = 41.8737, SSIM = 0.9891\n",
            "Image 1318: PSNR = 36.7111, SSIM = 0.9799\n",
            "Image 1319: PSNR = 38.7849, SSIM = 0.9892\n"
          ]
        },
        {
          "output_type": "stream",
          "name": "stderr",
          "text": [
            "\rTesting:  67%|██████▋   | 167/250 [01:09<00:14,  5.68it/s]"
          ]
        },
        {
          "output_type": "stream",
          "name": "stdout",
          "text": [
            "Image 1320: PSNR = 39.2029, SSIM = 0.9843\n",
            "Image 1321: PSNR = 42.3356, SSIM = 0.9886\n",
            "Image 1322: PSNR = 40.3644, SSIM = 0.9859\n",
            "Image 1323: PSNR = 38.7917, SSIM = 0.9933\n",
            "Image 1324: PSNR = 37.3907, SSIM = 0.9913\n",
            "Image 1325: PSNR = 44.1945, SSIM = 0.9912\n",
            "Image 1326: PSNR = 38.4039, SSIM = 0.9905\n",
            "Image 1327: PSNR = 39.5769, SSIM = 0.9924\n",
            "Image 1328: PSNR = 43.9884, SSIM = 0.9878\n",
            "Image 1329: PSNR = 42.6059, SSIM = 0.9895\n",
            "Image 1330: PSNR = 37.7722, SSIM = 0.9823\n",
            "Image 1331: PSNR = 38.6240, SSIM = 0.9816\n",
            "Image 1332: PSNR = 36.5814, SSIM = 0.9769\n",
            "Image 1333: PSNR = 48.7223, SSIM = 0.9925\n",
            "Image 1334: PSNR = 37.9167, SSIM = 0.9753\n",
            "Image 1335: PSNR = 39.6496, SSIM = 0.9902\n"
          ]
        },
        {
          "output_type": "stream",
          "name": "stderr",
          "text": [
            "\rTesting:  67%|██████▋   | 168/250 [01:10<00:15,  5.35it/s]"
          ]
        },
        {
          "output_type": "stream",
          "name": "stdout",
          "text": [
            "Image 1336: PSNR = 43.5145, SSIM = 0.9731\n",
            "Image 1337: PSNR = 38.7681, SSIM = 0.9900\n",
            "Image 1338: PSNR = 40.9048, SSIM = 0.9835\n",
            "Image 1339: PSNR = 39.4659, SSIM = 0.9677\n",
            "Image 1340: PSNR = 39.8269, SSIM = 0.9781\n",
            "Image 1341: PSNR = 34.7108, SSIM = 0.9765\n",
            "Image 1342: PSNR = 38.7783, SSIM = 0.9783\n",
            "Image 1343: PSNR = 38.0535, SSIM = 0.9867\n",
            "Image 1344: PSNR = 37.8078, SSIM = 0.9883\n",
            "Image 1345: PSNR = 36.5266, SSIM = 0.9879\n",
            "Image 1346: PSNR = 40.4352, SSIM = 0.9831\n",
            "Image 1347: PSNR = 40.3252, SSIM = 0.9705\n",
            "Image 1348: PSNR = 37.4965, SSIM = 0.9759\n",
            "Image 1349: PSNR = 40.2079, SSIM = 0.9935\n",
            "Image 1350: PSNR = 44.2554, SSIM = 0.9808\n",
            "Image 1351: PSNR = 39.1516, SSIM = 0.9825\n"
          ]
        },
        {
          "output_type": "stream",
          "name": "stderr",
          "text": [
            "Testing:  69%|██████▉   | 172/250 [01:10<00:10,  7.19it/s]"
          ]
        },
        {
          "output_type": "stream",
          "name": "stdout",
          "text": [
            "Image 1352: PSNR = 46.1406, SSIM = 0.9879\n",
            "Image 1353: PSNR = 43.4276, SSIM = 0.9920\n",
            "Image 1354: PSNR = 45.2524, SSIM = 0.9883\n",
            "Image 1355: PSNR = 37.2543, SSIM = 0.9738\n",
            "Image 1356: PSNR = 38.2884, SSIM = 0.9737\n",
            "Image 1357: PSNR = 40.1421, SSIM = 0.9896\n",
            "Image 1358: PSNR = 35.1743, SSIM = 0.9464\n",
            "Image 1359: PSNR = 36.3096, SSIM = 0.9876\n",
            "Image 1360: PSNR = 45.7976, SSIM = 0.9783\n",
            "Image 1361: PSNR = 36.2675, SSIM = 0.9759\n",
            "Image 1362: PSNR = 39.1524, SSIM = 0.9858\n",
            "Image 1363: PSNR = 43.5407, SSIM = 0.9859\n",
            "Image 1364: PSNR = 43.1253, SSIM = 0.9779\n",
            "Image 1365: PSNR = 43.2170, SSIM = 0.9836\n",
            "Image 1366: PSNR = 42.7349, SSIM = 0.9895\n",
            "Image 1367: PSNR = 37.1129, SSIM = 0.9709\n",
            "Image 1368: PSNR = 39.1017, SSIM = 0.9882\n",
            "Image 1369: PSNR = 38.1190, SSIM = 0.9708\n",
            "Image 1370: PSNR = 40.1480, SSIM = 0.9811\n",
            "Image 1371: PSNR = 36.4539, SSIM = 0.9747\n",
            "Image 1372: PSNR = 43.0249, SSIM = 0.9928\n",
            "Image 1373: PSNR = 38.2072, SSIM = 0.9947\n",
            "Image 1374: PSNR = 38.0991, SSIM = 0.9705\n",
            "Image 1375: PSNR = 39.1611, SSIM = 0.9862\n",
            "Image 1376: PSNR = 42.8157, SSIM = 0.9883\n",
            "Image 1377: PSNR = 42.4794, SSIM = 0.9838\n",
            "Image 1378: PSNR = 42.5313, SSIM = 0.9810\n"
          ]
        },
        {
          "output_type": "stream",
          "name": "stderr",
          "text": [
            "\rTesting:  70%|██████▉   | 174/250 [01:10<00:08,  8.56it/s]"
          ]
        },
        {
          "output_type": "stream",
          "name": "stdout",
          "text": [
            "Image 1379: PSNR = 43.9154, SSIM = 0.9927\n",
            "Image 1380: PSNR = 38.1519, SSIM = 0.9854\n",
            "Image 1381: PSNR = 39.1613, SSIM = 0.9893\n",
            "Image 1382: PSNR = 38.9093, SSIM = 0.9775\n",
            "Image 1383: PSNR = 40.3456, SSIM = 0.9808\n",
            "Image 1384: PSNR = 42.5027, SSIM = 0.9902\n",
            "Image 1385: PSNR = 46.0683, SSIM = 0.9891\n",
            "Image 1386: PSNR = 41.6472, SSIM = 0.9892\n",
            "Image 1387: PSNR = 38.5631, SSIM = 0.9625\n",
            "Image 1388: PSNR = 39.7231, SSIM = 0.9891\n",
            "Image 1389: PSNR = 40.6556, SSIM = 0.9909\n",
            "Image 1390: PSNR = 36.7586, SSIM = 0.9880\n",
            "Image 1391: PSNR = 47.2262, SSIM = 0.9845\n",
            "Image 1392: PSNR = 44.0451, SSIM = 0.9711\n",
            "Image 1393: PSNR = 38.1784, SSIM = 0.9859\n",
            "Image 1394: PSNR = 36.3677, SSIM = 0.9734\n",
            "Image 1395: PSNR = 39.1210, SSIM = 0.9907\n",
            "Image 1396: PSNR = 37.4877, SSIM = 0.9867\n",
            "Image 1397: PSNR = 38.4734, SSIM = 0.9779\n",
            "Image 1398: PSNR = 37.6674, SSIM = 0.9919\n",
            "Image 1399: PSNR = 38.3332, SSIM = 0.9779\n",
            "Image 1400: PSNR = 42.0248, SSIM = 0.9947\n",
            "Image 1401: PSNR = 36.2604, SSIM = 0.9865\n",
            "Image 1402: PSNR = 39.5556, SSIM = 0.9839\n"
          ]
        },
        {
          "output_type": "stream",
          "name": "stderr",
          "text": [
            "Testing:  71%|███████   | 178/250 [01:10<00:06, 11.21it/s]"
          ]
        },
        {
          "output_type": "stream",
          "name": "stdout",
          "text": [
            "Image 1403: PSNR = 40.7077, SSIM = 0.9892\n",
            "Image 1404: PSNR = 36.7885, SSIM = 0.9737\n",
            "Image 1405: PSNR = 35.7258, SSIM = 0.9861\n",
            "Image 1406: PSNR = 42.4166, SSIM = 0.9934\n",
            "Image 1407: PSNR = 39.4941, SSIM = 0.9894\n",
            "Image 1408: PSNR = 40.7973, SSIM = 0.9873\n",
            "Image 1409: PSNR = 38.6503, SSIM = 0.9914\n",
            "Image 1410: PSNR = 41.5663, SSIM = 0.9926\n",
            "Image 1411: PSNR = 35.9809, SSIM = 0.9827\n",
            "Image 1412: PSNR = 38.6857, SSIM = 0.9852\n",
            "Image 1413: PSNR = 36.3112, SSIM = 0.9777\n",
            "Image 1414: PSNR = 40.6786, SSIM = 0.9877\n",
            "Image 1415: PSNR = 40.0757, SSIM = 0.9830\n",
            "Image 1416: PSNR = 39.8747, SSIM = 0.9832\n",
            "Image 1417: PSNR = 37.3249, SSIM = 0.9820\n",
            "Image 1418: PSNR = 37.2241, SSIM = 0.9904\n",
            "Image 1419: PSNR = 36.3789, SSIM = 0.9813\n",
            "Image 1420: PSNR = 36.3404, SSIM = 0.9881\n",
            "Image 1421: PSNR = 37.4739, SSIM = 0.9836\n",
            "Image 1422: PSNR = 38.2233, SSIM = 0.9937\n",
            "Image 1423: PSNR = 36.5407, SSIM = 0.9830\n",
            "Image 1424: PSNR = 46.0235, SSIM = 0.9806\n",
            "Image 1425: PSNR = 37.5405, SSIM = 0.9897\n",
            "Image 1426: PSNR = 47.1497, SSIM = 0.9841\n",
            "Image 1427: PSNR = 43.2457, SSIM = 0.9787\n",
            "Image 1428: PSNR = 40.5826, SSIM = 0.9884\n"
          ]
        },
        {
          "output_type": "stream",
          "name": "stderr",
          "text": [
            "\rTesting:  72%|███████▏  | 180/250 [01:10<00:05, 12.17it/s]"
          ]
        },
        {
          "output_type": "stream",
          "name": "stdout",
          "text": [
            "Image 1429: PSNR = 41.4344, SSIM = 0.9810\n",
            "Image 1430: PSNR = 38.1219, SSIM = 0.9798\n",
            "Image 1431: PSNR = 42.6528, SSIM = 0.9902\n",
            "Image 1432: PSNR = 39.7428, SSIM = 0.9730\n",
            "Image 1433: PSNR = 43.7656, SSIM = 0.9883\n",
            "Image 1434: PSNR = 36.0208, SSIM = 0.9452\n",
            "Image 1435: PSNR = 36.6606, SSIM = 0.9859\n",
            "Image 1436: PSNR = 41.3988, SSIM = 0.9800\n",
            "Image 1437: PSNR = 40.7480, SSIM = 0.9816\n",
            "Image 1438: PSNR = 37.7557, SSIM = 0.9894\n",
            "Image 1439: PSNR = 38.7086, SSIM = 0.9915\n",
            "Image 1440: PSNR = 44.0190, SSIM = 0.9731\n",
            "Image 1441: PSNR = 43.9332, SSIM = 0.9938\n",
            "Image 1442: PSNR = 41.8131, SSIM = 0.9793\n",
            "Image 1443: PSNR = 41.7488, SSIM = 0.9832\n",
            "Image 1444: PSNR = 37.1233, SSIM = 0.9747\n",
            "Image 1445: PSNR = 41.5812, SSIM = 0.9855\n",
            "Image 1446: PSNR = 35.1948, SSIM = 0.9837\n",
            "Image 1447: PSNR = 43.2987, SSIM = 0.9845\n",
            "Image 1448: PSNR = 34.9955, SSIM = 0.9787\n",
            "Image 1449: PSNR = 37.7512, SSIM = 0.9749\n",
            "Image 1450: PSNR = 39.2124, SSIM = 0.9849\n",
            "Image 1451: PSNR = 43.3235, SSIM = 0.9900\n",
            "Image 1452: PSNR = 37.4075, SSIM = 0.9773\n",
            "Image 1453: PSNR = 41.9271, SSIM = 0.9773\n"
          ]
        },
        {
          "output_type": "stream",
          "name": "stderr",
          "text": [
            "Testing:  74%|███████▎  | 184/250 [01:11<00:04, 13.58it/s]"
          ]
        },
        {
          "output_type": "stream",
          "name": "stdout",
          "text": [
            "Image 1454: PSNR = 41.6061, SSIM = 0.9776\n",
            "Image 1455: PSNR = 36.9930, SSIM = 0.9802\n",
            "Image 1456: PSNR = 41.9050, SSIM = 0.9917\n",
            "Image 1457: PSNR = 38.7773, SSIM = 0.9893\n",
            "Image 1458: PSNR = 38.7660, SSIM = 0.9781\n",
            "Image 1459: PSNR = 39.7183, SSIM = 0.9904\n",
            "Image 1460: PSNR = 41.7994, SSIM = 0.9889\n",
            "Image 1461: PSNR = 37.7302, SSIM = 0.9864\n",
            "Image 1462: PSNR = 36.1401, SSIM = 0.9841\n",
            "Image 1463: PSNR = 41.1651, SSIM = 0.9753\n",
            "Image 1464: PSNR = 43.1813, SSIM = 0.9862\n",
            "Image 1465: PSNR = 37.7897, SSIM = 0.9891\n",
            "Image 1466: PSNR = 38.4241, SSIM = 0.9865\n",
            "Image 1467: PSNR = 41.1330, SSIM = 0.9780\n",
            "Image 1468: PSNR = 39.8214, SSIM = 0.9938\n",
            "Image 1469: PSNR = 38.8329, SSIM = 0.9923\n",
            "Image 1470: PSNR = 36.5909, SSIM = 0.9824\n",
            "Image 1471: PSNR = 45.9692, SSIM = 0.9775\n",
            "Image 1472: PSNR = 36.1453, SSIM = 0.9850\n",
            "Image 1473: PSNR = 35.0931, SSIM = 0.9553\n",
            "Image 1474: PSNR = 38.4609, SSIM = 0.9803\n",
            "Image 1475: PSNR = 40.6506, SSIM = 0.9814\n",
            "Image 1476: PSNR = 37.0862, SSIM = 0.9876\n",
            "Image 1477: PSNR = 38.5389, SSIM = 0.9779\n",
            "Image 1478: PSNR = 35.2490, SSIM = 0.9852\n",
            "Image 1479: PSNR = 40.7854, SSIM = 0.9930\n"
          ]
        },
        {
          "output_type": "stream",
          "name": "stderr",
          "text": [
            "Testing:  75%|███████▌  | 188/250 [01:11<00:04, 14.43it/s]"
          ]
        },
        {
          "output_type": "stream",
          "name": "stdout",
          "text": [
            "Image 1480: PSNR = 36.0287, SSIM = 0.9854\n",
            "Image 1481: PSNR = 35.3496, SSIM = 0.9796\n",
            "Image 1482: PSNR = 41.2479, SSIM = 0.9872\n",
            "Image 1483: PSNR = 41.2407, SSIM = 0.9790\n",
            "Image 1484: PSNR = 39.8297, SSIM = 0.9841\n",
            "Image 1485: PSNR = 39.8641, SSIM = 0.9845\n",
            "Image 1486: PSNR = 41.8555, SSIM = 0.9784\n",
            "Image 1487: PSNR = 37.4419, SSIM = 0.9739\n",
            "Image 1488: PSNR = 40.9191, SSIM = 0.9905\n",
            "Image 1489: PSNR = 41.2844, SSIM = 0.9907\n",
            "Image 1490: PSNR = 36.5759, SSIM = 0.9834\n",
            "Image 1491: PSNR = 36.7186, SSIM = 0.9879\n",
            "Image 1492: PSNR = 43.4069, SSIM = 0.9904\n",
            "Image 1493: PSNR = 39.8791, SSIM = 0.9878\n",
            "Image 1494: PSNR = 44.4225, SSIM = 0.9773\n",
            "Image 1495: PSNR = 46.3365, SSIM = 0.9847\n",
            "Image 1496: PSNR = 40.9415, SSIM = 0.9714\n",
            "Image 1497: PSNR = 38.1425, SSIM = 0.9898\n",
            "Image 1498: PSNR = 38.5146, SSIM = 0.9789\n",
            "Image 1499: PSNR = 39.5321, SSIM = 0.9857\n",
            "Image 1500: PSNR = 36.7485, SSIM = 0.9782\n",
            "Image 1501: PSNR = 37.8421, SSIM = 0.9924\n",
            "Image 1502: PSNR = 36.5572, SSIM = 0.9877\n",
            "Image 1503: PSNR = 43.0773, SSIM = 0.9927\n",
            "Image 1504: PSNR = 38.7798, SSIM = 0.9805\n"
          ]
        },
        {
          "output_type": "stream",
          "name": "stderr",
          "text": [
            "\rTesting:  76%|███████▌  | 190/250 [01:11<00:04, 12.07it/s]"
          ]
        },
        {
          "output_type": "stream",
          "name": "stdout",
          "text": [
            "Image 1505: PSNR = 37.9517, SSIM = 0.9788\n",
            "Image 1506: PSNR = 40.0018, SSIM = 0.9927\n",
            "Image 1507: PSNR = 40.9250, SSIM = 0.9887\n",
            "Image 1508: PSNR = 40.4885, SSIM = 0.9910\n",
            "Image 1509: PSNR = 39.5832, SSIM = 0.9915\n",
            "Image 1510: PSNR = 42.5896, SSIM = 0.9939\n",
            "Image 1511: PSNR = 40.3970, SSIM = 0.9926\n",
            "Image 1512: PSNR = 37.9745, SSIM = 0.9792\n",
            "Image 1513: PSNR = 43.0015, SSIM = 0.9927\n",
            "Image 1514: PSNR = 37.4430, SSIM = 0.9877\n",
            "Image 1515: PSNR = 37.8784, SSIM = 0.9819\n",
            "Image 1516: PSNR = 46.8389, SSIM = 0.9833\n",
            "Image 1517: PSNR = 41.6768, SSIM = 0.9777\n",
            "Image 1518: PSNR = 42.0227, SSIM = 0.9932\n",
            "Image 1519: PSNR = 44.6128, SSIM = 0.9777\n"
          ]
        },
        {
          "output_type": "stream",
          "name": "stderr",
          "text": [
            "\rTesting:  77%|███████▋  | 192/250 [01:11<00:04, 12.93it/s]"
          ]
        },
        {
          "output_type": "stream",
          "name": "stdout",
          "text": [
            "Image 1520: PSNR = 39.9616, SSIM = 0.9838\n",
            "Image 1521: PSNR = 33.7851, SSIM = 0.9791\n",
            "Image 1522: PSNR = 41.8038, SSIM = 0.9926\n",
            "Image 1523: PSNR = 40.1844, SSIM = 0.9799\n",
            "Image 1524: PSNR = 39.1170, SSIM = 0.9844\n",
            "Image 1525: PSNR = 38.7277, SSIM = 0.9795\n",
            "Image 1526: PSNR = 33.9700, SSIM = 0.9740\n",
            "Image 1527: PSNR = 40.3635, SSIM = 0.9770\n",
            "Image 1528: PSNR = 36.1577, SSIM = 0.9797\n",
            "Image 1529: PSNR = 42.2601, SSIM = 0.9883\n",
            "Image 1530: PSNR = 41.9049, SSIM = 0.9703\n",
            "Image 1531: PSNR = 36.4056, SSIM = 0.9828\n",
            "Image 1532: PSNR = 38.8244, SSIM = 0.9867\n",
            "Image 1533: PSNR = 36.6699, SSIM = 0.9765\n",
            "Image 1534: PSNR = 41.1058, SSIM = 0.9853\n",
            "Image 1535: PSNR = 42.2748, SSIM = 0.9920\n",
            "Image 1536: PSNR = 37.1635, SSIM = 0.9861\n",
            "Image 1537: PSNR = 39.9144, SSIM = 0.9820\n",
            "Image 1538: PSNR = 36.8398, SSIM = 0.9838\n",
            "Image 1539: PSNR = 41.4008, SSIM = 0.9938\n",
            "Image 1540: PSNR = 34.9678, SSIM = 0.9752\n",
            "Image 1541: PSNR = 44.6024, SSIM = 0.9894\n",
            "Image 1542: PSNR = 40.7592, SSIM = 0.9775\n",
            "Image 1543: PSNR = 39.3087, SSIM = 0.9856\n"
          ]
        },
        {
          "output_type": "stream",
          "name": "stderr",
          "text": [
            "Testing:  78%|███████▊  | 196/250 [01:12<00:07,  7.69it/s]"
          ]
        },
        {
          "output_type": "stream",
          "name": "stdout",
          "text": [
            "Image 1544: PSNR = 44.1748, SSIM = 0.9936\n",
            "Image 1545: PSNR = 34.9706, SSIM = 0.9820\n",
            "Image 1546: PSNR = 39.3195, SSIM = 0.9650\n",
            "Image 1547: PSNR = 40.9176, SSIM = 0.9901\n",
            "Image 1548: PSNR = 38.9462, SSIM = 0.9886\n",
            "Image 1549: PSNR = 41.1933, SSIM = 0.9763\n",
            "Image 1550: PSNR = 40.2627, SSIM = 0.9924\n",
            "Image 1551: PSNR = 49.5864, SSIM = 0.9911\n",
            "Image 1552: PSNR = 41.0520, SSIM = 0.9771\n",
            "Image 1553: PSNR = 37.5799, SSIM = 0.9812\n",
            "Image 1554: PSNR = 37.4104, SSIM = 0.9743\n",
            "Image 1555: PSNR = 37.3216, SSIM = 0.9755\n",
            "Image 1556: PSNR = 42.3975, SSIM = 0.9818\n",
            "Image 1557: PSNR = 37.7818, SSIM = 0.9800\n",
            "Image 1558: PSNR = 37.8542, SSIM = 0.9777\n",
            "Image 1559: PSNR = 39.8735, SSIM = 0.9827\n",
            "Image 1560: PSNR = 36.8220, SSIM = 0.9408\n",
            "Image 1561: PSNR = 40.9281, SSIM = 0.9864\n",
            "Image 1562: PSNR = 36.6112, SSIM = 0.9767\n",
            "Image 1563: PSNR = 41.7101, SSIM = 0.9941\n",
            "Image 1564: PSNR = 42.3807, SSIM = 0.9853\n",
            "Image 1565: PSNR = 40.5293, SSIM = 0.9884\n",
            "Image 1566: PSNR = 41.4647, SSIM = 0.9862\n",
            "Image 1567: PSNR = 38.1099, SSIM = 0.9776\n",
            "Image 1568: PSNR = 39.1375, SSIM = 0.9874\n",
            "Image 1569: PSNR = 37.4252, SSIM = 0.9888\n",
            "Image 1570: PSNR = 39.0168, SSIM = 0.9904\n",
            "Image 1571: PSNR = 38.7983, SSIM = 0.9843\n"
          ]
        },
        {
          "output_type": "stream",
          "name": "stderr",
          "text": [
            "\rTesting:  79%|███████▉  | 198/250 [01:12<00:05,  9.12it/s]"
          ]
        },
        {
          "output_type": "stream",
          "name": "stdout",
          "text": [
            "Image 1572: PSNR = 38.6337, SSIM = 0.9908\n",
            "Image 1573: PSNR = 40.9771, SSIM = 0.9822\n",
            "Image 1574: PSNR = 45.5471, SSIM = 0.9902\n",
            "Image 1575: PSNR = 37.4445, SSIM = 0.9899\n",
            "Image 1576: PSNR = 42.8557, SSIM = 0.9529\n",
            "Image 1577: PSNR = 36.6713, SSIM = 0.9785\n",
            "Image 1578: PSNR = 45.0262, SSIM = 0.9928\n",
            "Image 1579: PSNR = 48.0924, SSIM = 0.9871\n",
            "Image 1580: PSNR = 38.9513, SSIM = 0.9570\n",
            "Image 1581: PSNR = 37.9830, SSIM = 0.9841\n",
            "Image 1582: PSNR = 38.8323, SSIM = 0.9915\n",
            "Image 1583: PSNR = 36.2520, SSIM = 0.9795\n",
            "Image 1584: PSNR = 43.0392, SSIM = 0.9937\n",
            "Image 1585: PSNR = 41.0319, SSIM = 0.9859\n",
            "Image 1586: PSNR = 41.3395, SSIM = 0.9940\n",
            "Image 1587: PSNR = 40.0663, SSIM = 0.9734\n",
            "Image 1588: PSNR = 49.7232, SSIM = 0.9913\n",
            "Image 1589: PSNR = 39.3848, SSIM = 0.9918\n",
            "Image 1590: PSNR = 39.6520, SSIM = 0.9846\n",
            "Image 1591: PSNR = 45.2636, SSIM = 0.9911\n",
            "Image 1592: PSNR = 40.4082, SSIM = 0.9886\n",
            "Image 1593: PSNR = 39.6358, SSIM = 0.9934\n",
            "Image 1594: PSNR = 42.3070, SSIM = 0.9870\n",
            "Image 1595: PSNR = 35.0363, SSIM = 0.9831\n",
            "Image 1596: PSNR = 42.9770, SSIM = 0.9918\n",
            "Image 1597: PSNR = 38.1123, SSIM = 0.9745\n",
            "Image 1598: PSNR = 38.7470, SSIM = 0.9804\n"
          ]
        },
        {
          "output_type": "stream",
          "name": "stderr",
          "text": [
            "Testing:  81%|████████  | 202/250 [01:13<00:04, 11.55it/s]"
          ]
        },
        {
          "output_type": "stream",
          "name": "stdout",
          "text": [
            "Image 1599: PSNR = 39.0695, SSIM = 0.9923\n",
            "Image 1600: PSNR = 35.9226, SSIM = 0.9761\n",
            "Image 1601: PSNR = 43.7910, SSIM = 0.9811\n",
            "Image 1602: PSNR = 38.6450, SSIM = 0.9901\n",
            "Image 1603: PSNR = 42.5861, SSIM = 0.9852\n",
            "Image 1604: PSNR = 38.5987, SSIM = 0.9775\n",
            "Image 1605: PSNR = 40.5009, SSIM = 0.9824\n",
            "Image 1606: PSNR = 41.2463, SSIM = 0.9929\n",
            "Image 1607: PSNR = 39.8106, SSIM = 0.9927\n",
            "Image 1608: PSNR = 41.9790, SSIM = 0.9850\n",
            "Image 1609: PSNR = 37.8824, SSIM = 0.9853\n",
            "Image 1610: PSNR = 37.3224, SSIM = 0.9779\n",
            "Image 1611: PSNR = 40.0168, SSIM = 0.9806\n",
            "Image 1612: PSNR = 38.5656, SSIM = 0.9850\n",
            "Image 1613: PSNR = 39.6131, SSIM = 0.9870\n",
            "Image 1614: PSNR = 36.3674, SSIM = 0.9805\n",
            "Image 1615: PSNR = 44.9767, SSIM = 0.9908\n",
            "Image 1616: PSNR = 41.3333, SSIM = 0.9899\n",
            "Image 1617: PSNR = 41.1997, SSIM = 0.9824\n",
            "Image 1618: PSNR = 42.5610, SSIM = 0.9899\n",
            "Image 1619: PSNR = 39.1339, SSIM = 0.9831\n",
            "Image 1620: PSNR = 41.0873, SSIM = 0.9865\n",
            "Image 1621: PSNR = 40.6078, SSIM = 0.9835\n",
            "Image 1622: PSNR = 36.1719, SSIM = 0.9851\n",
            "Image 1623: PSNR = 36.9315, SSIM = 0.9811\n"
          ]
        },
        {
          "output_type": "stream",
          "name": "stderr",
          "text": [
            "Testing:  82%|████████▏ | 206/250 [01:13<00:03, 13.43it/s]"
          ]
        },
        {
          "output_type": "stream",
          "name": "stdout",
          "text": [
            "Image 1624: PSNR = 36.7200, SSIM = 0.9851\n",
            "Image 1625: PSNR = 38.8107, SSIM = 0.9828\n",
            "Image 1626: PSNR = 36.9979, SSIM = 0.9825\n",
            "Image 1627: PSNR = 39.2336, SSIM = 0.9914\n",
            "Image 1628: PSNR = 38.8990, SSIM = 0.9853\n",
            "Image 1629: PSNR = 38.5241, SSIM = 0.9824\n",
            "Image 1630: PSNR = 45.9906, SSIM = 0.9912\n",
            "Image 1631: PSNR = 40.1912, SSIM = 0.9879\n",
            "Image 1632: PSNR = 44.3560, SSIM = 0.9921\n",
            "Image 1633: PSNR = 40.0723, SSIM = 0.9846\n",
            "Image 1634: PSNR = 43.5324, SSIM = 0.9929\n",
            "Image 1635: PSNR = 40.6372, SSIM = 0.9774\n",
            "Image 1636: PSNR = 39.8520, SSIM = 0.9931\n",
            "Image 1637: PSNR = 38.5687, SSIM = 0.9782\n",
            "Image 1638: PSNR = 39.2946, SSIM = 0.9766\n",
            "Image 1639: PSNR = 38.9859, SSIM = 0.9864\n",
            "Image 1640: PSNR = 41.0568, SSIM = 0.9808\n",
            "Image 1641: PSNR = 39.4022, SSIM = 0.9808\n",
            "Image 1642: PSNR = 37.3606, SSIM = 0.9900\n",
            "Image 1643: PSNR = 38.3641, SSIM = 0.9865\n",
            "Image 1644: PSNR = 32.9154, SSIM = 0.9765\n",
            "Image 1645: PSNR = 43.1823, SSIM = 0.9938\n",
            "Image 1646: PSNR = 35.9343, SSIM = 0.7358\n",
            "Image 1647: PSNR = 41.7353, SSIM = 0.9700\n",
            "Image 1648: PSNR = 39.3693, SSIM = 0.9787\n",
            "Image 1649: PSNR = 36.7299, SSIM = 0.9733\n",
            "Image 1650: PSNR = 41.7547, SSIM = 0.9867\n"
          ]
        },
        {
          "output_type": "stream",
          "name": "stderr",
          "text": [
            "\rTesting:  83%|████████▎ | 208/250 [01:13<00:03, 13.98it/s]"
          ]
        },
        {
          "output_type": "stream",
          "name": "stdout",
          "text": [
            "Image 1651: PSNR = 45.9202, SSIM = 0.9849\n",
            "Image 1652: PSNR = 34.4904, SSIM = 0.9787\n",
            "Image 1653: PSNR = 38.2278, SSIM = 0.9817\n",
            "Image 1654: PSNR = 42.6886, SSIM = 0.9878\n",
            "Image 1655: PSNR = 36.5118, SSIM = 0.9767\n",
            "Image 1656: PSNR = 41.0108, SSIM = 0.9840\n",
            "Image 1657: PSNR = 38.2844, SSIM = 0.9890\n",
            "Image 1658: PSNR = 34.3315, SSIM = 0.9780\n",
            "Image 1659: PSNR = 45.5028, SSIM = 0.9913\n",
            "Image 1660: PSNR = 32.6128, SSIM = 0.9779\n",
            "Image 1661: PSNR = 37.9983, SSIM = 0.9860\n",
            "Image 1662: PSNR = 34.4170, SSIM = 0.9820\n",
            "Image 1663: PSNR = 45.5347, SSIM = 0.9936\n",
            "Image 1664: PSNR = 41.6677, SSIM = 0.9920\n",
            "Image 1665: PSNR = 37.1143, SSIM = 0.9806\n",
            "Image 1666: PSNR = 37.9490, SSIM = 0.9611\n",
            "Image 1667: PSNR = 41.0977, SSIM = 0.9837\n",
            "Image 1668: PSNR = 40.7404, SSIM = 0.9897\n",
            "Image 1669: PSNR = 40.0462, SSIM = 0.9788\n",
            "Image 1670: PSNR = 43.6139, SSIM = 0.9882\n",
            "Image 1671: PSNR = 48.3709, SSIM = 0.9887\n",
            "Image 1672: PSNR = 44.8351, SSIM = 0.9886\n",
            "Image 1673: PSNR = 33.9557, SSIM = 0.9764\n",
            "Image 1674: PSNR = 43.2524, SSIM = 0.9915\n",
            "Image 1675: PSNR = 40.9609, SSIM = 0.9915\n",
            "Image 1676: PSNR = 33.8004, SSIM = 0.9790\n"
          ]
        },
        {
          "output_type": "stream",
          "name": "stderr",
          "text": [
            "Testing:  85%|████████▍ | 212/250 [01:13<00:02, 14.72it/s]"
          ]
        },
        {
          "output_type": "stream",
          "name": "stdout",
          "text": [
            "Image 1677: PSNR = 37.3143, SSIM = 0.9887\n",
            "Image 1678: PSNR = 38.4650, SSIM = 0.9790\n",
            "Image 1679: PSNR = 35.6837, SSIM = 0.9847\n",
            "Image 1680: PSNR = 37.1020, SSIM = 0.9811\n",
            "Image 1681: PSNR = 40.3829, SSIM = 0.9724\n",
            "Image 1682: PSNR = 37.5889, SSIM = 0.9706\n",
            "Image 1683: PSNR = 39.8437, SSIM = 0.9951\n",
            "Image 1684: PSNR = 40.0989, SSIM = 0.9765\n",
            "Image 1685: PSNR = 39.4777, SSIM = 0.9917\n",
            "Image 1686: PSNR = 38.8305, SSIM = 0.9853\n",
            "Image 1687: PSNR = 38.6251, SSIM = 0.9922\n",
            "Image 1688: PSNR = 34.3514, SSIM = 0.9779\n",
            "Image 1689: PSNR = 37.3965, SSIM = 0.9896\n",
            "Image 1690: PSNR = 39.9697, SSIM = 0.9915\n",
            "Image 1691: PSNR = 40.4496, SSIM = 0.9788\n",
            "Image 1692: PSNR = 39.5736, SSIM = 0.9944\n",
            "Image 1693: PSNR = 39.4444, SSIM = 0.9864\n",
            "Image 1694: PSNR = 42.9580, SSIM = 0.9897\n",
            "Image 1695: PSNR = 42.1578, SSIM = 0.9811\n",
            "Image 1696: PSNR = 44.1702, SSIM = 0.9855\n",
            "Image 1697: PSNR = 40.3669, SSIM = 0.9817\n",
            "Image 1698: PSNR = 40.1467, SSIM = 0.9841\n",
            "Image 1699: PSNR = 41.5015, SSIM = 0.9925\n",
            "Image 1700: PSNR = 41.9417, SSIM = 0.9884\n",
            "Image 1701: PSNR = 36.0066, SSIM = 0.9865\n",
            "Image 1702: PSNR = 40.1213, SSIM = 0.9875\n",
            "Image 1703: PSNR = 37.1757, SSIM = 0.9786\n"
          ]
        },
        {
          "output_type": "stream",
          "name": "stderr",
          "text": [
            "Testing:  86%|████████▋ | 216/250 [01:14<00:03, 10.77it/s]"
          ]
        },
        {
          "output_type": "stream",
          "name": "stdout",
          "text": [
            "Image 1704: PSNR = 36.3829, SSIM = 0.9745\n",
            "Image 1705: PSNR = 40.2848, SSIM = 0.9714\n",
            "Image 1706: PSNR = 40.9192, SSIM = 0.9684\n",
            "Image 1707: PSNR = 43.8240, SSIM = 0.9771\n",
            "Image 1708: PSNR = 42.2499, SSIM = 0.9934\n",
            "Image 1709: PSNR = 40.7744, SSIM = 0.9691\n",
            "Image 1710: PSNR = 42.5237, SSIM = 0.9935\n",
            "Image 1711: PSNR = 37.6165, SSIM = 0.9746\n",
            "Image 1712: PSNR = 40.4260, SSIM = 0.9903\n",
            "Image 1713: PSNR = 44.1256, SSIM = 0.9932\n",
            "Image 1714: PSNR = 40.6041, SSIM = 0.9795\n",
            "Image 1715: PSNR = 46.2436, SSIM = 0.9799\n",
            "Image 1716: PSNR = 41.3289, SSIM = 0.9899\n",
            "Image 1717: PSNR = 37.3772, SSIM = 0.9865\n",
            "Image 1718: PSNR = 35.2044, SSIM = 0.9829\n",
            "Image 1719: PSNR = 38.5789, SSIM = 0.9811\n",
            "Image 1720: PSNR = 39.8823, SSIM = 0.9717\n",
            "Image 1721: PSNR = 40.3038, SSIM = 0.9740\n",
            "Image 1722: PSNR = 35.0138, SSIM = 0.9821\n",
            "Image 1723: PSNR = 36.8174, SSIM = 0.9715\n",
            "Image 1724: PSNR = 35.9769, SSIM = 0.9844\n",
            "Image 1725: PSNR = 36.4750, SSIM = 0.9887\n",
            "Image 1726: PSNR = 45.0475, SSIM = 0.9865\n",
            "Image 1727: PSNR = 46.3134, SSIM = 0.9793\n"
          ]
        },
        {
          "output_type": "stream",
          "name": "stderr",
          "text": [
            "\rTesting:  87%|████████▋ | 218/250 [01:14<00:03,  9.22it/s]"
          ]
        },
        {
          "output_type": "stream",
          "name": "stdout",
          "text": [
            "Image 1728: PSNR = 37.5287, SSIM = 0.9828\n",
            "Image 1729: PSNR = 41.7964, SSIM = 0.9910\n",
            "Image 1730: PSNR = 46.1328, SSIM = 0.9815\n",
            "Image 1731: PSNR = 37.4436, SSIM = 0.9260\n",
            "Image 1732: PSNR = 43.4367, SSIM = 0.9932\n",
            "Image 1733: PSNR = 39.8205, SSIM = 0.9851\n",
            "Image 1734: PSNR = 45.1868, SSIM = 0.9890\n",
            "Image 1735: PSNR = 37.3777, SSIM = 0.9783\n",
            "Image 1736: PSNR = 35.1429, SSIM = 0.9862\n",
            "Image 1737: PSNR = 37.3417, SSIM = 0.9904\n",
            "Image 1738: PSNR = 36.1156, SSIM = 0.9817\n",
            "Image 1739: PSNR = 34.0036, SSIM = 0.9812\n",
            "Image 1740: PSNR = 39.4274, SSIM = 0.9896\n",
            "Image 1741: PSNR = 43.5714, SSIM = 0.9876\n",
            "Image 1742: PSNR = 42.3538, SSIM = 0.9898\n",
            "Image 1743: PSNR = 34.6617, SSIM = 0.9666\n",
            "Image 1744: PSNR = 42.1839, SSIM = 0.9812\n",
            "Image 1745: PSNR = 42.9208, SSIM = 0.9831\n",
            "Image 1746: PSNR = 41.1176, SSIM = 0.9924\n",
            "Image 1747: PSNR = 33.8788, SSIM = 0.9810\n",
            "Image 1748: PSNR = 38.4868, SSIM = 0.9538\n",
            "Image 1749: PSNR = 46.0293, SSIM = 0.9883\n",
            "Image 1750: PSNR = 44.0887, SSIM = 0.9835\n",
            "Image 1751: PSNR = 43.7099, SSIM = 0.9860\n",
            "Image 1752: PSNR = 42.5341, SSIM = 0.9865\n",
            "Image 1753: PSNR = 41.4468, SSIM = 0.9938\n",
            "Image 1754: PSNR = 38.7169, SSIM = 0.9816\n"
          ]
        },
        {
          "output_type": "stream",
          "name": "stderr",
          "text": [
            "\rTesting:  88%|████████▊ | 220/250 [01:14<00:02, 10.52it/s]"
          ]
        },
        {
          "output_type": "stream",
          "name": "stdout",
          "text": [
            "Image 1755: PSNR = 45.0652, SSIM = 0.9879\n",
            "Image 1756: PSNR = 39.6531, SSIM = 0.9805\n",
            "Image 1757: PSNR = 37.5993, SSIM = 0.9752\n",
            "Image 1758: PSNR = 36.1801, SSIM = 0.9794\n",
            "Image 1759: PSNR = 39.1827, SSIM = 0.9911\n",
            "Image 1760: PSNR = 46.4454, SSIM = 0.9912\n",
            "Image 1761: PSNR = 38.8205, SSIM = 0.9894\n",
            "Image 1762: PSNR = 41.8895, SSIM = 0.9877\n",
            "Image 1763: PSNR = 47.1810, SSIM = 0.9894\n",
            "Image 1764: PSNR = 37.1086, SSIM = 0.9810\n",
            "Image 1765: PSNR = 46.3299, SSIM = 0.9922\n",
            "Image 1766: PSNR = 39.7031, SSIM = 0.9854\n",
            "Image 1767: PSNR = 38.0554, SSIM = 0.9864\n"
          ]
        },
        {
          "output_type": "stream",
          "name": "stderr",
          "text": [
            "\rTesting:  89%|████████▉ | 222/250 [01:15<00:03,  7.93it/s]"
          ]
        },
        {
          "output_type": "stream",
          "name": "stdout",
          "text": [
            "Image 1768: PSNR = 39.8460, SSIM = 0.9782\n",
            "Image 1769: PSNR = 41.3880, SSIM = 0.9882\n",
            "Image 1770: PSNR = 39.1612, SSIM = 0.9834\n",
            "Image 1771: PSNR = 45.7454, SSIM = 0.9800\n",
            "Image 1772: PSNR = 39.6684, SSIM = 0.9864\n",
            "Image 1773: PSNR = 37.2361, SSIM = 0.8787\n",
            "Image 1774: PSNR = 39.4048, SSIM = 0.9887\n",
            "Image 1775: PSNR = 35.6348, SSIM = 0.9837\n",
            "Image 1776: PSNR = 36.6678, SSIM = 0.9768\n",
            "Image 1777: PSNR = 36.7563, SSIM = 0.9704\n",
            "Image 1778: PSNR = 38.4653, SSIM = 0.9883\n",
            "Image 1779: PSNR = 46.2916, SSIM = 0.9900\n",
            "Image 1780: PSNR = 41.8228, SSIM = 0.9907\n",
            "Image 1781: PSNR = 34.5880, SSIM = 0.9766\n",
            "Image 1782: PSNR = 39.1005, SSIM = 0.9793\n",
            "Image 1783: PSNR = 40.5696, SSIM = 0.9694\n"
          ]
        },
        {
          "output_type": "stream",
          "name": "stderr",
          "text": [
            "Testing:  90%|█████████ | 226/250 [01:15<00:02,  9.17it/s]"
          ]
        },
        {
          "output_type": "stream",
          "name": "stdout",
          "text": [
            "Image 1784: PSNR = 38.3420, SSIM = 0.9757\n",
            "Image 1785: PSNR = 34.5654, SSIM = 0.9795\n",
            "Image 1786: PSNR = 39.5243, SSIM = 0.9849\n",
            "Image 1787: PSNR = 37.0112, SSIM = 0.9813\n",
            "Image 1788: PSNR = 43.4863, SSIM = 0.9789\n",
            "Image 1789: PSNR = 36.1119, SSIM = 0.9829\n",
            "Image 1790: PSNR = 35.6429, SSIM = 0.9776\n",
            "Image 1791: PSNR = 38.8014, SSIM = 0.9873\n",
            "Image 1792: PSNR = 38.1259, SSIM = 0.9764\n",
            "Image 1793: PSNR = 35.2483, SSIM = 0.9815\n",
            "Image 1794: PSNR = 38.6506, SSIM = 0.7518\n",
            "Image 1795: PSNR = 41.2829, SSIM = 0.9725\n",
            "Image 1796: PSNR = 39.3070, SSIM = 0.9829\n",
            "Image 1797: PSNR = 43.5952, SSIM = 0.9814\n",
            "Image 1798: PSNR = 33.1239, SSIM = 0.9769\n",
            "Image 1799: PSNR = 37.6713, SSIM = 0.9876\n",
            "Image 1800: PSNR = 39.9382, SSIM = 0.9801\n",
            "Image 1801: PSNR = 40.5961, SSIM = 0.9886\n",
            "Image 1802: PSNR = 38.0086, SSIM = 0.9794\n",
            "Image 1803: PSNR = 36.6953, SSIM = 0.9866\n",
            "Image 1804: PSNR = 35.2996, SSIM = 0.9823\n",
            "Image 1805: PSNR = 45.2897, SSIM = 0.9788\n",
            "Image 1806: PSNR = 39.6020, SSIM = 0.9938\n",
            "Image 1807: PSNR = 34.6513, SSIM = 0.8744\n",
            "Image 1808: PSNR = 39.2712, SSIM = 0.9832\n",
            "Image 1809: PSNR = 38.3068, SSIM = 0.9802\n",
            "Image 1810: PSNR = 42.2916, SSIM = 0.9923\n"
          ]
        },
        {
          "output_type": "stream",
          "name": "stderr",
          "text": [
            "\rTesting:  91%|█████████ | 228/250 [01:15<00:02, 10.47it/s]"
          ]
        },
        {
          "output_type": "stream",
          "name": "stdout",
          "text": [
            "Image 1811: PSNR = 39.2065, SSIM = 0.9905\n",
            "Image 1812: PSNR = 36.2310, SSIM = 0.9777\n",
            "Image 1813: PSNR = 42.8522, SSIM = 0.9876\n",
            "Image 1814: PSNR = 39.0350, SSIM = 0.9907\n",
            "Image 1815: PSNR = 36.0118, SSIM = 0.9844\n",
            "Image 1816: PSNR = 33.4220, SSIM = 0.9742\n",
            "Image 1817: PSNR = 41.7563, SSIM = 0.9935\n",
            "Image 1818: PSNR = 47.4357, SSIM = 0.9861\n",
            "Image 1819: PSNR = 39.7501, SSIM = 0.9918\n",
            "Image 1820: PSNR = 40.3738, SSIM = 0.9884\n",
            "Image 1821: PSNR = 39.5798, SSIM = 0.9936\n",
            "Image 1822: PSNR = 39.2052, SSIM = 0.9868\n",
            "Image 1823: PSNR = 42.2505, SSIM = 0.9874\n",
            "Image 1824: PSNR = 38.8051, SSIM = 0.9763\n",
            "Image 1825: PSNR = 35.1836, SSIM = 0.9783\n",
            "Image 1826: PSNR = 48.4261, SSIM = 0.9904\n",
            "Image 1827: PSNR = 40.7307, SSIM = 0.9905\n",
            "Image 1828: PSNR = 40.2742, SSIM = 0.9836\n",
            "Image 1829: PSNR = 40.5983, SSIM = 0.9885\n",
            "Image 1830: PSNR = 41.5934, SSIM = 0.9858\n",
            "Image 1831: PSNR = 36.0301, SSIM = 0.9740\n",
            "Image 1832: PSNR = 39.0037, SSIM = 0.9936\n",
            "Image 1833: PSNR = 41.5292, SSIM = 0.9850\n",
            "Image 1834: PSNR = 35.9288, SSIM = 0.9874\n",
            "Image 1835: PSNR = 38.9799, SSIM = 0.9827\n",
            "Image 1836: PSNR = 37.9573, SSIM = 0.9718\n"
          ]
        },
        {
          "output_type": "stream",
          "name": "stderr",
          "text": [
            "Testing:  93%|█████████▎| 232/250 [01:15<00:01, 12.67it/s]"
          ]
        },
        {
          "output_type": "stream",
          "name": "stdout",
          "text": [
            "Image 1837: PSNR = 39.9283, SSIM = 0.9820\n",
            "Image 1838: PSNR = 40.9293, SSIM = 0.9884\n",
            "Image 1839: PSNR = 40.9371, SSIM = 0.9792\n",
            "Image 1840: PSNR = 37.3150, SSIM = 0.9754\n",
            "Image 1841: PSNR = 45.0271, SSIM = 0.9867\n",
            "Image 1842: PSNR = 43.3288, SSIM = 0.9869\n",
            "Image 1843: PSNR = 45.8568, SSIM = 0.9884\n",
            "Image 1844: PSNR = 43.1678, SSIM = 0.9890\n",
            "Image 1845: PSNR = 43.1113, SSIM = 0.9846\n",
            "Image 1846: PSNR = 35.2275, SSIM = 0.9853\n",
            "Image 1847: PSNR = 38.1659, SSIM = 0.9858\n",
            "Image 1848: PSNR = 36.0419, SSIM = 0.9808\n",
            "Image 1849: PSNR = 38.6817, SSIM = 0.9885\n",
            "Image 1850: PSNR = 43.7466, SSIM = 0.9846\n",
            "Image 1851: PSNR = 39.6031, SSIM = 0.9826\n",
            "Image 1852: PSNR = 38.8938, SSIM = 0.9849\n",
            "Image 1853: PSNR = 36.2628, SSIM = 0.9840\n",
            "Image 1854: PSNR = 46.0292, SSIM = 0.9925\n",
            "Image 1855: PSNR = 37.6356, SSIM = 0.6920\n",
            "Image 1856: PSNR = 39.3888, SSIM = 0.9874\n",
            "Image 1857: PSNR = 36.1174, SSIM = 0.9802\n",
            "Image 1858: PSNR = 36.5026, SSIM = 0.9868\n",
            "Image 1859: PSNR = 39.1469, SSIM = 0.9731\n",
            "Image 1860: PSNR = 38.5424, SSIM = 0.9807\n",
            "Image 1861: PSNR = 44.6805, SSIM = 0.9766\n",
            "Image 1862: PSNR = 37.8063, SSIM = 0.9701\n",
            "Image 1863: PSNR = 38.6521, SSIM = 0.9803\n"
          ]
        },
        {
          "output_type": "stream",
          "name": "stderr",
          "text": [
            "\rTesting:  94%|█████████▎| 234/250 [01:15<00:01, 13.49it/s]"
          ]
        },
        {
          "output_type": "stream",
          "name": "stdout",
          "text": [
            "Image 1864: PSNR = 39.1048, SSIM = 0.9780\n",
            "Image 1865: PSNR = 38.4724, SSIM = 0.9882\n",
            "Image 1866: PSNR = 44.2046, SSIM = 0.9801\n",
            "Image 1867: PSNR = 37.4102, SSIM = 0.9865\n",
            "Image 1868: PSNR = 35.7415, SSIM = 0.9799\n",
            "Image 1869: PSNR = 37.0786, SSIM = 0.9702\n",
            "Image 1870: PSNR = 40.7047, SSIM = 0.9888\n",
            "Image 1871: PSNR = 37.2252, SSIM = 0.9906\n",
            "Image 1872: PSNR = 42.3783, SSIM = 0.9910\n",
            "Image 1873: PSNR = 38.1793, SSIM = 0.9907\n",
            "Image 1874: PSNR = 40.2930, SSIM = 0.9898\n",
            "Image 1875: PSNR = 42.7594, SSIM = 0.9725\n",
            "Image 1876: PSNR = 37.5076, SSIM = 0.9782\n",
            "Image 1877: PSNR = 42.1927, SSIM = 0.9889\n",
            "Image 1878: PSNR = 35.7091, SSIM = 0.9793\n",
            "Image 1879: PSNR = 40.8965, SSIM = 0.9664\n"
          ]
        },
        {
          "output_type": "stream",
          "name": "stderr",
          "text": [
            "\rTesting:  94%|█████████▍| 236/250 [01:16<00:01, 12.04it/s]"
          ]
        },
        {
          "output_type": "stream",
          "name": "stdout",
          "text": [
            "Image 1880: PSNR = 38.9794, SSIM = 0.9791\n",
            "Image 1881: PSNR = 49.8894, SSIM = 0.9919\n",
            "Image 1882: PSNR = 44.7567, SSIM = 0.9902\n",
            "Image 1883: PSNR = 36.1480, SSIM = 0.9651\n",
            "Image 1884: PSNR = 34.4855, SSIM = 0.9752\n",
            "Image 1885: PSNR = 40.0804, SSIM = 0.9854\n",
            "Image 1886: PSNR = 37.2060, SSIM = 0.9817\n",
            "Image 1887: PSNR = 38.0352, SSIM = 0.9888\n"
          ]
        },
        {
          "output_type": "stream",
          "name": "stderr",
          "text": [
            "\rTesting:  95%|█████████▌| 238/250 [01:16<00:01,  7.96it/s]"
          ]
        },
        {
          "output_type": "stream",
          "name": "stdout",
          "text": [
            "Image 1888: PSNR = 38.3233, SSIM = 0.9785\n",
            "Image 1889: PSNR = 36.2934, SSIM = 0.9899\n",
            "Image 1890: PSNR = 37.3891, SSIM = 0.9892\n",
            "Image 1891: PSNR = 41.0729, SSIM = 0.9659\n",
            "Image 1892: PSNR = 42.3464, SSIM = 0.9857\n",
            "Image 1893: PSNR = 35.8202, SSIM = 0.7199\n",
            "Image 1894: PSNR = 42.5695, SSIM = 0.9774\n",
            "Image 1895: PSNR = 39.9885, SSIM = 0.9799\n",
            "Image 1896: PSNR = 39.5295, SSIM = 0.9735\n",
            "Image 1897: PSNR = 43.8053, SSIM = 0.9850\n",
            "Image 1898: PSNR = 35.8386, SSIM = 0.9830\n",
            "Image 1899: PSNR = 38.5790, SSIM = 0.9723\n",
            "Image 1900: PSNR = 39.7118, SSIM = 0.9916\n",
            "Image 1901: PSNR = 40.1704, SSIM = 0.9883\n",
            "Image 1902: PSNR = 36.7457, SSIM = 0.9791\n",
            "Image 1903: PSNR = 40.6313, SSIM = 0.9927\n",
            "Image 1904: PSNR = 38.1712, SSIM = 0.9853\n",
            "Image 1905: PSNR = 38.4595, SSIM = 0.9855\n",
            "Image 1906: PSNR = 39.0446, SSIM = 0.9796\n",
            "Image 1907: PSNR = 38.1554, SSIM = 0.9840\n",
            "Image 1908: PSNR = 39.0164, SSIM = 0.9825\n",
            "Image 1909: PSNR = 36.0020, SSIM = 0.9882\n",
            "Image 1910: PSNR = 45.1480, SSIM = 0.9939\n",
            "Image 1911: PSNR = 36.0326, SSIM = 0.9808\n",
            "Image 1912: PSNR = 39.1830, SSIM = 0.9751\n",
            "Image 1913: PSNR = 38.9953, SSIM = 0.9898\n"
          ]
        },
        {
          "output_type": "stream",
          "name": "stderr",
          "text": [
            "Testing:  97%|█████████▋| 242/250 [01:16<00:00, 10.60it/s]"
          ]
        },
        {
          "output_type": "stream",
          "name": "stdout",
          "text": [
            "Image 1914: PSNR = 43.1313, SSIM = 0.9812\n",
            "Image 1915: PSNR = 39.8773, SSIM = 0.9917\n",
            "Image 1916: PSNR = 41.7095, SSIM = 0.9937\n",
            "Image 1917: PSNR = 46.6451, SSIM = 0.9817\n",
            "Image 1918: PSNR = 39.5584, SSIM = 0.9793\n",
            "Image 1919: PSNR = 38.1043, SSIM = 0.9861\n",
            "Image 1920: PSNR = 39.5068, SSIM = 0.9831\n",
            "Image 1921: PSNR = 37.5367, SSIM = 0.9769\n",
            "Image 1922: PSNR = 42.1628, SSIM = 0.9840\n",
            "Image 1923: PSNR = 35.7270, SSIM = 0.9843\n",
            "Image 1924: PSNR = 41.5793, SSIM = 0.9723\n",
            "Image 1925: PSNR = 35.3929, SSIM = 0.9857\n",
            "Image 1926: PSNR = 43.9673, SSIM = 0.9755\n",
            "Image 1927: PSNR = 42.6507, SSIM = 0.9930\n",
            "Image 1928: PSNR = 37.5581, SSIM = 0.9689\n",
            "Image 1929: PSNR = 41.0237, SSIM = 0.9671\n",
            "Image 1930: PSNR = 36.4796, SSIM = 0.9669\n",
            "Image 1931: PSNR = 39.9920, SSIM = 0.9728\n",
            "Image 1932: PSNR = 38.3648, SSIM = 0.9810\n",
            "Image 1933: PSNR = 42.1336, SSIM = 0.9868\n",
            "Image 1934: PSNR = 36.7600, SSIM = 0.9790\n",
            "Image 1935: PSNR = 38.7236, SSIM = 0.9915\n"
          ]
        },
        {
          "output_type": "stream",
          "name": "stderr",
          "text": [
            "\rTesting:  98%|█████████▊| 244/250 [01:17<00:00, 10.17it/s]"
          ]
        },
        {
          "output_type": "stream",
          "name": "stdout",
          "text": [
            "Image 1936: PSNR = 34.8971, SSIM = 0.9847\n",
            "Image 1937: PSNR = 35.2282, SSIM = 0.9696\n",
            "Image 1938: PSNR = 37.1773, SSIM = 0.9879\n",
            "Image 1939: PSNR = 38.6385, SSIM = 0.9746\n",
            "Image 1940: PSNR = 42.2074, SSIM = 0.9815\n",
            "Image 1941: PSNR = 36.0891, SSIM = 0.9771\n",
            "Image 1942: PSNR = 39.0401, SSIM = 0.9728\n",
            "Image 1943: PSNR = 43.8984, SSIM = 0.9917\n",
            "Image 1944: PSNR = 40.3463, SSIM = 0.9860\n",
            "Image 1945: PSNR = 39.6144, SSIM = 0.9794\n",
            "Image 1946: PSNR = 35.8564, SSIM = 0.9822\n",
            "Image 1947: PSNR = 40.6876, SSIM = 0.9902\n",
            "Image 1948: PSNR = 36.7975, SSIM = 0.6631\n",
            "Image 1949: PSNR = 36.7690, SSIM = 0.9786\n",
            "Image 1950: PSNR = 37.3163, SSIM = 0.9803\n",
            "Image 1951: PSNR = 42.1464, SSIM = 0.9810\n",
            "Image 1952: PSNR = 42.2609, SSIM = 0.9878\n",
            "Image 1953: PSNR = 35.1042, SSIM = 0.9810\n",
            "Image 1954: PSNR = 42.1653, SSIM = 0.9924\n",
            "Image 1955: PSNR = 35.0129, SSIM = 0.9798\n",
            "Image 1956: PSNR = 41.9425, SSIM = 0.9778\n",
            "Image 1957: PSNR = 35.6647, SSIM = 0.9751\n",
            "Image 1958: PSNR = 39.6436, SSIM = 0.9774\n",
            "Image 1959: PSNR = 38.7014, SSIM = 0.9849\n",
            "Image 1960: PSNR = 39.5444, SSIM = 0.9856\n",
            "Image 1961: PSNR = 36.3166, SSIM = 0.9809\n"
          ]
        },
        {
          "output_type": "stream",
          "name": "stderr",
          "text": [
            "\rTesting:  98%|█████████▊| 246/250 [01:17<00:00, 11.37it/s]"
          ]
        },
        {
          "output_type": "stream",
          "name": "stdout",
          "text": [
            "Image 1962: PSNR = 44.1204, SSIM = 0.9752\n",
            "Image 1963: PSNR = 35.6277, SSIM = 0.9803\n",
            "Image 1964: PSNR = 45.7447, SSIM = 0.9894\n",
            "Image 1965: PSNR = 36.2229, SSIM = 0.9716\n",
            "Image 1966: PSNR = 42.5295, SSIM = 0.9866\n",
            "Image 1967: PSNR = 38.0576, SSIM = 0.9713\n",
            "Image 1968: PSNR = 42.3118, SSIM = 0.9888\n",
            "Image 1969: PSNR = 49.3085, SSIM = 0.9919\n",
            "Image 1970: PSNR = 41.9639, SSIM = 0.9920\n",
            "Image 1971: PSNR = 45.0357, SSIM = 0.9734\n",
            "Image 1972: PSNR = 40.3966, SSIM = 0.9899\n",
            "Image 1973: PSNR = 40.5168, SSIM = 0.9877\n",
            "Image 1974: PSNR = 37.7460, SSIM = 0.9776\n",
            "Image 1975: PSNR = 45.0556, SSIM = 0.9869\n"
          ]
        },
        {
          "output_type": "stream",
          "name": "stderr",
          "text": [
            "Testing: 100%|██████████| 250/250 [01:18<00:00,  4.82it/s]"
          ]
        },
        {
          "output_type": "stream",
          "name": "stdout",
          "text": [
            "Image 1976: PSNR = 38.9338, SSIM = 0.9880\n",
            "Image 1977: PSNR = 35.7103, SSIM = 0.9776\n",
            "Image 1978: PSNR = 40.6869, SSIM = 0.9381\n",
            "Image 1979: PSNR = 36.4940, SSIM = 0.9829\n",
            "Image 1980: PSNR = 41.5735, SSIM = 0.9784\n",
            "Image 1981: PSNR = 42.9190, SSIM = 0.9902\n",
            "Image 1982: PSNR = 32.8766, SSIM = 0.9736\n",
            "Image 1983: PSNR = 43.0481, SSIM = 0.9784\n",
            "Image 1984: PSNR = 36.6000, SSIM = 0.9905\n",
            "Image 1985: PSNR = 38.2223, SSIM = 0.9899\n",
            "Image 1986: PSNR = 38.9987, SSIM = 0.9884\n",
            "Image 1987: PSNR = 41.5119, SSIM = 0.9912\n",
            "Image 1988: PSNR = 35.6721, SSIM = 0.9882\n",
            "Image 1989: PSNR = 43.4636, SSIM = 0.9928\n",
            "Image 1990: PSNR = 40.4391, SSIM = 0.7971\n",
            "Image 1991: PSNR = 38.4643, SSIM = 0.9464\n",
            "Image 1992: PSNR = 41.3994, SSIM = 0.9873\n",
            "Image 1993: PSNR = 42.3622, SSIM = 0.9901\n",
            "Image 1994: PSNR = 37.9432, SSIM = 0.9821\n",
            "Image 1995: PSNR = 37.6130, SSIM = 0.9797\n",
            "Image 1996: PSNR = 36.5046, SSIM = 0.9817\n",
            "Image 1997: PSNR = 45.6439, SSIM = 0.9839\n",
            "Image 1998: PSNR = 43.9445, SSIM = 0.9942\n",
            "Image 1999: PSNR = 45.2957, SSIM = 0.9853\n"
          ]
        },
        {
          "output_type": "stream",
          "name": "stderr",
          "text": [
            "\rTesting: 100%|██████████| 250/250 [01:18<00:00,  3.17it/s]"
          ]
        },
        {
          "output_type": "stream",
          "name": "stdout",
          "text": [
            "\n",
            "Average PSNR: 39.7892\n",
            "Average SSIM: 0.9814\n",
            "Testing completed!\n",
            "Results saved to: /content/drive/MyDrive/Dataset/satellit_dataset/test_results.csv\n"
          ]
        },
        {
          "output_type": "stream",
          "name": "stderr",
          "text": [
            "\n"
          ]
        }
      ]
    }
  ]
}